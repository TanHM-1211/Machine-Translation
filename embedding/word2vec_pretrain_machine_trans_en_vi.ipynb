{
  "nbformat": 4,
  "nbformat_minor": 0,
  "metadata": {
    "colab": {
      "name": "word2vec_pretrain_machine_trans_en_vi",
      "provenance": [],
      "collapsed_sections": [
        "jc6Qcz1mVgU0",
        "PyqV90dPbhZ8",
        "UVTS-Oygd69T",
        "fIygUjtMpLj4",
        "2CaU_mvPpRqZ",
        "P4dbAh2tpwed"
      ],
      "toc_visible": true
    },
    "kernelspec": {
      "display_name": "Python 3",
      "name": "python3"
    }
  },
  "cells": [
    {
      "cell_type": "markdown",
      "metadata": {
        "id": "jc6Qcz1mVgU0"
      },
      "source": [
        "# Utils Function "
      ]
    },
    {
      "cell_type": "code",
      "metadata": {
        "id": "LNx6utr-OEZe"
      },
      "source": [
        "def get_sentence(file, sent_segment, tokenizer):\n",
        "    f = open(file, mode='r', encoding='utf8')\n",
        "    data = f.read()\n",
        "    f.close()\n",
        "    # remove @highlight in data\n",
        "    r = re.search('@highlight', data)\n",
        "    if r is not None:\n",
        "        data = data[:r.start(0)]\n",
        "\n",
        "    # print(data)\n",
        "    sentences = sent_segment(data)\n",
        "\n",
        "    if tokenizer is not None:\n",
        "        for sent in sentences:\n",
        "            if sent != '':\n",
        "                yield tokenizer(sent)\n",
        "    else:\n",
        "        for sent in sentences:\n",
        "            if sent != '':\n",
        "                yield '<s> ' + sent + ' </s>'\n",
        "\n",
        "class LineIter:\n",
        "    def __init__(self, link: list, sent_segment=None, tokenizer=None):\n",
        "        self.link = link\n",
        "        self.sent_segment = sent_segment\n",
        "        self.tokenizer = tokenizer\n",
        "\n",
        "    def __iter__(self):\n",
        "        for file in self.link:\n",
        "            for line in get_sentence(file, self.sent_segment, self.tokenizer):\n",
        "                yield line.split()"
      ],
      "execution_count": 1,
      "outputs": []
    },
    {
      "cell_type": "code",
      "metadata": {
        "id": "ppvB1cV0pB_7"
      },
      "source": [
        "import logging\n",
        "logging.basicConfig(\n",
        "    level=logging.INFO # allow INFO level messages to pass through the logger\n",
        "    )"
      ],
      "execution_count": 2,
      "outputs": []
    },
    {
      "cell_type": "markdown",
      "metadata": {
        "id": "PyqV90dPbhZ8"
      },
      "source": [
        "# CNN DailyMail for Word2vec\n"
      ]
    },
    {
      "cell_type": "markdown",
      "metadata": {
        "id": "UVTS-Oygd69T"
      },
      "source": [
        "## Preparing Data"
      ]
    },
    {
      "cell_type": "code",
      "metadata": {
        "colab": {
          "base_uri": "https://localhost:8080/"
        },
        "id": "iNaDzRYaLiAz",
        "outputId": "354f993e-98e1-4061-dfd3-c17e9a821886"
      },
      "source": [
        "!git clone https://github.com/abisee/cnn-dailymail.git"
      ],
      "execution_count": null,
      "outputs": [
        {
          "output_type": "stream",
          "text": [
            "Cloning into 'cnn-dailymail'...\n",
            "remote: Enumerating objects: 61, done.\u001b[K\n",
            "remote: Total 61 (delta 0), reused 0 (delta 0), pack-reused 61\u001b[K\n",
            "Unpacking objects: 100% (61/61), done.\n"
          ],
          "name": "stdout"
        }
      ]
    },
    {
      "cell_type": "code",
      "metadata": {
        "colab": {
          "base_uri": "https://localhost:8080/"
        },
        "id": "5ei6U7NULohf",
        "outputId": "8e1c66f8-f82e-42ad-c9d0-0dcc2a466a4a"
      },
      "source": [
        "from google.colab import drive\n",
        "drive.mount('/content/gdrive')"
      ],
      "execution_count": null,
      "outputs": [
        {
          "output_type": "stream",
          "text": [
            "Mounted at /content/gdrive\n"
          ],
          "name": "stdout"
        }
      ]
    },
    {
      "cell_type": "code",
      "metadata": {
        "colab": {
          "base_uri": "https://localhost:8080/"
        },
        "id": "C_tCgAJBMZWa",
        "outputId": "ef9bf649-481e-4359-d0b4-fd3784abe603"
      },
      "source": [
        "%cd 'cnn-dailymail'\n",
        "# !unzip  'finished_files.zip'"
      ],
      "execution_count": null,
      "outputs": [
        {
          "output_type": "stream",
          "text": [
            "/content/cnn-dailymail\n"
          ],
          "name": "stdout"
        }
      ]
    },
    {
      "cell_type": "code",
      "metadata": {
        "id": "Nz0N-Mz_MEOo"
      },
      "source": [
        "!cp '../gdrive/MyDrive/DeepLearning/MT/cnn_stories.tgz' './'\n",
        "!cp '../gdrive/MyDrive/DeepLearning/MT/dailymail_stories.tgz' './'"
      ],
      "execution_count": null,
      "outputs": []
    },
    {
      "cell_type": "code",
      "metadata": {
        "id": "K-Z9UwQKOMm9"
      },
      "source": [
        "!tar -xzf cnn_stories.tgz\n",
        "!tar -xzf dailymail_stories.tgz"
      ],
      "execution_count": null,
      "outputs": []
    },
    {
      "cell_type": "code",
      "metadata": {
        "id": "x0xRo6g5Vecr"
      },
      "source": [
        "from os import listdir\n",
        "from os.path import isfile, join\n",
        "cnn_path = 'cnn/stories'\n",
        "dm_path = 'dailymail/stories'\n",
        "cnn = [join(cnn_path, f) for f in listdir(cnn_path) if isfile(join(cnn_path, f))]\n",
        "dm = [join(dm_path, f) for f in listdir(dm_path) if isfile(join(dm_path, f))]\n",
        "link = cnn + dm"
      ],
      "execution_count": null,
      "outputs": []
    },
    {
      "cell_type": "code",
      "metadata": {
        "id": "glP6QFPCbSwp"
      },
      "source": [
        "from tqdm import tqdm\n",
        "import re"
      ],
      "execution_count": null,
      "outputs": []
    },
    {
      "cell_type": "code",
      "metadata": {
        "colab": {
          "base_uri": "https://localhost:8080/"
        },
        "id": "Dqy_WsHcDBQd",
        "outputId": "96ea8177-a9b5-4f26-b302-1314d1892e3e"
      },
      "source": [
        "import nltk\n",
        "nltk.download('punkt')\n",
        "from nltk.tokenize import sent_tokenize\n",
        "def token(tokentool=None):\n",
        "    print(tokentool('The allegations were first revealed in a story in Rolling Stone magazine that was initially widely circulated and then increasingly widely doubted... It is not credible, Goldberg wrote in the Los Angeles Times'))\n",
        "token(sent_tokenize)"
      ],
      "execution_count": null,
      "outputs": [
        {
          "output_type": "stream",
          "text": [
            "[nltk_data] Downloading package punkt to /root/nltk_data...\n",
            "[nltk_data]   Unzipping tokenizers/punkt.zip.\n",
            "['The allegations were first revealed in a story in Rolling Stone magazine that was initially widely circulated and then increasingly widely doubted...', 'It is not credible, Goldberg wrote in the Los Angeles Times']\n"
          ],
          "name": "stdout"
        }
      ]
    },
    {
      "cell_type": "code",
      "metadata": {
        "colab": {
          "base_uri": "https://localhost:8080/"
        },
        "id": "RN93ChNvcJvj",
        "outputId": "78740b3e-7d5f-4a59-f3d0-61362e5eeebd"
      },
      "source": [
        "!git clone https://github.com/TanHM-1211/Machine-Translation.git\n",
        "%cd Machine-Translation"
      ],
      "execution_count": null,
      "outputs": [
        {
          "output_type": "stream",
          "text": [
            "Cloning into 'Machine-Translation'...\n",
            "remote: Enumerating objects: 57, done.\u001b[K\n",
            "remote: Counting objects: 100% (57/57), done.\u001b[K\n",
            "remote: Compressing objects: 100% (35/35), done.\u001b[K\n",
            "remote: Total 57 (delta 19), reused 52 (delta 14), pack-reused 0\u001b[K\n",
            "Unpacking objects: 100% (57/57), done.\n",
            "/content/cnn-dailymail/Machine-Translation\n"
          ],
          "name": "stdout"
        }
      ]
    },
    {
      "cell_type": "code",
      "metadata": {
        "id": "M-2DTctlWGKw"
      },
      "source": [
        "from bpe.BPE_EN import BPE_EN\n",
        "bpe = BPE_EN(padding=False)"
      ],
      "execution_count": null,
      "outputs": []
    },
    {
      "cell_type": "code",
      "metadata": {
        "id": "maiAC2bVxHXU"
      },
      "source": [
        "link = ['../' + i for i in link]"
      ],
      "execution_count": null,
      "outputs": []
    },
    {
      "cell_type": "markdown",
      "metadata": {
        "id": "NyvLL73IeDUp"
      },
      "source": [
        "## Train space word2vec"
      ]
    },
    {
      "cell_type": "code",
      "metadata": {
        "id": "qgBgyVuleNc0",
        "colab": {
          "base_uri": "https://localhost:8080/"
        },
        "outputId": "56542d7c-2d8a-4fc2-c28b-89874c11374a"
      },
      "source": [
        "from gensim.models import word2vec\n",
        "from time import time"
      ],
      "execution_count": null,
      "outputs": [
        {
          "output_type": "stream",
          "text": [
            "INFO:summarizer.preprocessing.cleaner:'pattern' package not found; tag filters are not available for English\n"
          ],
          "name": "stderr"
        }
      ]
    },
    {
      "cell_type": "code",
      "metadata": {
        "id": "r7fisA79fUPU"
      },
      "source": [
        "N = 10\n",
        "EMBEDDING_SIZE = 128\n",
        "VOCAB_SIZE = 60000\n",
        "EPOCHS = 10\n",
        "DIR = '../../gdrive/MyDrive/DeepLearning/MT/space_en/word2vec.kv'"
      ],
      "execution_count": null,
      "outputs": []
    },
    {
      "cell_type": "code",
      "metadata": {
        "id": "w0H-IkuMezyN"
      },
      "source": [
        "lineIter = LineIter(link, sent_segment=sent_tokenize)"
      ],
      "execution_count": null,
      "outputs": []
    },
    {
      "cell_type": "code",
      "metadata": {
        "colab": {
          "base_uri": "https://localhost:8080/"
        },
        "id": "NT6NCzRMUw0s",
        "outputId": "1c1371f3-5987-46ef-fabe-6414e89a51ec"
      },
      "source": [
        "link[:2]"
      ],
      "execution_count": null,
      "outputs": [
        {
          "output_type": "execute_result",
          "data": {
            "text/plain": [
              "['../cnn/stories/962e0924971cea4b310d2c83e87df917b22c706c.story',\n",
              " '../cnn/stories/b8489841b83ca2e1f8396bb85b9e4533b9328055.story']"
            ]
          },
          "metadata": {
            "tags": []
          },
          "execution_count": 18
        }
      ]
    },
    {
      "cell_type": "code",
      "metadata": {
        "colab": {
          "base_uri": "https://localhost:8080/"
        },
        "id": "j9dM9pu4Uf0a",
        "outputId": "7a3accff-5a96-4fb4-b4c9-9bac11da8f5d"
      },
      "source": [
        "for i in lineIter:\n",
        "    print(i)\n",
        "    break"
      ],
      "execution_count": null,
      "outputs": [
        {
          "output_type": "stream",
          "text": [
            "['<s>', '(CNN)', '--', 'A', 'jet', 'crashed', 'Sunday', 'near', 'Freeport,', 'a', 'city', 'on', 'the', 'island', 'of', 'Grand', 'Bahama,', 'killing', 'all', 'nine', 'people', 'on', 'board,', 'authorities', 'said.', '</s>']\n"
          ],
          "name": "stdout"
        }
      ]
    },
    {
      "cell_type": "code",
      "metadata": {
        "id": "rFWKpwguf5KX"
      },
      "source": [
        "model = word2vec.Word2Vec(size=EMBEDDING_SIZE, window=10, iter=EPOCHS,\n",
        "                               min_count=N, compute_loss=True, seed=22)"
      ],
      "execution_count": null,
      "outputs": []
    },
    {
      "cell_type": "code",
      "metadata": {
        "colab": {
          "base_uri": "https://localhost:8080/"
        },
        "id": "zop1kqoSUKna",
        "outputId": "2ca1fda1-6d13-4972-8039-a6b95c731cca"
      },
      "source": [
        "# build vocab\n",
        "s1 = time()\n",
        "model.build_vocab(sentences=lineIter, progress_per=1000000)\n",
        "s2 = time()\n",
        "print(f'Vocab was built in {s2 - s1}')"
      ],
      "execution_count": null,
      "outputs": [
        {
          "output_type": "stream",
          "text": [
            "INFO:gensim.models.word2vec:collecting all words and their counts\n",
            "INFO:gensim.models.word2vec:PROGRESS: at sentence #0, processed 0 words, keeping 0 word types\n",
            "INFO:gensim.models.word2vec:PROGRESS: at sentence #1000000, processed 22070986 words, keeping 497695 word types\n",
            "INFO:gensim.models.word2vec:PROGRESS: at sentence #2000000, processed 44128369 words, keeping 723535 word types\n",
            "INFO:gensim.models.word2vec:PROGRESS: at sentence #3000000, processed 66240292 words, keeping 897312 word types\n",
            "INFO:gensim.models.word2vec:PROGRESS: at sentence #4000000, processed 93926542 words, keeping 1243052 word types\n",
            "INFO:gensim.models.word2vec:PROGRESS: at sentence #5000000, processed 121684438 words, keeping 1481860 word types\n",
            "INFO:gensim.models.word2vec:PROGRESS: at sentence #6000000, processed 149443702 words, keeping 1682222 word types\n",
            "INFO:gensim.models.word2vec:PROGRESS: at sentence #7000000, processed 177236811 words, keeping 1860612 word types\n",
            "INFO:gensim.models.word2vec:PROGRESS: at sentence #8000000, processed 205037158 words, keeping 2019842 word types\n",
            "INFO:gensim.models.word2vec:collected 2153005 word types from a corpus of 230124973 raw words and 8901974 sentences\n",
            "INFO:gensim.models.word2vec:Loading a fresh vocabulary\n",
            "INFO:gensim.models.word2vec:effective_min_count=10 retains 323912 unique words (15% of original 2153005, drops 1829093)\n",
            "INFO:gensim.models.word2vec:effective_min_count=10 leaves 226287036 word corpus (98% of original 230124973, drops 3837937)\n",
            "INFO:gensim.models.word2vec:deleting the raw counts dictionary of 2153005 items\n",
            "INFO:gensim.models.word2vec:sample=0.001 downsamples 40 most-common words\n",
            "INFO:gensim.models.word2vec:downsampling leaves estimated 173744435 word corpus (76.8% of prior 226287036)\n",
            "INFO:gensim.models.base_any2vec:estimated required memory for 323912 words and 128 dimensions: 493641888 bytes\n",
            "INFO:gensim.models.word2vec:resetting layer weights\n"
          ],
          "name": "stderr"
        },
        {
          "output_type": "stream",
          "text": [
            "Vocab was built in 557.7005567550659\n"
          ],
          "name": "stdout"
        }
      ]
    },
    {
      "cell_type": "code",
      "metadata": {
        "id": "0ezsuHI6UOxV",
        "colab": {
          "base_uri": "https://localhost:8080/"
        },
        "outputId": "96a63937-c750-4f87-d3f8-fb8819d6c717"
      },
      "source": [
        "model.train(lineIter, total_examples=model.corpus_count, epochs=model.iter, report_delay=300)"
      ],
      "execution_count": null,
      "outputs": [
        {
          "output_type": "stream",
          "text": [
            "/usr/local/lib/python3.6/dist-packages/ipykernel_launcher.py:1: DeprecationWarning: Call to deprecated `iter` (Attribute will be removed in 4.0.0, use self.epochs instead).\n",
            "  \"\"\"Entry point for launching an IPython kernel.\n",
            "INFO:gensim.models.base_any2vec:training model with 3 workers on 323912 vocabulary and 128 features, using sg=0 hs=0 sample=0.001 negative=5 window=10\n",
            "INFO:gensim.models.base_any2vec:EPOCH 1 - PROGRESS: at 0.13% examples, 189520 words/s, in_qsize 0, out_qsize 0\n",
            "INFO:gensim.models.base_any2vec:EPOCH 1 - PROGRESS: at 37.29% examples, 186374 words/s, in_qsize 0, out_qsize 0\n",
            "INFO:gensim.models.base_any2vec:EPOCH 1 - PROGRESS: at 69.10% examples, 192576 words/s, in_qsize 0, out_qsize 0\n",
            "INFO:gensim.models.base_any2vec:worker thread finished; awaiting finish of 2 more threads\n",
            "INFO:gensim.models.base_any2vec:worker thread finished; awaiting finish of 1 more threads\n",
            "INFO:gensim.models.base_any2vec:worker thread finished; awaiting finish of 0 more threads\n",
            "INFO:gensim.models.base_any2vec:EPOCH - 1 : training on 230124973 raw words (173748517 effective words) took 892.3s, 194712 effective words/s\n",
            "INFO:gensim.models.base_any2vec:EPOCH 2 - PROGRESS: at 0.13% examples, 192001 words/s, in_qsize 0, out_qsize 0\n",
            "INFO:gensim.models.base_any2vec:EPOCH 2 - PROGRESS: at 37.72% examples, 189080 words/s, in_qsize 0, out_qsize 0\n",
            "INFO:gensim.models.base_any2vec:EPOCH 2 - PROGRESS: at 69.64% examples, 194255 words/s, in_qsize 0, out_qsize 0\n",
            "INFO:gensim.models.base_any2vec:worker thread finished; awaiting finish of 2 more threads\n",
            "INFO:gensim.models.base_any2vec:worker thread finished; awaiting finish of 1 more threads\n",
            "INFO:gensim.models.base_any2vec:worker thread finished; awaiting finish of 0 more threads\n",
            "INFO:gensim.models.base_any2vec:EPOCH - 2 : training on 230124973 raw words (173745617 effective words) took 888.2s, 195607 effective words/s\n",
            "INFO:gensim.models.base_any2vec:EPOCH 3 - PROGRESS: at 0.13% examples, 186353 words/s, in_qsize 0, out_qsize 0\n",
            "INFO:gensim.models.base_any2vec:EPOCH 3 - PROGRESS: at 37.67% examples, 188725 words/s, in_qsize 0, out_qsize 0\n",
            "INFO:gensim.models.base_any2vec:EPOCH 3 - PROGRESS: at 69.61% examples, 194157 words/s, in_qsize 0, out_qsize 0\n",
            "INFO:gensim.models.base_any2vec:worker thread finished; awaiting finish of 2 more threads\n",
            "INFO:gensim.models.base_any2vec:worker thread finished; awaiting finish of 1 more threads\n",
            "INFO:gensim.models.base_any2vec:worker thread finished; awaiting finish of 0 more threads\n",
            "INFO:gensim.models.base_any2vec:EPOCH - 3 : training on 230124973 raw words (173741449 effective words) took 887.9s, 195667 effective words/s\n",
            "INFO:gensim.models.base_any2vec:EPOCH 4 - PROGRESS: at 0.13% examples, 186750 words/s, in_qsize 0, out_qsize 0\n",
            "INFO:gensim.models.base_any2vec:EPOCH 4 - PROGRESS: at 37.55% examples, 187969 words/s, in_qsize 0, out_qsize 0\n",
            "INFO:gensim.models.base_any2vec:EPOCH 4 - PROGRESS: at 69.27% examples, 193099 words/s, in_qsize 0, out_qsize 0\n",
            "INFO:gensim.models.base_any2vec:worker thread finished; awaiting finish of 2 more threads\n",
            "INFO:gensim.models.base_any2vec:worker thread finished; awaiting finish of 1 more threads\n",
            "INFO:gensim.models.base_any2vec:worker thread finished; awaiting finish of 0 more threads\n",
            "INFO:gensim.models.base_any2vec:EPOCH - 4 : training on 230124973 raw words (173741780 effective words) took 892.7s, 194630 effective words/s\n",
            "INFO:gensim.models.base_any2vec:EPOCH 5 - PROGRESS: at 0.13% examples, 187843 words/s, in_qsize 0, out_qsize 0\n",
            "INFO:gensim.models.base_any2vec:EPOCH 5 - PROGRESS: at 37.76% examples, 189293 words/s, in_qsize 0, out_qsize 0\n",
            "INFO:gensim.models.base_any2vec:EPOCH 5 - PROGRESS: at 69.83% examples, 194837 words/s, in_qsize 0, out_qsize 0\n",
            "INFO:gensim.models.base_any2vec:worker thread finished; awaiting finish of 2 more threads\n",
            "INFO:gensim.models.base_any2vec:worker thread finished; awaiting finish of 1 more threads\n",
            "INFO:gensim.models.base_any2vec:worker thread finished; awaiting finish of 0 more threads\n",
            "INFO:gensim.models.base_any2vec:EPOCH - 5 : training on 230124973 raw words (173746092 effective words) took 884.3s, 196470 effective words/s\n",
            "INFO:gensim.models.base_any2vec:EPOCH 6 - PROGRESS: at 0.13% examples, 193447 words/s, in_qsize 0, out_qsize 0\n",
            "INFO:gensim.models.base_any2vec:EPOCH 6 - PROGRESS: at 37.73% examples, 189121 words/s, in_qsize 0, out_qsize 0\n",
            "INFO:gensim.models.base_any2vec:EPOCH 6 - PROGRESS: at 69.59% examples, 194118 words/s, in_qsize 0, out_qsize 0\n",
            "INFO:gensim.models.base_any2vec:worker thread finished; awaiting finish of 2 more threads\n",
            "INFO:gensim.models.base_any2vec:worker thread finished; awaiting finish of 1 more threads\n",
            "INFO:gensim.models.base_any2vec:worker thread finished; awaiting finish of 0 more threads\n",
            "INFO:gensim.models.base_any2vec:EPOCH - 6 : training on 230124973 raw words (173747678 effective words) took 886.4s, 196014 effective words/s\n",
            "INFO:gensim.models.base_any2vec:EPOCH 7 - PROGRESS: at 0.13% examples, 193136 words/s, in_qsize 1, out_qsize 0\n",
            "INFO:gensim.models.base_any2vec:EPOCH 7 - PROGRESS: at 37.87% examples, 190005 words/s, in_qsize 0, out_qsize 0\n",
            "INFO:gensim.models.base_any2vec:EPOCH 7 - PROGRESS: at 69.74% examples, 194576 words/s, in_qsize 0, out_qsize 0\n",
            "INFO:gensim.models.base_any2vec:worker thread finished; awaiting finish of 2 more threads\n",
            "INFO:gensim.models.base_any2vec:worker thread finished; awaiting finish of 1 more threads\n",
            "INFO:gensim.models.base_any2vec:worker thread finished; awaiting finish of 0 more threads\n",
            "INFO:gensim.models.base_any2vec:EPOCH - 7 : training on 230124973 raw words (173742463 effective words) took 889.8s, 195264 effective words/s\n",
            "INFO:gensim.models.base_any2vec:EPOCH 8 - PROGRESS: at 0.13% examples, 190893 words/s, in_qsize 0, out_qsize 0\n",
            "INFO:gensim.models.base_any2vec:EPOCH 8 - PROGRESS: at 37.63% examples, 188516 words/s, in_qsize 0, out_qsize 0\n",
            "INFO:gensim.models.base_any2vec:EPOCH 8 - PROGRESS: at 69.36% examples, 193386 words/s, in_qsize 0, out_qsize 0\n",
            "INFO:gensim.models.base_any2vec:worker thread finished; awaiting finish of 2 more threads\n",
            "INFO:gensim.models.base_any2vec:worker thread finished; awaiting finish of 1 more threads\n",
            "INFO:gensim.models.base_any2vec:worker thread finished; awaiting finish of 0 more threads\n",
            "INFO:gensim.models.base_any2vec:EPOCH - 8 : training on 230124973 raw words (173748014 effective words) took 891.5s, 194903 effective words/s\n",
            "INFO:gensim.models.base_any2vec:EPOCH 9 - PROGRESS: at 0.13% examples, 185307 words/s, in_qsize 0, out_qsize 0\n",
            "INFO:gensim.models.base_any2vec:EPOCH 9 - PROGRESS: at 37.49% examples, 187611 words/s, in_qsize 0, out_qsize 0\n",
            "INFO:gensim.models.base_any2vec:EPOCH 9 - PROGRESS: at 69.25% examples, 193043 words/s, in_qsize 0, out_qsize 0\n",
            "INFO:gensim.models.base_any2vec:worker thread finished; awaiting finish of 2 more threads\n",
            "INFO:gensim.models.base_any2vec:worker thread finished; awaiting finish of 1 more threads\n",
            "INFO:gensim.models.base_any2vec:worker thread finished; awaiting finish of 0 more threads\n",
            "INFO:gensim.models.base_any2vec:EPOCH - 9 : training on 230124973 raw words (173740544 effective words) took 897.4s, 193614 effective words/s\n",
            "INFO:gensim.models.base_any2vec:EPOCH 10 - PROGRESS: at 0.13% examples, 181824 words/s, in_qsize 0, out_qsize 0\n",
            "INFO:gensim.models.base_any2vec:EPOCH 10 - PROGRESS: at 37.67% examples, 188740 words/s, in_qsize 0, out_qsize 0\n",
            "INFO:gensim.models.base_any2vec:EPOCH 10 - PROGRESS: at 69.24% examples, 193004 words/s, in_qsize 0, out_qsize 0\n",
            "INFO:gensim.models.base_any2vec:worker thread finished; awaiting finish of 2 more threads\n",
            "INFO:gensim.models.base_any2vec:worker thread finished; awaiting finish of 1 more threads\n",
            "INFO:gensim.models.base_any2vec:worker thread finished; awaiting finish of 0 more threads\n",
            "INFO:gensim.models.base_any2vec:EPOCH - 10 : training on 230124973 raw words (173742452 effective words) took 895.0s, 194129 effective words/s\n",
            "INFO:gensim.models.base_any2vec:training on a 2301249730 raw words (1737444606 effective words) took 8905.6s, 195096 effective words/s\n"
          ],
          "name": "stderr"
        },
        {
          "output_type": "execute_result",
          "data": {
            "text/plain": [
              "(1737444606, 2301249730)"
            ]
          },
          "metadata": {
            "tags": []
          },
          "execution_count": 22
        }
      ]
    },
    {
      "cell_type": "code",
      "metadata": {
        "id": "pkU9j0_fD_5D",
        "colab": {
          "base_uri": "https://localhost:8080/"
        },
        "outputId": "db43a55d-8550-4837-fcf0-6546355c9a3f"
      },
      "source": [
        "print(model.n_similarity('football', 'stadium'))\n",
        "print(model.n_similarity('football', 'music'))\n",
        "print(model.n_similarity('cat', 'dog'))\n",
        "model.get_latest_training_loss()"
      ],
      "execution_count": null,
      "outputs": [
        {
          "output_type": "stream",
          "text": [
            "0.74665844\n",
            "0.49071336\n",
            "0.14459415\n"
          ],
          "name": "stdout"
        },
        {
          "output_type": "stream",
          "text": [
            "/usr/local/lib/python3.6/dist-packages/ipykernel_launcher.py:1: DeprecationWarning: Call to deprecated `n_similarity` (Method will be removed in 4.0.0, use self.wv.n_similarity() instead).\n",
            "  \"\"\"Entry point for launching an IPython kernel.\n",
            "/usr/local/lib/python3.6/dist-packages/gensim/matutils.py:737: FutureWarning: Conversion of the second argument of issubdtype from `int` to `np.signedinteger` is deprecated. In future, it will be treated as `np.int64 == np.dtype(int).type`.\n",
            "  if np.issubdtype(vec.dtype, np.int):\n",
            "/usr/local/lib/python3.6/dist-packages/ipykernel_launcher.py:2: DeprecationWarning: Call to deprecated `n_similarity` (Method will be removed in 4.0.0, use self.wv.n_similarity() instead).\n",
            "  \n",
            "/usr/local/lib/python3.6/dist-packages/ipykernel_launcher.py:3: DeprecationWarning: Call to deprecated `n_similarity` (Method will be removed in 4.0.0, use self.wv.n_similarity() instead).\n",
            "  This is separate from the ipykernel package so we can avoid doing imports until\n"
          ],
          "name": "stderr"
        },
        {
          "output_type": "execute_result",
          "data": {
            "text/plain": [
              "0.0"
            ]
          },
          "metadata": {
            "tags": []
          },
          "execution_count": 23
        }
      ]
    },
    {
      "cell_type": "code",
      "metadata": {
        "id": "iyUNd9fYDfeL",
        "colab": {
          "base_uri": "https://localhost:8080/"
        },
        "outputId": "c90afafb-2476-4552-e630-dca0f4d07456"
      },
      "source": [
        "model.wv.save(DIR)"
      ],
      "execution_count": null,
      "outputs": [
        {
          "output_type": "stream",
          "text": [
            "INFO:gensim.utils:saving Word2VecKeyedVectors object under ../../gdrive/MyDrive/DeepLearning/MT/space_en/word2vec.kv, separately None\n",
            "INFO:gensim.utils:storing np array 'vectors' to ../../gdrive/MyDrive/DeepLearning/MT/space_en/word2vec.kv.vectors.npy\n",
            "INFO:gensim.utils:not storing attribute vectors_norm\n",
            "INFO:gensim.utils:saved ../../gdrive/MyDrive/DeepLearning/MT/space_en/word2vec.kv\n"
          ],
          "name": "stderr"
        }
      ]
    },
    {
      "cell_type": "code",
      "metadata": {
        "colab": {
          "base_uri": "https://localhost:8080/"
        },
        "id": "YbORb9wQu7lb",
        "outputId": "6b1a5ad3-c649-46c2-f1db-fd2b13fc1ed0"
      },
      "source": [
        "model.wv['football']"
      ],
      "execution_count": null,
      "outputs": [
        {
          "output_type": "execute_result",
          "data": {
            "text/plain": [
              "array([-9.7590822e-01,  3.8036153e+00,  6.9648600e-01,  3.7148672e-01,\n",
              "        2.2378893e+00, -1.4140592e+00, -2.8256812e+00, -4.0949845e+00,\n",
              "       -5.6873918e-01,  2.2923908e+00, -5.3688502e-01,  3.0435446e-01,\n",
              "       -1.1201771e+00, -2.4728308e+00, -5.2242222e+00, -9.8943681e-01,\n",
              "       -2.1075423e+00, -1.3357676e+00,  1.5095940e-01, -2.5818129e+00,\n",
              "       -7.7626598e-01, -1.4187355e+00,  1.2761979e+00,  1.0963104e+00,\n",
              "        1.2149917e+00,  7.8583080e-01, -4.1722913e+00, -1.9624556e+00,\n",
              "        2.5844502e+00,  9.5476890e-01,  1.5299875e+00,  1.0961572e+00,\n",
              "       -1.6290165e+00,  3.7860224e+00, -2.9448275e-03, -1.9659894e+00,\n",
              "       -3.0364484e-01, -2.1589589e+00,  1.5922133e+00, -2.4424024e-01,\n",
              "        1.7634314e+00, -1.6875887e+00, -6.3435917e+00,  4.4455889e-01,\n",
              "       -5.7625151e-01,  1.1510919e+00,  3.2200816e-01, -1.5640926e+00,\n",
              "       -6.6915178e-01,  2.9786596e+00, -3.8710158e+00, -7.5155044e-01,\n",
              "       -2.3971994e+00, -4.1999406e-01, -2.3999141e-01, -2.1911139e+00,\n",
              "       -4.1153774e+00, -2.3904009e+00,  2.5206945e+00, -5.3057280e+00,\n",
              "        3.4742866e+00,  2.6616237e-01, -2.6647098e+00, -7.0082998e-01,\n",
              "       -2.0725944e+00, -2.6381330e+00, -1.5293212e+00, -1.0057987e+00,\n",
              "       -1.3030936e-01, -2.5826654e+00,  6.8004894e+00,  5.5085430e+00,\n",
              "       -2.4464941e+00, -1.0344541e+00, -1.5800582e-01, -6.7573369e-01,\n",
              "        3.7933034e-01, -3.2277095e+00,  4.7977400e+00, -3.5127997e+00,\n",
              "       -1.7386645e-02,  4.6599016e+00,  2.4904270e+00,  1.3174638e+00,\n",
              "        1.4928411e-02,  9.5761138e-01,  2.1345137e-02,  1.9865441e+00,\n",
              "       -2.2614791e+00, -6.0553460e+00,  1.3199872e+00, -3.7744427e+00,\n",
              "       -4.3937790e-01,  2.8338835e+00,  3.0220151e+00, -9.2774518e-02,\n",
              "        6.6889465e-01, -1.2100798e+00,  6.6626465e-01,  4.9210459e-01,\n",
              "        2.7342215e+00,  2.7287016e+00, -1.2845057e+00,  4.0935068e+00,\n",
              "        7.6727968e-01, -2.8070855e+00, -6.4907730e-02, -2.6619580e+00,\n",
              "       -2.6582031e+00,  4.1973333e+00, -1.1573050e+00, -2.5182080e-01,\n",
              "       -4.6531243e+00,  1.5962319e+00,  2.4772489e+00, -3.4338751e-01,\n",
              "       -1.7059220e+00, -9.8928970e-01, -2.9145894e+00, -3.4025905e+00,\n",
              "        1.1488476e+00, -2.1314077e+00, -1.5323560e+00, -3.4644341e+00,\n",
              "        6.3913983e-01,  2.3199675e+00, -3.0650885e+00,  1.0189193e+00],\n",
              "      dtype=float32)"
            ]
          },
          "metadata": {
            "tags": []
          },
          "execution_count": 25
        }
      ]
    },
    {
      "cell_type": "markdown",
      "metadata": {
        "id": "QmVVSQcVcWW4"
      },
      "source": [
        "## Train bpe word2vec"
      ]
    },
    {
      "cell_type": "code",
      "metadata": {
        "id": "WuEN_VjFeKng"
      },
      "source": [
        "import json\n",
        "from gensim.models import word2vec\n",
        "from time import time"
      ],
      "execution_count": null,
      "outputs": []
    },
    {
      "cell_type": "code",
      "metadata": {
        "id": "HcDxhVlO9VxV"
      },
      "source": [
        "vocab = json.load(open('./bpe/resources/vocab_en.json', 'r', encoding='utf8'))\n",
        "vocab = {k: 2 for k, v in vocab.items()}"
      ],
      "execution_count": null,
      "outputs": []
    },
    {
      "cell_type": "code",
      "metadata": {
        "id": "5-ZYecd89SIn"
      },
      "source": [
        "N = 2\n",
        "EMBEDDING_SIZE = 128\n",
        "VOCAB_SIZE = len(vocab)\n",
        "EPOCHS = 10\n",
        "DIR = '../../gdrive/MyDrive/DeepLearning/MT/bpe_en/word2vec.kv'"
      ],
      "execution_count": null,
      "outputs": []
    },
    {
      "cell_type": "code",
      "metadata": {
        "colab": {
          "base_uri": "https://localhost:8080/"
        },
        "id": "Q8-L_z5qQpoK",
        "outputId": "5e9e7b72-6e4c-4f34-88ca-eb456a80b8ae"
      },
      "source": [
        "!ls"
      ],
      "execution_count": null,
      "outputs": [
        {
          "output_type": "stream",
          "text": [
            "bpe  bpe_test.py  embedding  model  model_test.py\n"
          ],
          "name": "stdout"
        }
      ]
    },
    {
      "cell_type": "code",
      "metadata": {
        "id": "H6zl7UYh9ztZ"
      },
      "source": [
        "lineIter = LineIter(link, sent_segment=sent_tokenize, tokenizer=bpe.tokenizer)"
      ],
      "execution_count": null,
      "outputs": []
    },
    {
      "cell_type": "code",
      "metadata": {
        "colab": {
          "base_uri": "https://localhost:8080/"
        },
        "id": "AgTT1EbMwRKm",
        "outputId": "f17776a7-b29b-4fae-cfb6-ad490329d443"
      },
      "source": [
        "for i in lineIter:\n",
        "    print(i)\n",
        "    break"
      ],
      "execution_count": null,
      "outputs": [
        {
          "output_type": "stream",
          "text": [
            "['<s>', '(', 'CNN', ')', 'Ġ--', 'ĠA', 'Ġjet', 'Ġcrashed', 'ĠSunday', 'Ġnear', 'ĠFree', 'port', ',', 'Ġa', 'Ġcity', 'Ġon', 'Ġthe', 'Ġisland', 'Ġof', 'ĠGrand', 'ĠBah', 'ama', ',', 'Ġkilling', 'Ġall', 'Ġnine', 'Ġpeople', 'Ġon', 'Ġboard', ',', 'Ġauthorities', 'Ġsaid', '.', '</s>']\n"
          ],
          "name": "stdout"
        }
      ]
    },
    {
      "cell_type": "code",
      "metadata": {
        "id": "xE6MQq6e90aR",
        "colab": {
          "base_uri": "https://localhost:8080/"
        },
        "outputId": "134d8e45-7213-4040-f145-6dc5ae9f65f4"
      },
      "source": [
        "model = word2vec.Word2Vec(size=EMBEDDING_SIZE, window=10, iter=EPOCHS,\n",
        "                               min_count=N, compute_loss=True, seed=22)\n",
        "s1 = time()\n",
        "model.build_vocab_from_freq(word_freq=vocab)\n",
        "model.build_vocab(sentences=lineIter, progress_per=1000000, update=True)\n",
        "s2 = time()"
      ],
      "execution_count": null,
      "outputs": [
        {
          "output_type": "stream",
          "text": [
            "INFO:gensim.models.base_any2vec:Processing provided word frequencies\n",
            "INFO:gensim.models.base_any2vec:collected 50265 different raw word, with total frequency of 100530\n",
            "INFO:gensim.models.word2vec:Loading a fresh vocabulary\n",
            "INFO:gensim.models.word2vec:effective_min_count=2 retains 50265 unique words (100% of original 50265, drops 0)\n",
            "INFO:gensim.models.word2vec:effective_min_count=2 leaves 100530 word corpus (100% of original 100530, drops 0)\n",
            "INFO:gensim.models.word2vec:deleting the raw counts dictionary of 50265 items\n",
            "INFO:gensim.models.word2vec:sample=0.001 downsamples 0 most-common words\n",
            "INFO:gensim.models.word2vec:downsampling leaves estimated 100530 word corpus (100.0% of prior 100530)\n",
            "INFO:gensim.models.base_any2vec:estimated required memory for 50265 words and 128 dimensions: 76603860 bytes\n",
            "INFO:gensim.models.word2vec:resetting layer weights\n",
            "INFO:gensim.models.word2vec:collecting all words and their counts\n",
            "INFO:gensim.models.word2vec:PROGRESS: at sentence #0, processed 0 words, keeping 0 word types\n",
            "INFO:gensim.models.word2vec:PROGRESS: at sentence #1000000, processed 27156760 words, keeping 46386 word types\n",
            "INFO:gensim.models.word2vec:PROGRESS: at sentence #2000000, processed 54285795 words, keeping 47204 word types\n",
            "INFO:gensim.models.word2vec:PROGRESS: at sentence #3000000, processed 81479850 words, keeping 47530 word types\n",
            "INFO:gensim.models.word2vec:PROGRESS: at sentence #4000000, processed 115425233 words, keeping 47941 word types\n",
            "INFO:gensim.models.word2vec:PROGRESS: at sentence #5000000, processed 149440263 words, keeping 48117 word types\n",
            "INFO:gensim.models.word2vec:PROGRESS: at sentence #6000000, processed 183476004 words, keeping 48238 word types\n",
            "INFO:gensim.models.word2vec:PROGRESS: at sentence #7000000, processed 217569611 words, keeping 48335 word types\n",
            "INFO:gensim.models.word2vec:PROGRESS: at sentence #8000000, processed 251653118 words, keeping 48418 word types\n",
            "INFO:gensim.models.word2vec:collected 48470 word types from a corpus of 282408221 raw words and 8901974 sentences\n",
            "INFO:gensim.models.word2vec:Updating model with new vocabulary\n",
            "INFO:gensim.models.word2vec:New added 48052 unique words (49% of original 96522) and increased the count of 48052 pre-existing words (49% of original 96522)\n",
            "INFO:gensim.models.word2vec:deleting the raw counts dictionary of 48470 items\n",
            "INFO:gensim.models.word2vec:sample=0.001 downsamples 78 most-common words\n",
            "INFO:gensim.models.word2vec:downsampling leaves estimated 431181553 word corpus (152.7% of prior 282407803)\n",
            "INFO:gensim.models.base_any2vec:estimated required memory for 96104 words and 128 dimensions: 146462496 bytes\n",
            "INFO:gensim.models.word2vec:updating layer weights\n"
          ],
          "name": "stderr"
        }
      ]
    },
    {
      "cell_type": "code",
      "metadata": {
        "colab": {
          "base_uri": "https://localhost:8080/"
        },
        "id": "zisjj1tTyLh1",
        "outputId": "5fff768b-b85c-4bb0-e9c9-20a45d1416e8"
      },
      "source": [
        "len(model.wv.vocab)"
      ],
      "execution_count": null,
      "outputs": [
        {
          "output_type": "execute_result",
          "data": {
            "text/plain": [
              "50265"
            ]
          },
          "metadata": {
            "tags": []
          },
          "execution_count": 24
        }
      ]
    },
    {
      "cell_type": "code",
      "metadata": {
        "id": "XRUZ8EBnxkOw",
        "colab": {
          "base_uri": "https://localhost:8080/",
          "height": 1000
        },
        "outputId": "adb10abe-6376-44bd-e003-62e27543c850"
      },
      "source": [
        "# print(f'Vocab was built in {s2 - s1}')\n",
        "model.train(lineIter, total_examples=model.corpus_count, epochs=model.iter, report_delay=300)"
      ],
      "execution_count": null,
      "outputs": [
        {
          "output_type": "stream",
          "text": [
            "/usr/local/lib/python3.6/dist-packages/ipykernel_launcher.py:2: DeprecationWarning: Call to deprecated `iter` (Attribute will be removed in 4.0.0, use self.epochs instead).\n",
            "  \n",
            "INFO:gensim.models.base_any2vec:training model with 3 workers on 50265 vocabulary and 128 features, using sg=0 hs=0 sample=0.001 negative=5 window=10\n",
            "INFO:gensim.models.base_any2vec:EPOCH 1 - PROGRESS: at 0.09% examples, 154479 words/s, in_qsize 0, out_qsize 0\n",
            "INFO:gensim.models.base_any2vec:EPOCH 1 - PROGRESS: at 26.21% examples, 158485 words/s, in_qsize 0, out_qsize 0\n",
            "INFO:gensim.models.base_any2vec:EPOCH 1 - PROGRESS: at 48.89% examples, 160727 words/s, in_qsize 0, out_qsize 0\n",
            "INFO:gensim.models.base_any2vec:EPOCH 1 - PROGRESS: at 70.04% examples, 161786 words/s, in_qsize 0, out_qsize 0\n",
            "INFO:gensim.models.base_any2vec:EPOCH 1 - PROGRESS: at 91.33% examples, 162669 words/s, in_qsize 0, out_qsize 0\n",
            "INFO:gensim.models.base_any2vec:worker thread finished; awaiting finish of 2 more threads\n",
            "INFO:gensim.models.base_any2vec:worker thread finished; awaiting finish of 1 more threads\n",
            "INFO:gensim.models.base_any2vec:worker thread finished; awaiting finish of 0 more threads\n",
            "INFO:gensim.models.base_any2vec:EPOCH - 1 : training on 282408221 raw words (215592386 effective words) took 1322.7s, 162998 effective words/s\n",
            "INFO:gensim.models.base_any2vec:EPOCH 2 - PROGRESS: at 0.09% examples, 157080 words/s, in_qsize 0, out_qsize 0\n",
            "INFO:gensim.models.base_any2vec:EPOCH 2 - PROGRESS: at 26.27% examples, 158878 words/s, in_qsize 0, out_qsize 0\n",
            "INFO:gensim.models.base_any2vec:EPOCH 2 - PROGRESS: at 49.03% examples, 161281 words/s, in_qsize 0, out_qsize 0\n",
            "INFO:gensim.models.base_any2vec:EPOCH 2 - PROGRESS: at 70.25% examples, 162352 words/s, in_qsize 0, out_qsize 0\n",
            "INFO:gensim.models.base_any2vec:EPOCH 2 - PROGRESS: at 91.30% examples, 162621 words/s, in_qsize 0, out_qsize 0\n",
            "INFO:gensim.models.base_any2vec:worker thread finished; awaiting finish of 2 more threads\n",
            "INFO:gensim.models.base_any2vec:worker thread finished; awaiting finish of 1 more threads\n",
            "INFO:gensim.models.base_any2vec:worker thread finished; awaiting finish of 0 more threads\n",
            "INFO:gensim.models.base_any2vec:EPOCH - 2 : training on 282408221 raw words (215587908 effective words) took 1325.9s, 162593 effective words/s\n",
            "INFO:gensim.models.base_any2vec:EPOCH 3 - PROGRESS: at 0.09% examples, 154289 words/s, in_qsize 0, out_qsize 0\n",
            "INFO:gensim.models.base_any2vec:EPOCH 3 - PROGRESS: at 25.95% examples, 156862 words/s, in_qsize 0, out_qsize 0\n",
            "INFO:gensim.models.base_any2vec:EPOCH 3 - PROGRESS: at 48.41% examples, 158872 words/s, in_qsize 0, out_qsize 0\n",
            "INFO:gensim.models.base_any2vec:EPOCH 3 - PROGRESS: at 69.47% examples, 160336 words/s, in_qsize 0, out_qsize 0\n",
            "INFO:gensim.models.base_any2vec:EPOCH 3 - PROGRESS: at 90.62% examples, 161294 words/s, in_qsize 0, out_qsize 0\n",
            "INFO:gensim.models.base_any2vec:worker thread finished; awaiting finish of 2 more threads\n",
            "INFO:gensim.models.base_any2vec:worker thread finished; awaiting finish of 1 more threads\n",
            "INFO:gensim.models.base_any2vec:worker thread finished; awaiting finish of 0 more threads\n",
            "INFO:gensim.models.base_any2vec:EPOCH - 3 : training on 282408221 raw words (215595568 effective words) took 1333.8s, 161646 effective words/s\n",
            "INFO:gensim.models.base_any2vec:EPOCH 4 - PROGRESS: at 0.09% examples, 157341 words/s, in_qsize 0, out_qsize 0\n",
            "INFO:gensim.models.base_any2vec:EPOCH 4 - PROGRESS: at 26.38% examples, 159513 words/s, in_qsize 0, out_qsize 0\n",
            "INFO:gensim.models.base_any2vec:EPOCH 4 - PROGRESS: at 48.96% examples, 160999 words/s, in_qsize 0, out_qsize 0\n",
            "INFO:gensim.models.base_any2vec:EPOCH 4 - PROGRESS: at 70.17% examples, 162131 words/s, in_qsize 0, out_qsize 0\n",
            "INFO:gensim.models.base_any2vec:EPOCH 4 - PROGRESS: at 91.31% examples, 162644 words/s, in_qsize 0, out_qsize 0\n",
            "INFO:gensim.models.base_any2vec:worker thread finished; awaiting finish of 2 more threads\n",
            "INFO:gensim.models.base_any2vec:worker thread finished; awaiting finish of 1 more threads\n",
            "INFO:gensim.models.base_any2vec:worker thread finished; awaiting finish of 0 more threads\n",
            "INFO:gensim.models.base_any2vec:EPOCH - 4 : training on 282408221 raw words (215596355 effective words) took 1323.7s, 162874 effective words/s\n",
            "INFO:gensim.models.base_any2vec:EPOCH 5 - PROGRESS: at 0.09% examples, 156178 words/s, in_qsize 0, out_qsize 0\n",
            "INFO:gensim.models.base_any2vec:EPOCH 5 - PROGRESS: at 26.06% examples, 157590 words/s, in_qsize 0, out_qsize 0\n",
            "INFO:gensim.models.base_any2vec:EPOCH 5 - PROGRESS: at 48.49% examples, 159176 words/s, in_qsize 0, out_qsize 0\n",
            "INFO:gensim.models.base_any2vec:EPOCH 5 - PROGRESS: at 69.59% examples, 160625 words/s, in_qsize 0, out_qsize 0\n",
            "INFO:gensim.models.base_any2vec:EPOCH 5 - PROGRESS: at 90.67% examples, 161399 words/s, in_qsize 0, out_qsize 0\n",
            "INFO:gensim.models.base_any2vec:worker thread finished; awaiting finish of 2 more threads\n",
            "INFO:gensim.models.base_any2vec:worker thread finished; awaiting finish of 1 more threads\n",
            "INFO:gensim.models.base_any2vec:worker thread finished; awaiting finish of 0 more threads\n",
            "INFO:gensim.models.base_any2vec:EPOCH - 5 : training on 282408221 raw words (215587766 effective words) took 1334.0s, 161612 effective words/s\n",
            "INFO:gensim.models.base_any2vec:EPOCH 6 - PROGRESS: at 0.09% examples, 153896 words/s, in_qsize 0, out_qsize 0\n",
            "INFO:gensim.models.base_any2vec:EPOCH 6 - PROGRESS: at 25.82% examples, 156131 words/s, in_qsize 0, out_qsize 0\n",
            "INFO:gensim.models.base_any2vec:EPOCH 6 - PROGRESS: at 48.21% examples, 158086 words/s, in_qsize 0, out_qsize 0\n",
            "INFO:gensim.models.base_any2vec:EPOCH 6 - PROGRESS: at 69.12% examples, 159414 words/s, in_qsize 0, out_qsize 0\n",
            "INFO:gensim.models.base_any2vec:EPOCH 6 - PROGRESS: at 90.01% examples, 160114 words/s, in_qsize 0, out_qsize 0\n",
            "INFO:gensim.models.base_any2vec:worker thread finished; awaiting finish of 2 more threads\n",
            "INFO:gensim.models.base_any2vec:worker thread finished; awaiting finish of 1 more threads\n",
            "INFO:gensim.models.base_any2vec:worker thread finished; awaiting finish of 0 more threads\n",
            "INFO:gensim.models.base_any2vec:EPOCH - 6 : training on 282408221 raw words (215586640 effective words) took 1341.3s, 160731 effective words/s\n",
            "INFO:gensim.models.base_any2vec:EPOCH 7 - PROGRESS: at 0.09% examples, 158693 words/s, in_qsize 0, out_qsize 0\n",
            "INFO:gensim.models.base_any2vec:EPOCH 7 - PROGRESS: at 26.31% examples, 159087 words/s, in_qsize 0, out_qsize 0\n",
            "INFO:gensim.models.base_any2vec:EPOCH 7 - PROGRESS: at 49.02% examples, 161220 words/s, in_qsize 0, out_qsize 0\n",
            "INFO:gensim.models.base_any2vec:EPOCH 7 - PROGRESS: at 70.23% examples, 162277 words/s, in_qsize 0, out_qsize 0\n",
            "INFO:gensim.models.base_any2vec:EPOCH 7 - PROGRESS: at 91.39% examples, 162788 words/s, in_qsize 0, out_qsize 0\n",
            "INFO:gensim.models.base_any2vec:worker thread finished; awaiting finish of 2 more threads\n",
            "INFO:gensim.models.base_any2vec:worker thread finished; awaiting finish of 1 more threads\n",
            "INFO:gensim.models.base_any2vec:worker thread finished; awaiting finish of 0 more threads\n",
            "INFO:gensim.models.base_any2vec:EPOCH - 7 : training on 282408221 raw words (215596925 effective words) took 1322.8s, 162986 effective words/s\n",
            "INFO:gensim.models.base_any2vec:EPOCH 8 - PROGRESS: at 0.09% examples, 157808 words/s, in_qsize 0, out_qsize 0\n",
            "INFO:gensim.models.base_any2vec:EPOCH 8 - PROGRESS: at 25.90% examples, 156600 words/s, in_qsize 0, out_qsize 0\n",
            "INFO:gensim.models.base_any2vec:EPOCH 8 - PROGRESS: at 48.54% examples, 159377 words/s, in_qsize 0, out_qsize 0\n",
            "INFO:gensim.models.base_any2vec:EPOCH 8 - PROGRESS: at 69.77% examples, 161109 words/s, in_qsize 0, out_qsize 0\n",
            "INFO:gensim.models.base_any2vec:EPOCH 8 - PROGRESS: at 90.88% examples, 161821 words/s, in_qsize 0, out_qsize 0\n",
            "INFO:gensim.models.base_any2vec:worker thread finished; awaiting finish of 2 more threads\n",
            "INFO:gensim.models.base_any2vec:worker thread finished; awaiting finish of 1 more threads\n",
            "INFO:gensim.models.base_any2vec:worker thread finished; awaiting finish of 0 more threads\n",
            "INFO:gensim.models.base_any2vec:EPOCH - 8 : training on 282408221 raw words (215592828 effective words) took 1331.8s, 161885 effective words/s\n",
            "INFO:gensim.models.base_any2vec:EPOCH 9 - PROGRESS: at 0.09% examples, 157738 words/s, in_qsize 0, out_qsize 0\n",
            "INFO:gensim.models.base_any2vec:EPOCH 9 - PROGRESS: at 26.19% examples, 158388 words/s, in_qsize 0, out_qsize 0\n",
            "INFO:gensim.models.base_any2vec:EPOCH 9 - PROGRESS: at 48.77% examples, 160270 words/s, in_qsize 0, out_qsize 0\n",
            "INFO:gensim.models.base_any2vec:EPOCH 9 - PROGRESS: at 70.02% examples, 161732 words/s, in_qsize 0, out_qsize 0\n",
            "INFO:gensim.models.base_any2vec:EPOCH 9 - PROGRESS: at 91.08% examples, 162194 words/s, in_qsize 0, out_qsize 0\n",
            "INFO:gensim.models.base_any2vec:worker thread finished; awaiting finish of 2 more threads\n",
            "INFO:gensim.models.base_any2vec:worker thread finished; awaiting finish of 1 more threads\n",
            "INFO:gensim.models.base_any2vec:worker thread finished; awaiting finish of 0 more threads\n",
            "INFO:gensim.models.base_any2vec:EPOCH - 9 : training on 282408221 raw words (215597059 effective words) took 1327.5s, 162412 effective words/s\n",
            "INFO:gensim.models.base_any2vec:EPOCH 10 - PROGRESS: at 0.09% examples, 154265 words/s, in_qsize 0, out_qsize 0\n",
            "INFO:gensim.models.base_any2vec:EPOCH 10 - PROGRESS: at 26.19% examples, 158369 words/s, in_qsize 0, out_qsize 0\n",
            "INFO:gensim.models.base_any2vec:EPOCH 10 - PROGRESS: at 48.68% examples, 159946 words/s, in_qsize 0, out_qsize 0\n",
            "INFO:gensim.models.base_any2vec:EPOCH 10 - PROGRESS: at 69.86% examples, 161331 words/s, in_qsize 0, out_qsize 0\n",
            "INFO:gensim.models.base_any2vec:EPOCH 10 - PROGRESS: at 90.83% examples, 161720 words/s, in_qsize 0, out_qsize 0\n",
            "INFO:gensim.models.base_any2vec:worker thread finished; awaiting finish of 2 more threads\n",
            "INFO:gensim.models.base_any2vec:worker thread finished; awaiting finish of 1 more threads\n",
            "INFO:gensim.models.base_any2vec:worker thread finished; awaiting finish of 0 more threads\n",
            "INFO:gensim.models.base_any2vec:EPOCH - 10 : training on 282408221 raw words (215596074 effective words) took 1330.9s, 161987 effective words/s\n",
            "INFO:gensim.models.base_any2vec:training on a 2824082210 raw words (2155929509 effective words) took 13294.4s, 162169 effective words/s\n",
            "INFO:gensim.utils:saving Word2VecKeyedVectors object under ../../gdrive/MyDrive/DeepLearning/MT/bpe_en, separately None\n",
            "INFO:gensim.utils:not storing attribute vectors_norm\n"
          ],
          "name": "stderr"
        },
        {
          "output_type": "error",
          "ename": "IsADirectoryError",
          "evalue": "ignored",
          "traceback": [
            "\u001b[0;31m---------------------------------------------------------------------------\u001b[0m",
            "\u001b[0;31mTypeError\u001b[0m                                 Traceback (most recent call last)",
            "\u001b[0;32m/usr/local/lib/python3.6/dist-packages/gensim/utils.py\u001b[0m in \u001b[0;36msave\u001b[0;34m(self, fname_or_handle, separately, sep_limit, ignore, pickle_protocol)\u001b[0m\n\u001b[1;32m    681\u001b[0m         \u001b[0;32mtry\u001b[0m\u001b[0;34m:\u001b[0m\u001b[0;34m\u001b[0m\u001b[0;34m\u001b[0m\u001b[0m\n\u001b[0;32m--> 682\u001b[0;31m             \u001b[0m_pickle\u001b[0m\u001b[0;34m.\u001b[0m\u001b[0mdump\u001b[0m\u001b[0;34m(\u001b[0m\u001b[0mself\u001b[0m\u001b[0;34m,\u001b[0m \u001b[0mfname_or_handle\u001b[0m\u001b[0;34m,\u001b[0m \u001b[0mprotocol\u001b[0m\u001b[0;34m=\u001b[0m\u001b[0mpickle_protocol\u001b[0m\u001b[0;34m)\u001b[0m\u001b[0;34m\u001b[0m\u001b[0;34m\u001b[0m\u001b[0m\n\u001b[0m\u001b[1;32m    683\u001b[0m             \u001b[0mlogger\u001b[0m\u001b[0;34m.\u001b[0m\u001b[0minfo\u001b[0m\u001b[0;34m(\u001b[0m\u001b[0;34m\"saved %s object\"\u001b[0m\u001b[0;34m,\u001b[0m \u001b[0mself\u001b[0m\u001b[0;34m.\u001b[0m\u001b[0m__class__\u001b[0m\u001b[0;34m.\u001b[0m\u001b[0m__name__\u001b[0m\u001b[0;34m)\u001b[0m\u001b[0;34m\u001b[0m\u001b[0;34m\u001b[0m\u001b[0m\n",
            "\u001b[0;31mTypeError\u001b[0m: file must have a 'write' attribute",
            "\nDuring handling of the above exception, another exception occurred:\n",
            "\u001b[0;31mIsADirectoryError\u001b[0m                         Traceback (most recent call last)",
            "\u001b[0;32m<ipython-input-26-a9968af179a0>\u001b[0m in \u001b[0;36m<module>\u001b[0;34m()\u001b[0m\n\u001b[1;32m      1\u001b[0m \u001b[0;31m# print(f'Vocab was built in {s2 - s1}')\u001b[0m\u001b[0;34m\u001b[0m\u001b[0;34m\u001b[0m\u001b[0;34m\u001b[0m\u001b[0m\n\u001b[1;32m      2\u001b[0m \u001b[0mmodel\u001b[0m\u001b[0;34m.\u001b[0m\u001b[0mtrain\u001b[0m\u001b[0;34m(\u001b[0m\u001b[0mlineIter\u001b[0m\u001b[0;34m,\u001b[0m \u001b[0mtotal_examples\u001b[0m\u001b[0;34m=\u001b[0m\u001b[0mmodel\u001b[0m\u001b[0;34m.\u001b[0m\u001b[0mcorpus_count\u001b[0m\u001b[0;34m,\u001b[0m \u001b[0mepochs\u001b[0m\u001b[0;34m=\u001b[0m\u001b[0mmodel\u001b[0m\u001b[0;34m.\u001b[0m\u001b[0miter\u001b[0m\u001b[0;34m,\u001b[0m \u001b[0mreport_delay\u001b[0m\u001b[0;34m=\u001b[0m\u001b[0;36m300\u001b[0m\u001b[0;34m)\u001b[0m\u001b[0;34m\u001b[0m\u001b[0;34m\u001b[0m\u001b[0m\n\u001b[0;32m----> 3\u001b[0;31m \u001b[0mmodel\u001b[0m\u001b[0;34m.\u001b[0m\u001b[0mwv\u001b[0m\u001b[0;34m.\u001b[0m\u001b[0msave\u001b[0m\u001b[0;34m(\u001b[0m\u001b[0mDIR\u001b[0m\u001b[0;34m)\u001b[0m\u001b[0;34m\u001b[0m\u001b[0;34m\u001b[0m\u001b[0m\n\u001b[0m",
            "\u001b[0;32m/usr/local/lib/python3.6/dist-packages/gensim/models/keyedvectors.py\u001b[0m in \u001b[0;36msave\u001b[0;34m(self, *args, **kwargs)\u001b[0m\n\u001b[1;32m    418\u001b[0m         \u001b[0;31m# don't bother storing the cached normalized vectors\u001b[0m\u001b[0;34m\u001b[0m\u001b[0;34m\u001b[0m\u001b[0;34m\u001b[0m\u001b[0m\n\u001b[1;32m    419\u001b[0m         \u001b[0mkwargs\u001b[0m\u001b[0;34m[\u001b[0m\u001b[0;34m'ignore'\u001b[0m\u001b[0;34m]\u001b[0m \u001b[0;34m=\u001b[0m \u001b[0mkwargs\u001b[0m\u001b[0;34m.\u001b[0m\u001b[0mget\u001b[0m\u001b[0;34m(\u001b[0m\u001b[0;34m'ignore'\u001b[0m\u001b[0;34m,\u001b[0m \u001b[0;34m[\u001b[0m\u001b[0;34m'vectors_norm'\u001b[0m\u001b[0;34m]\u001b[0m\u001b[0;34m)\u001b[0m\u001b[0;34m\u001b[0m\u001b[0;34m\u001b[0m\u001b[0m\n\u001b[0;32m--> 420\u001b[0;31m         \u001b[0msuper\u001b[0m\u001b[0;34m(\u001b[0m\u001b[0mWordEmbeddingsKeyedVectors\u001b[0m\u001b[0;34m,\u001b[0m \u001b[0mself\u001b[0m\u001b[0;34m)\u001b[0m\u001b[0;34m.\u001b[0m\u001b[0msave\u001b[0m\u001b[0;34m(\u001b[0m\u001b[0;34m*\u001b[0m\u001b[0margs\u001b[0m\u001b[0;34m,\u001b[0m \u001b[0;34m**\u001b[0m\u001b[0mkwargs\u001b[0m\u001b[0;34m)\u001b[0m\u001b[0;34m\u001b[0m\u001b[0;34m\u001b[0m\u001b[0m\n\u001b[0m\u001b[1;32m    421\u001b[0m \u001b[0;34m\u001b[0m\u001b[0m\n\u001b[1;32m    422\u001b[0m     \u001b[0;32mdef\u001b[0m \u001b[0mword_vec\u001b[0m\u001b[0;34m(\u001b[0m\u001b[0mself\u001b[0m\u001b[0;34m,\u001b[0m \u001b[0mword\u001b[0m\u001b[0;34m,\u001b[0m \u001b[0muse_norm\u001b[0m\u001b[0;34m=\u001b[0m\u001b[0;32mFalse\u001b[0m\u001b[0;34m)\u001b[0m\u001b[0;34m:\u001b[0m\u001b[0;34m\u001b[0m\u001b[0;34m\u001b[0m\u001b[0m\n",
            "\u001b[0;32m/usr/local/lib/python3.6/dist-packages/gensim/models/keyedvectors.py\u001b[0m in \u001b[0;36msave\u001b[0;34m(self, fname_or_handle, **kwargs)\u001b[0m\n\u001b[1;32m    206\u001b[0m \u001b[0;34m\u001b[0m\u001b[0m\n\u001b[1;32m    207\u001b[0m     \u001b[0;32mdef\u001b[0m \u001b[0msave\u001b[0m\u001b[0;34m(\u001b[0m\u001b[0mself\u001b[0m\u001b[0;34m,\u001b[0m \u001b[0mfname_or_handle\u001b[0m\u001b[0;34m,\u001b[0m \u001b[0;34m**\u001b[0m\u001b[0mkwargs\u001b[0m\u001b[0;34m)\u001b[0m\u001b[0;34m:\u001b[0m\u001b[0;34m\u001b[0m\u001b[0;34m\u001b[0m\u001b[0m\n\u001b[0;32m--> 208\u001b[0;31m         \u001b[0msuper\u001b[0m\u001b[0;34m(\u001b[0m\u001b[0mBaseKeyedVectors\u001b[0m\u001b[0;34m,\u001b[0m \u001b[0mself\u001b[0m\u001b[0;34m)\u001b[0m\u001b[0;34m.\u001b[0m\u001b[0msave\u001b[0m\u001b[0;34m(\u001b[0m\u001b[0mfname_or_handle\u001b[0m\u001b[0;34m,\u001b[0m \u001b[0;34m**\u001b[0m\u001b[0mkwargs\u001b[0m\u001b[0;34m)\u001b[0m\u001b[0;34m\u001b[0m\u001b[0;34m\u001b[0m\u001b[0m\n\u001b[0m\u001b[1;32m    209\u001b[0m \u001b[0;34m\u001b[0m\u001b[0m\n\u001b[1;32m    210\u001b[0m     \u001b[0;34m@\u001b[0m\u001b[0mclassmethod\u001b[0m\u001b[0;34m\u001b[0m\u001b[0;34m\u001b[0m\u001b[0m\n",
            "\u001b[0;32m/usr/local/lib/python3.6/dist-packages/gensim/utils.py\u001b[0m in \u001b[0;36msave\u001b[0;34m(self, fname_or_handle, separately, sep_limit, ignore, pickle_protocol)\u001b[0m\n\u001b[1;32m    683\u001b[0m             \u001b[0mlogger\u001b[0m\u001b[0;34m.\u001b[0m\u001b[0minfo\u001b[0m\u001b[0;34m(\u001b[0m\u001b[0;34m\"saved %s object\"\u001b[0m\u001b[0;34m,\u001b[0m \u001b[0mself\u001b[0m\u001b[0;34m.\u001b[0m\u001b[0m__class__\u001b[0m\u001b[0;34m.\u001b[0m\u001b[0m__name__\u001b[0m\u001b[0;34m)\u001b[0m\u001b[0;34m\u001b[0m\u001b[0;34m\u001b[0m\u001b[0m\n\u001b[1;32m    684\u001b[0m         \u001b[0;32mexcept\u001b[0m \u001b[0mTypeError\u001b[0m\u001b[0;34m:\u001b[0m  \u001b[0;31m# `fname_or_handle` does not have write attribute\u001b[0m\u001b[0;34m\u001b[0m\u001b[0;34m\u001b[0m\u001b[0m\n\u001b[0;32m--> 685\u001b[0;31m             \u001b[0mself\u001b[0m\u001b[0;34m.\u001b[0m\u001b[0m_smart_save\u001b[0m\u001b[0;34m(\u001b[0m\u001b[0mfname_or_handle\u001b[0m\u001b[0;34m,\u001b[0m \u001b[0mseparately\u001b[0m\u001b[0;34m,\u001b[0m \u001b[0msep_limit\u001b[0m\u001b[0;34m,\u001b[0m \u001b[0mignore\u001b[0m\u001b[0;34m,\u001b[0m \u001b[0mpickle_protocol\u001b[0m\u001b[0;34m=\u001b[0m\u001b[0mpickle_protocol\u001b[0m\u001b[0;34m)\u001b[0m\u001b[0;34m\u001b[0m\u001b[0;34m\u001b[0m\u001b[0m\n\u001b[0m\u001b[1;32m    686\u001b[0m \u001b[0;34m\u001b[0m\u001b[0m\n\u001b[1;32m    687\u001b[0m \u001b[0;34m\u001b[0m\u001b[0m\n",
            "\u001b[0;32m/usr/local/lib/python3.6/dist-packages/gensim/utils.py\u001b[0m in \u001b[0;36m_smart_save\u001b[0;34m(self, fname, separately, sep_limit, ignore, pickle_protocol)\u001b[0m\n\u001b[1;32m    539\u001b[0m                                        compress, subname)\n\u001b[1;32m    540\u001b[0m         \u001b[0;32mtry\u001b[0m\u001b[0;34m:\u001b[0m\u001b[0;34m\u001b[0m\u001b[0;34m\u001b[0m\u001b[0m\n\u001b[0;32m--> 541\u001b[0;31m             \u001b[0mpickle\u001b[0m\u001b[0;34m(\u001b[0m\u001b[0mself\u001b[0m\u001b[0;34m,\u001b[0m \u001b[0mfname\u001b[0m\u001b[0;34m,\u001b[0m \u001b[0mprotocol\u001b[0m\u001b[0;34m=\u001b[0m\u001b[0mpickle_protocol\u001b[0m\u001b[0;34m)\u001b[0m\u001b[0;34m\u001b[0m\u001b[0;34m\u001b[0m\u001b[0m\n\u001b[0m\u001b[1;32m    542\u001b[0m         \u001b[0;32mfinally\u001b[0m\u001b[0;34m:\u001b[0m\u001b[0;34m\u001b[0m\u001b[0;34m\u001b[0m\u001b[0m\n\u001b[1;32m    543\u001b[0m             \u001b[0;31m# restore attribs handled specially\u001b[0m\u001b[0;34m\u001b[0m\u001b[0;34m\u001b[0m\u001b[0;34m\u001b[0m\u001b[0m\n",
            "\u001b[0;32m/usr/local/lib/python3.6/dist-packages/gensim/utils.py\u001b[0m in \u001b[0;36mpickle\u001b[0;34m(obj, fname, protocol)\u001b[0m\n\u001b[1;32m   1338\u001b[0m \u001b[0;34m\u001b[0m\u001b[0m\n\u001b[1;32m   1339\u001b[0m     \"\"\"\n\u001b[0;32m-> 1340\u001b[0;31m     \u001b[0;32mwith\u001b[0m \u001b[0msmart_open\u001b[0m\u001b[0;34m(\u001b[0m\u001b[0mfname\u001b[0m\u001b[0;34m,\u001b[0m \u001b[0;34m'wb'\u001b[0m\u001b[0;34m)\u001b[0m \u001b[0;32mas\u001b[0m \u001b[0mfout\u001b[0m\u001b[0;34m:\u001b[0m  \u001b[0;31m# 'b' for binary, needed on Windows\u001b[0m\u001b[0;34m\u001b[0m\u001b[0;34m\u001b[0m\u001b[0m\n\u001b[0m\u001b[1;32m   1341\u001b[0m         \u001b[0m_pickle\u001b[0m\u001b[0;34m.\u001b[0m\u001b[0mdump\u001b[0m\u001b[0;34m(\u001b[0m\u001b[0mobj\u001b[0m\u001b[0;34m,\u001b[0m \u001b[0mfout\u001b[0m\u001b[0;34m,\u001b[0m \u001b[0mprotocol\u001b[0m\u001b[0;34m=\u001b[0m\u001b[0mprotocol\u001b[0m\u001b[0;34m)\u001b[0m\u001b[0;34m\u001b[0m\u001b[0;34m\u001b[0m\u001b[0m\n\u001b[1;32m   1342\u001b[0m \u001b[0;34m\u001b[0m\u001b[0m\n",
            "\u001b[0;32m/usr/local/lib/python3.6/dist-packages/smart_open/smart_open_lib.py\u001b[0m in \u001b[0;36msmart_open\u001b[0;34m(***failed resolving arguments***)\u001b[0m\n\u001b[1;32m    420\u001b[0m     \u001b[0mignore_ext\u001b[0m \u001b[0;34m=\u001b[0m \u001b[0mignore_extension\u001b[0m\u001b[0;34m\u001b[0m\u001b[0;34m\u001b[0m\u001b[0m\n\u001b[1;32m    421\u001b[0m     \u001b[0;32mdel\u001b[0m \u001b[0mkwargs\u001b[0m\u001b[0;34m,\u001b[0m \u001b[0murl\u001b[0m\u001b[0;34m,\u001b[0m \u001b[0mmessage\u001b[0m\u001b[0;34m,\u001b[0m \u001b[0mignore_extension\u001b[0m\u001b[0;34m\u001b[0m\u001b[0;34m\u001b[0m\u001b[0m\n\u001b[0;32m--> 422\u001b[0;31m     \u001b[0;32mreturn\u001b[0m \u001b[0mopen\u001b[0m\u001b[0;34m(\u001b[0m\u001b[0;34m**\u001b[0m\u001b[0mlocals\u001b[0m\u001b[0;34m(\u001b[0m\u001b[0;34m)\u001b[0m\u001b[0;34m)\u001b[0m\u001b[0;34m\u001b[0m\u001b[0;34m\u001b[0m\u001b[0m\n\u001b[0m\u001b[1;32m    423\u001b[0m \u001b[0;34m\u001b[0m\u001b[0m\n\u001b[1;32m    424\u001b[0m \u001b[0;34m\u001b[0m\u001b[0m\n",
            "\u001b[0;32m/usr/local/lib/python3.6/dist-packages/smart_open/smart_open_lib.py\u001b[0m in \u001b[0;36mopen\u001b[0;34m(uri, mode, buffering, encoding, errors, newline, closefd, opener, ignore_ext, transport_params)\u001b[0m\n\u001b[1;32m    185\u001b[0m         \u001b[0mencoding\u001b[0m\u001b[0;34m=\u001b[0m\u001b[0mencoding\u001b[0m\u001b[0;34m,\u001b[0m\u001b[0;34m\u001b[0m\u001b[0;34m\u001b[0m\u001b[0m\n\u001b[1;32m    186\u001b[0m         \u001b[0merrors\u001b[0m\u001b[0;34m=\u001b[0m\u001b[0merrors\u001b[0m\u001b[0;34m,\u001b[0m\u001b[0;34m\u001b[0m\u001b[0;34m\u001b[0m\u001b[0m\n\u001b[0;32m--> 187\u001b[0;31m         \u001b[0mnewline\u001b[0m\u001b[0;34m=\u001b[0m\u001b[0mnewline\u001b[0m\u001b[0;34m,\u001b[0m\u001b[0;34m\u001b[0m\u001b[0;34m\u001b[0m\u001b[0m\n\u001b[0m\u001b[1;32m    188\u001b[0m     )\n\u001b[1;32m    189\u001b[0m     \u001b[0;32mif\u001b[0m \u001b[0mfobj\u001b[0m \u001b[0;32mis\u001b[0m \u001b[0;32mnot\u001b[0m \u001b[0;32mNone\u001b[0m\u001b[0;34m:\u001b[0m\u001b[0;34m\u001b[0m\u001b[0;34m\u001b[0m\u001b[0m\n",
            "\u001b[0;32m/usr/local/lib/python3.6/dist-packages/smart_open/smart_open_lib.py\u001b[0m in \u001b[0;36m_shortcut_open\u001b[0;34m(uri, mode, ignore_ext, buffering, encoding, errors, newline)\u001b[0m\n\u001b[1;32m    285\u001b[0m         \u001b[0mopen_kwargs\u001b[0m\u001b[0;34m[\u001b[0m\u001b[0;34m'errors'\u001b[0m\u001b[0;34m]\u001b[0m \u001b[0;34m=\u001b[0m \u001b[0merrors\u001b[0m\u001b[0;34m\u001b[0m\u001b[0;34m\u001b[0m\u001b[0m\n\u001b[1;32m    286\u001b[0m \u001b[0;34m\u001b[0m\u001b[0m\n\u001b[0;32m--> 287\u001b[0;31m     \u001b[0;32mreturn\u001b[0m \u001b[0m_builtin_open\u001b[0m\u001b[0;34m(\u001b[0m\u001b[0mlocal_path\u001b[0m\u001b[0;34m,\u001b[0m \u001b[0mmode\u001b[0m\u001b[0;34m,\u001b[0m \u001b[0mbuffering\u001b[0m\u001b[0;34m=\u001b[0m\u001b[0mbuffering\u001b[0m\u001b[0;34m,\u001b[0m \u001b[0;34m**\u001b[0m\u001b[0mopen_kwargs\u001b[0m\u001b[0;34m)\u001b[0m\u001b[0;34m\u001b[0m\u001b[0;34m\u001b[0m\u001b[0m\n\u001b[0m\u001b[1;32m    288\u001b[0m \u001b[0;34m\u001b[0m\u001b[0m\n\u001b[1;32m    289\u001b[0m \u001b[0;34m\u001b[0m\u001b[0m\n",
            "\u001b[0;31mIsADirectoryError\u001b[0m: [Errno 21] Is a directory: '../../gdrive/MyDrive/DeepLearning/MT/bpe_en'"
          ]
        }
      ]
    },
    {
      "cell_type": "code",
      "metadata": {
        "colab": {
          "base_uri": "https://localhost:8080/"
        },
        "id": "Zs90oxkdRJ4s",
        "outputId": "a8c1eb71-7e82-4e2b-f993-d55a618126e3"
      },
      "source": [
        "print(model.wv.n_similarity('Ġfootball', 'Ġstadium'))\n",
        "print(model.wv.n_similarity('Ġfootball', 'Ġmusic'))\n",
        "print(model.wv.n_similarity('Ġcat', 'Ġcar'))\n",
        "model.get_latest_training_loss()"
      ],
      "execution_count": null,
      "outputs": [
        {
          "output_type": "stream",
          "text": [
            "0.8612573\n",
            "0.7877873\n",
            "0.9201586\n"
          ],
          "name": "stdout"
        },
        {
          "output_type": "stream",
          "text": [
            "/usr/local/lib/python3.6/dist-packages/gensim/matutils.py:737: FutureWarning: Conversion of the second argument of issubdtype from `int` to `np.signedinteger` is deprecated. In future, it will be treated as `np.int64 == np.dtype(int).type`.\n",
            "  if np.issubdtype(vec.dtype, np.int):\n"
          ],
          "name": "stderr"
        },
        {
          "output_type": "execute_result",
          "data": {
            "text/plain": [
              "0.0"
            ]
          },
          "metadata": {
            "tags": []
          },
          "execution_count": 40
        }
      ]
    },
    {
      "cell_type": "code",
      "metadata": {
        "colab": {
          "base_uri": "https://localhost:8080/"
        },
        "id": "yLXIBtz5RsYE",
        "outputId": "062981f6-3803-40ba-82e1-d97c5464f8b9"
      },
      "source": [
        "model.wv.vocab"
      ],
      "execution_count": null,
      "outputs": [
        {
          "output_type": "execute_result",
          "data": {
            "text/plain": [
              "{'<s>': <gensim.models.keyedvectors.Vocab at 0x7f59ca7347f0>,\n",
              " '<pad>': <gensim.models.keyedvectors.Vocab at 0x7f59ca734860>,\n",
              " '</s>': <gensim.models.keyedvectors.Vocab at 0x7f59ca734828>,\n",
              " '<unk>': <gensim.models.keyedvectors.Vocab at 0x7f59ca744390>,\n",
              " '.': <gensim.models.keyedvectors.Vocab at 0x7f59ca744128>,\n",
              " 'Ġthe': <gensim.models.keyedvectors.Vocab at 0x7f59ca7442e8>,\n",
              " ',': <gensim.models.keyedvectors.Vocab at 0x7f59ca744c18>,\n",
              " 'Ġto': <gensim.models.keyedvectors.Vocab at 0x7f59ca7449e8>,\n",
              " 'Ġand': <gensim.models.keyedvectors.Vocab at 0x7f59ca744240>,\n",
              " 'Ġof': <gensim.models.keyedvectors.Vocab at 0x7f59ca744f28>,\n",
              " 'Ġa': <gensim.models.keyedvectors.Vocab at 0x7f59ca744908>,\n",
              " 'Ġin': <gensim.models.keyedvectors.Vocab at 0x7f59ca744320>,\n",
              " '-': <gensim.models.keyedvectors.Vocab at 0x7f59ca7445c0>,\n",
              " 'Ġfor': <gensim.models.keyedvectors.Vocab at 0x7f59ca744780>,\n",
              " 'Ġthat': <gensim.models.keyedvectors.Vocab at 0x7f59ca7447f0>,\n",
              " 'Ġon': <gensim.models.keyedvectors.Vocab at 0x7f59ca7448d0>,\n",
              " 'Ġis': <gensim.models.keyedvectors.Vocab at 0x7f59ca7449b0>,\n",
              " 'âĢ': <gensim.models.keyedvectors.Vocab at 0x7f59ca744748>,\n",
              " \"'s\": <gensim.models.keyedvectors.Vocab at 0x7f59ca744550>,\n",
              " 'Ġwith': <gensim.models.keyedvectors.Vocab at 0x7f59ca744518>,\n",
              " 'ĠThe': <gensim.models.keyedvectors.Vocab at 0x7f59ca744588>,\n",
              " 'Ġwas': <gensim.models.keyedvectors.Vocab at 0x7f59ca744a20>,\n",
              " 'Ġ\"': <gensim.models.keyedvectors.Vocab at 0x7f59ca744668>,\n",
              " 'Ġat': <gensim.models.keyedvectors.Vocab at 0x7f59ca744f98>,\n",
              " 'Ġit': <gensim.models.keyedvectors.Vocab at 0x7f59ca744b38>,\n",
              " 'Ġas': <gensim.models.keyedvectors.Vocab at 0x7f59ca744ac8>,\n",
              " 'Ġsaid': <gensim.models.keyedvectors.Vocab at 0x7f59ca744e48>,\n",
              " 'Ļ': <gensim.models.keyedvectors.Vocab at 0x7f59ca744940>,\n",
              " 'Ġbe': <gensim.models.keyedvectors.Vocab at 0x7f59ca744c50>,\n",
              " 's': <gensim.models.keyedvectors.Vocab at 0x7f59ca744da0>,\n",
              " 'Ġby': <gensim.models.keyedvectors.Vocab at 0x7f59ca744eb8>,\n",
              " 'Ġfrom': <gensim.models.keyedvectors.Vocab at 0x7f59ca7444a8>,\n",
              " 'Ġare': <gensim.models.keyedvectors.Vocab at 0x7f59ca744e10>,\n",
              " 'Ġhave': <gensim.models.keyedvectors.Vocab at 0x7f59ca744ef0>,\n",
              " 'Ġhas': <gensim.models.keyedvectors.Vocab at 0x7f59ca7445f8>,\n",
              " ':': <gensim.models.keyedvectors.Vocab at 0x7f59ca7444e0>,\n",
              " 'Ġ(': <gensim.models.keyedvectors.Vocab at 0x7f59ca744630>,\n",
              " 'Ġhe': <gensim.models.keyedvectors.Vocab at 0x7f59ca7446d8>,\n",
              " 'ĠI': <gensim.models.keyedvectors.Vocab at 0x7f59ca744c88>,\n",
              " 'Ġhis': <gensim.models.keyedvectors.Vocab at 0x7f59ca744898>,\n",
              " 'Ġwill': <gensim.models.keyedvectors.Vocab at 0x7f59ca744860>,\n",
              " 'Ġan': <gensim.models.keyedvectors.Vocab at 0x7f59ca744710>,\n",
              " 'Ġthis': <gensim.models.keyedvectors.Vocab at 0x7f59ca744dd8>,\n",
              " ')': <gensim.models.keyedvectors.Vocab at 0x7f59ca7447b8>,\n",
              " 'ĠâĢ': <gensim.models.keyedvectors.Vocab at 0x7f59ca744828>,\n",
              " 'Ġnot': <gensim.models.keyedvectors.Vocab at 0x7f59ca744b00>,\n",
              " 'Ŀ': <gensim.models.keyedvectors.Vocab at 0x7f59ca744cf8>,\n",
              " 'Ġyou': <gensim.models.keyedvectors.Vocab at 0x7f59ca744cc0>,\n",
              " 'ľ': <gensim.models.keyedvectors.Vocab at 0x7f59ca744a90>,\n",
              " 'Ġtheir': <gensim.models.keyedvectors.Vocab at 0x7f59ca744e80>,\n",
              " 'Ġor': <gensim.models.keyedvectors.Vocab at 0x7f59ca744d30>,\n",
              " 'Ġthey': <gensim.models.keyedvectors.Vocab at 0x7f59ca744fd0>,\n",
              " 'Ġwe': <gensim.models.keyedvectors.Vocab at 0x7f59ca744a58>,\n",
              " 'Ġbut': <gensim.models.keyedvectors.Vocab at 0x7f59ca744978>,\n",
              " 'Ġwho': <gensim.models.keyedvectors.Vocab at 0x7f59ca744f60>,\n",
              " 'Ġmore': <gensim.models.keyedvectors.Vocab at 0x7f59ca7446a0>,\n",
              " 'Ġhad': <gensim.models.keyedvectors.Vocab at 0x7f59ca744b70>,\n",
              " 'Ġbeen': <gensim.models.keyedvectors.Vocab at 0x7f59ca744358>,\n",
              " 'Ġwere': <gensim.models.keyedvectors.Vocab at 0x7f59ca7443c8>,\n",
              " 'Ġabout': <gensim.models.keyedvectors.Vocab at 0x7f59ca744208>,\n",
              " ',\"': <gensim.models.keyedvectors.Vocab at 0x7f59ca7442b0>,\n",
              " 'Ġwhich': <gensim.models.keyedvectors.Vocab at 0x7f59ca744160>,\n",
              " 'Ġup': <gensim.models.keyedvectors.Vocab at 0x7f59ca744438>,\n",
              " 'Ġits': <gensim.models.keyedvectors.Vocab at 0x7f59ca744400>,\n",
              " 'Ġcan': <gensim.models.keyedvectors.Vocab at 0x7f59ca744ba8>,\n",
              " 'Ġone': <gensim.models.keyedvectors.Vocab at 0x7f59ca744d68>,\n",
              " 'Ġout': <gensim.models.keyedvectors.Vocab at 0x7f59ca744470>,\n",
              " 'Ġalso': <gensim.models.keyedvectors.Vocab at 0x7f59ca744be0>,\n",
              " 'Ġ$': <gensim.models.keyedvectors.Vocab at 0x7f59ca6f0048>,\n",
              " 'Ġher': <gensim.models.keyedvectors.Vocab at 0x7f59ca6f0080>,\n",
              " 'Ġall': <gensim.models.keyedvectors.Vocab at 0x7f59ca6f00b8>,\n",
              " 'Ġafter': <gensim.models.keyedvectors.Vocab at 0x7f59ca6f00f0>,\n",
              " '.\"': <gensim.models.keyedvectors.Vocab at 0x7f59ca6f0128>,\n",
              " '/': <gensim.models.keyedvectors.Vocab at 0x7f59ca6f0160>,\n",
              " 'Ġwould': <gensim.models.keyedvectors.Vocab at 0x7f59ca6f0198>,\n",
              " \"'t\": <gensim.models.keyedvectors.Vocab at 0x7f59ca6f01d0>,\n",
              " 'Ġyear': <gensim.models.keyedvectors.Vocab at 0x7f59ca6f0208>,\n",
              " 'Ġwhen': <gensim.models.keyedvectors.Vocab at 0x7f59ca6f0240>,\n",
              " 'Ġfirst': <gensim.models.keyedvectors.Vocab at 0x7f59ca6f0278>,\n",
              " 'Ġshe': <gensim.models.keyedvectors.Vocab at 0x7f59ca6f02b0>,\n",
              " 'Ġtwo': <gensim.models.keyedvectors.Vocab at 0x7f59ca6f02e8>,\n",
              " 'Ġover': <gensim.models.keyedvectors.Vocab at 0x7f59ca6f0320>,\n",
              " 'Ġpeople': <gensim.models.keyedvectors.Vocab at 0x7f59ca6f0358>,\n",
              " 'ĠA': <gensim.models.keyedvectors.Vocab at 0x7f59ca6f0390>,\n",
              " 'Ġour': <gensim.models.keyedvectors.Vocab at 0x7f59ca6f03c8>,\n",
              " 'ĠIt': <gensim.models.keyedvectors.Vocab at 0x7f59ca6f0400>,\n",
              " 'Ġtime': <gensim.models.keyedvectors.Vocab at 0x7f59ca6f0438>,\n",
              " 'Ġthan': <gensim.models.keyedvectors.Vocab at 0x7f59ca6f0470>,\n",
              " 'Ġinto': <gensim.models.keyedvectors.Vocab at 0x7f59ca6f04a8>,\n",
              " 'Ġthere': <gensim.models.keyedvectors.Vocab at 0x7f59ca6f04e0>,\n",
              " 't': <gensim.models.keyedvectors.Vocab at 0x7f59ca6f0518>,\n",
              " 'ĠHe': <gensim.models.keyedvectors.Vocab at 0x7f59ca6f0550>,\n",
              " 'Ġnew': <gensim.models.keyedvectors.Vocab at 0x7f59ca6f0588>,\n",
              " 'ĠâĢĶ': <gensim.models.keyedvectors.Vocab at 0x7f59ca6f05c0>,\n",
              " 'Ġlast': <gensim.models.keyedvectors.Vocab at 0x7f59ca6f05f8>,\n",
              " 'Ġjust': <gensim.models.keyedvectors.Vocab at 0x7f59ca6f0630>,\n",
              " 'ĠIn': <gensim.models.keyedvectors.Vocab at 0x7f59ca6f0668>,\n",
              " 'Ġother': <gensim.models.keyedvectors.Vocab at 0x7f59ca6f06a0>,\n",
              " 'Ġso': <gensim.models.keyedvectors.Vocab at 0x7f59ca6f06d8>,\n",
              " 'Ġwhat': <gensim.models.keyedvectors.Vocab at 0x7f59ca6f0710>,\n",
              " 'I': <gensim.models.keyedvectors.Vocab at 0x7f59ca6f0748>,\n",
              " 'Ġlike': <gensim.models.keyedvectors.Vocab at 0x7f59ca6f0780>,\n",
              " 'a': <gensim.models.keyedvectors.Vocab at 0x7f59ca6f07b8>,\n",
              " 'Ġsome': <gensim.models.keyedvectors.Vocab at 0x7f59ca6f07f0>,\n",
              " 'S': <gensim.models.keyedvectors.Vocab at 0x7f59ca6f0828>,\n",
              " 'Ã«': <gensim.models.keyedvectors.Vocab at 0x7f59ca6f0860>,\n",
              " 'Ġthem': <gensim.models.keyedvectors.Vocab at 0x7f59ca6f0898>,\n",
              " 'Ġyears': <gensim.models.keyedvectors.Vocab at 0x7f59ca6f08d0>,\n",
              " \"'\": <gensim.models.keyedvectors.Vocab at 0x7f59ca6f0908>,\n",
              " 'Ġdo': <gensim.models.keyedvectors.Vocab at 0x7f59ca6f0940>,\n",
              " 'Ġyour': <gensim.models.keyedvectors.Vocab at 0x7f59ca6f0978>,\n",
              " 'Ġ-': <gensim.models.keyedvectors.Vocab at 0x7f59ca6f09b0>,\n",
              " 'Ġ1': <gensim.models.keyedvectors.Vocab at 0x7f59ca6f09e8>,\n",
              " '\"': <gensim.models.keyedvectors.Vocab at 0x7f59ca6f0a20>,\n",
              " 'Ġif': <gensim.models.keyedvectors.Vocab at 0x7f59ca6f0a58>,\n",
              " 'Ġcould': <gensim.models.keyedvectors.Vocab at 0x7f59ca6f0a90>,\n",
              " '?': <gensim.models.keyedvectors.Vocab at 0x7f59ca6f0ac8>,\n",
              " 'Ġno': <gensim.models.keyedvectors.Vocab at 0x7f59ca6f0b00>,\n",
              " 'i': <gensim.models.keyedvectors.Vocab at 0x7f59ca6f0b38>,\n",
              " 'm': <gensim.models.keyedvectors.Vocab at 0x7f59ca6f0b70>,\n",
              " 'Ġget': <gensim.models.keyedvectors.Vocab at 0x7f59ca6f0ba8>,\n",
              " 'ĠU': <gensim.models.keyedvectors.Vocab at 0x7f59ca6f0be0>,\n",
              " 'Ġnow': <gensim.models.keyedvectors.Vocab at 0x7f59ca6f0c18>,\n",
              " 'Ġhim': <gensim.models.keyedvectors.Vocab at 0x7f59ca6f0c50>,\n",
              " 'Ġback': <gensim.models.keyedvectors.Vocab at 0x7f59ca6f0c88>,\n",
              " 'ĠBut': <gensim.models.keyedvectors.Vocab at 0x7f59ca6f0cc0>,\n",
              " 'ĠâĢĵ': <gensim.models.keyedvectors.Vocab at 0x7f59ca6f0cf8>,\n",
              " 'Ġmy': <gensim.models.keyedvectors.Vocab at 0x7f59ca6f0d30>,\n",
              " \"Ġ'\": <gensim.models.keyedvectors.Vocab at 0x7f59ca6f0d68>,\n",
              " 'Ġonly': <gensim.models.keyedvectors.Vocab at 0x7f59ca6f0da0>,\n",
              " 'Ġthree': <gensim.models.keyedvectors.Vocab at 0x7f59ca6f0dd8>,\n",
              " ';': <gensim.models.keyedvectors.Vocab at 0x7f59ca6f0e10>,\n",
              " 'Ġ2': <gensim.models.keyedvectors.Vocab at 0x7f59ca6f0e48>,\n",
              " 'The': <gensim.models.keyedvectors.Vocab at 0x7f59ca6f0e80>,\n",
              " '1': <gensim.models.keyedvectors.Vocab at 0x7f59ca6f0eb8>,\n",
              " 'Ġpercent': <gensim.models.keyedvectors.Vocab at 0x7f59ca6f0ef0>,\n",
              " 'Ġagainst': <gensim.models.keyedvectors.Vocab at 0x7f59ca6f0f28>,\n",
              " 'Ġbefore': <gensim.models.keyedvectors.Vocab at 0x7f59ca6f0f60>,\n",
              " 'Ġcompany': <gensim.models.keyedvectors.Vocab at 0x7f59ca6f0f98>,\n",
              " 'o': <gensim.models.keyedvectors.Vocab at 0x7f59ca6f0fd0>,\n",
              " 'ĠTrump': <gensim.models.keyedvectors.Vocab at 0x7f59ca679048>,\n",
              " 'Ġhow': <gensim.models.keyedvectors.Vocab at 0x7f59ca679080>,\n",
              " 'Ġbecause': <gensim.models.keyedvectors.Vocab at 0x7f59ca6790b8>,\n",
              " 'Ġany': <gensim.models.keyedvectors.Vocab at 0x7f59ca6790f0>,\n",
              " 'Ġmost': <gensim.models.keyedvectors.Vocab at 0x7f59ca679128>,\n",
              " 'Ġbeing': <gensim.models.keyedvectors.Vocab at 0x7f59ca679160>,\n",
              " 'Ġmake': <gensim.models.keyedvectors.Vocab at 0x7f59ca679198>,\n",
              " 'Ġwhere': <gensim.models.keyedvectors.Vocab at 0x7f59ca6791d0>,\n",
              " 'Ġduring': <gensim.models.keyedvectors.Vocab at 0x7f59ca679208>,\n",
              " 'Ġthrough': <gensim.models.keyedvectors.Vocab at 0x7f59ca679240>,\n",
              " 'Ġwhile': <gensim.models.keyedvectors.Vocab at 0x7f59ca679278>,\n",
              " '000': <gensim.models.keyedvectors.Vocab at 0x7f59ca6792b0>,\n",
              " 'ĠThis': <gensim.models.keyedvectors.Vocab at 0x7f59ca6792e8>,\n",
              " 'Ġmillion': <gensim.models.keyedvectors.Vocab at 0x7f59ca679320>,\n",
              " 'ing': <gensim.models.keyedvectors.Vocab at 0x7f59ca679358>,\n",
              " 'Ġ3': <gensim.models.keyedvectors.Vocab at 0x7f59ca679390>,\n",
              " 'Ġmade': <gensim.models.keyedvectors.Vocab at 0x7f59ca6793c8>,\n",
              " 'Ġwell': <gensim.models.keyedvectors.Vocab at 0x7f59ca679400>,\n",
              " 'Ġ10': <gensim.models.keyedvectors.Vocab at 0x7f59ca679438>,\n",
              " 'Ġdown': <gensim.models.keyedvectors.Vocab at 0x7f59ca679470>,\n",
              " 'Ġoff': <gensim.models.keyedvectors.Vocab at 0x7f59ca6794a8>,\n",
              " 'Ġsays': <gensim.models.keyedvectors.Vocab at 0x7f59ca6794e0>,\n",
              " 'Ġme': <gensim.models.keyedvectors.Vocab at 0x7f59ca679518>,\n",
              " 'ĠB': <gensim.models.keyedvectors.Vocab at 0x7f59ca679550>,\n",
              " 'Ġgoing': <gensim.models.keyedvectors.Vocab at 0x7f59ca679588>,\n",
              " 'Ġteam': <gensim.models.keyedvectors.Vocab at 0x7f59ca6795c0>,\n",
              " 'ĠWe': <gensim.models.keyedvectors.Vocab at 0x7f59ca6795f8>,\n",
              " 'Ġthose': <gensim.models.keyedvectors.Vocab at 0x7f59ca679630>,\n",
              " 'Ġgovernment': <gensim.models.keyedvectors.Vocab at 0x7f59ca679668>,\n",
              " 'Ġway': <gensim.models.keyedvectors.Vocab at 0x7f59ca6796a0>,\n",
              " 'We': <gensim.models.keyedvectors.Vocab at 0x7f59ca6796d8>,\n",
              " 'Ġmany': <gensim.models.keyedvectors.Vocab at 0x7f59ca679710>,\n",
              " 'Ġthen': <gensim.models.keyedvectors.Vocab at 0x7f59ca679748>,\n",
              " 'Ġwork': <gensim.models.keyedvectors.Vocab at 0x7f59ca679780>,\n",
              " 'Ġtold': <gensim.models.keyedvectors.Vocab at 0x7f59ca6797b8>,\n",
              " 'com': <gensim.models.keyedvectors.Vocab at 0x7f59ca6797f0>,\n",
              " '2': <gensim.models.keyedvectors.Vocab at 0x7f59ca679828>,\n",
              " 'Ġgame': <gensim.models.keyedvectors.Vocab at 0x7f59ca679860>,\n",
              " 'ĠAnd': <gensim.models.keyedvectors.Vocab at 0x7f59ca679898>,\n",
              " 'in': <gensim.models.keyedvectors.Vocab at 0x7f59ca6798d0>,\n",
              " 'year': <gensim.models.keyedvectors.Vocab at 0x7f59ca679908>,\n",
              " 'Ġp': <gensim.models.keyedvectors.Vocab at 0x7f59ca679940>,\n",
              " 'Ġvery': <gensim.models.keyedvectors.Vocab at 0x7f59ca679978>,\n",
              " 'Ġday': <gensim.models.keyedvectors.Vocab at 0x7f59ca6799b0>,\n",
              " 'Ġhome': <gensim.models.keyedvectors.Vocab at 0x7f59ca6799e8>,\n",
              " 'Ġtake': <gensim.models.keyedvectors.Vocab at 0x7f59ca679a20>,\n",
              " 'Ġweek': <gensim.models.keyedvectors.Vocab at 0x7f59ca679a58>,\n",
              " 'Ġsince': <gensim.models.keyedvectors.Vocab at 0x7f59ca679a90>,\n",
              " 'ĠNew': <gensim.models.keyedvectors.Vocab at 0x7f59ca679ac8>,\n",
              " 'Ġmay': <gensim.models.keyedvectors.Vocab at 0x7f59ca679b00>,\n",
              " 'Ġeven': <gensim.models.keyedvectors.Vocab at 0x7f59ca679b38>,\n",
              " 'Ġseason': <gensim.models.keyedvectors.Vocab at 0x7f59ca679b70>,\n",
              " 'Ġsee': <gensim.models.keyedvectors.Vocab at 0x7f59ca679ba8>,\n",
              " 'Ġ2017': <gensim.models.keyedvectors.Vocab at 0x7f59ca679be0>,\n",
              " 'Ġstate': <gensim.models.keyedvectors.Vocab at 0x7f59ca679c18>,\n",
              " 'Ġ5': <gensim.models.keyedvectors.Vocab at 0x7f59ca679c50>,\n",
              " 'ed': <gensim.models.keyedvectors.Vocab at 0x7f59ca679c88>,\n",
              " 'Ġshould': <gensim.models.keyedvectors.Vocab at 0x7f59ca679cc0>,\n",
              " 'Ġaround': <gensim.models.keyedvectors.Vocab at 0x7f59ca679cf8>,\n",
              " 'Ġ2018': <gensim.models.keyedvectors.Vocab at 0x7f59ca679d30>,\n",
              " 'Ġsecond': <gensim.models.keyedvectors.Vocab at 0x7f59ca679d68>,\n",
              " 'Ġus': <gensim.models.keyedvectors.Vocab at 0x7f59ca679da0>,\n",
              " 'Ġstill': <gensim.models.keyedvectors.Vocab at 0x7f59ca679dd8>,\n",
              " 'Ġmuch': <gensim.models.keyedvectors.Vocab at 0x7f59ca679e10>,\n",
              " 'Ġ4': <gensim.models.keyedvectors.Vocab at 0x7f59ca679e48>,\n",
              " 'Ġgood': <gensim.models.keyedvectors.Vocab at 0x7f59ca679e80>,\n",
              " 'Ġthink': <gensim.models.keyedvectors.Vocab at 0x7f59ca679eb8>,\n",
              " '%': <gensim.models.keyedvectors.Vocab at 0x7f59ca679ef0>,\n",
              " 'ĠS': <gensim.models.keyedvectors.Vocab at 0x7f59ca679f28>,\n",
              " 'Ġthese': <gensim.models.keyedvectors.Vocab at 0x7f59ca679f60>,\n",
              " 'Ġmarket': <gensim.models.keyedvectors.Vocab at 0x7f59ca679f98>,\n",
              " 'ĠD': <gensim.models.keyedvectors.Vocab at 0x7f59ca679fd0>,\n",
              " 'th': <gensim.models.keyedvectors.Vocab at 0x7f59ca658048>,\n",
              " 'Ġgo': <gensim.models.keyedvectors.Vocab at 0x7f59ca658080>,\n",
              " \"'re\": <gensim.models.keyedvectors.Vocab at 0x7f59ca6580b8>,\n",
              " 'Ġsuch': <gensim.models.keyedvectors.Vocab at 0x7f59ca6580f0>,\n",
              " 'Ġknow': <gensim.models.keyedvectors.Vocab at 0x7f59ca658128>,\n",
              " 'Ġincluding': <gensim.models.keyedvectors.Vocab at 0x7f59ca658160>,\n",
              " 'Ġdon': <gensim.models.keyedvectors.Vocab at 0x7f59ca658198>,\n",
              " 'y': <gensim.models.keyedvectors.Vocab at 0x7f59ca6581d0>,\n",
              " 'Ġnext': <gensim.models.keyedvectors.Vocab at 0x7f59ca658208>,\n",
              " 'ĠP': <gensim.models.keyedvectors.Vocab at 0x7f59ca658240>,\n",
              " 'Ġdid': <gensim.models.keyedvectors.Vocab at 0x7f59ca658278>,\n",
              " 'Ġunder': <gensim.models.keyedvectors.Vocab at 0x7f59ca6582b0>,\n",
              " 'Ġsay': <gensim.models.keyedvectors.Vocab at 0x7f59ca6582e8>,\n",
              " 'en': <gensim.models.keyedvectors.Vocab at 0x7f59ca658320>,\n",
              " 'ĠL': <gensim.models.keyedvectors.Vocab at 0x7f59ca658358>,\n",
              " 'Ġbetween': <gensim.models.keyedvectors.Vocab at 0x7f59ca658390>,\n",
              " 'Ġper': <gensim.models.keyedvectors.Vocab at 0x7f59ca6583c8>,\n",
              " 'ĠK': <gensim.models.keyedvectors.Vocab at 0x7f59ca658400>,\n",
              " 'ĠC': <gensim.models.keyedvectors.Vocab at 0x7f59ca658438>,\n",
              " 'Ġ6': <gensim.models.keyedvectors.Vocab at 0x7f59ca658470>,\n",
              " 'Ġworld': <gensim.models.keyedvectors.Vocab at 0x7f59ca6584a8>,\n",
              " 'Ġpart': <gensim.models.keyedvectors.Vocab at 0x7f59ca6584e0>,\n",
              " 'ĠN': <gensim.models.keyedvectors.Vocab at 0x7f59ca658518>,\n",
              " 'Ġright': <gensim.models.keyedvectors.Vocab at 0x7f59ca658550>,\n",
              " 'Ġwant': <gensim.models.keyedvectors.Vocab at 0x7f59ca658588>,\n",
              " 'Ġfour': <gensim.models.keyedvectors.Vocab at 0x7f59ca6585c0>,\n",
              " '),': <gensim.models.keyedvectors.Vocab at 0x7f59ca6585f8>,\n",
              " 'Ġhigh': <gensim.models.keyedvectors.Vocab at 0x7f59ca658630>,\n",
              " 'Ġneed': <gensim.models.keyedvectors.Vocab at 0x7f59ca658668>,\n",
              " 're': <gensim.models.keyedvectors.Vocab at 0x7f59ca6586a0>,\n",
              " 'e': <gensim.models.keyedvectors.Vocab at 0x7f59ca6586d8>,\n",
              " 'It': <gensim.models.keyedvectors.Vocab at 0x7f59ca658710>,\n",
              " 'Ġhelp': <gensim.models.keyedvectors.Vocab at 0x7f59ca658748>,\n",
              " '5': <gensim.models.keyedvectors.Vocab at 0x7f59ca658780>,\n",
              " '3': <gensim.models.keyedvectors.Vocab at 0x7f59ca6587b8>,\n",
              " 'Ġcountry': <gensim.models.keyedvectors.Vocab at 0x7f59ca6587f0>,\n",
              " 'ĠR': <gensim.models.keyedvectors.Vocab at 0x7f59ca658828>,\n",
              " 'Ġpolice': <gensim.models.keyedvectors.Vocab at 0x7f59ca658860>,\n",
              " 'A': <gensim.models.keyedvectors.Vocab at 0x7f59ca658898>,\n",
              " 'Ġlong': <gensim.models.keyedvectors.Vocab at 0x7f59ca6588d0>,\n",
              " 'ĠThey': <gensim.models.keyedvectors.Vocab at 0x7f59ca658908>,\n",
              " 'Ġend': <gensim.models.keyedvectors.Vocab at 0x7f59ca658940>,\n",
              " 'er': <gensim.models.keyedvectors.Vocab at 0x7f59ca658978>,\n",
              " 'ĠT': <gensim.models.keyedvectors.Vocab at 0x7f59ca6589b0>,\n",
              " 'ĠM': <gensim.models.keyedvectors.Vocab at 0x7f59ca6589e8>,\n",
              " 'u': <gensim.models.keyedvectors.Vocab at 0x7f59ca658a20>,\n",
              " 'Ġboth': <gensim.models.keyedvectors.Vocab at 0x7f59ca658a58>,\n",
              " 'Ġhere': <gensim.models.keyedvectors.Vocab at 0x7f59ca658a90>,\n",
              " 'an': <gensim.models.keyedvectors.Vocab at 0x7f59ca658ac8>,\n",
              " 'on': <gensim.models.keyedvectors.Vocab at 0x7f59ca658b00>,\n",
              " 'Ġ7': <gensim.models.keyedvectors.Vocab at 0x7f59ca658b38>,\n",
              " 'Ġde': <gensim.models.keyedvectors.Vocab at 0x7f59ca658b70>,\n",
              " 'ĠShe': <gensim.models.keyedvectors.Vocab at 0x7f59ca658ba8>,\n",
              " 'Ġbusiness': <gensim.models.keyedvectors.Vocab at 0x7f59ca658be0>,\n",
              " 'Ġreport': <gensim.models.keyedvectors.Vocab at 0x7f59ca658c18>,\n",
              " 'j': <gensim.models.keyedvectors.Vocab at 0x7f59ca658c50>,\n",
              " 'ers': <gensim.models.keyedvectors.Vocab at 0x7f59ca658c88>,\n",
              " 'Ġreally': <gensim.models.keyedvectors.Vocab at 0x7f59ca658cc0>,\n",
              " 'ĠPresident': <gensim.models.keyedvectors.Vocab at 0x7f59ca658cf8>,\n",
              " 'ar': <gensim.models.keyedvectors.Vocab at 0x7f59ca658d30>,\n",
              " 'ĠG': <gensim.models.keyedvectors.Vocab at 0x7f59ca658d68>,\n",
              " 'ĠFriday': <gensim.models.keyedvectors.Vocab at 0x7f59ca658da0>,\n",
              " 'ĠF': <gensim.models.keyedvectors.Vocab at 0x7f59ca658dd8>,\n",
              " 'Ġbest': <gensim.models.keyedvectors.Vocab at 0x7f59ca658e10>,\n",
              " 'Ġsame': <gensim.models.keyedvectors.Vocab at 0x7f59ca658e48>,\n",
              " 'Ġanother': <gensim.models.keyedvectors.Vocab at 0x7f59ca658e80>,\n",
              " 'Ġset': <gensim.models.keyedvectors.Vocab at 0x7f59ca658eb8>,\n",
              " 'old': <gensim.models.keyedvectors.Vocab at 0x7f59ca658ef0>,\n",
              " 'ĠThat': <gensim.models.keyedvectors.Vocab at 0x7f59ca658f28>,\n",
              " 'as': <gensim.models.keyedvectors.Vocab at 0x7f59ca658f60>,\n",
              " 'n': <gensim.models.keyedvectors.Vocab at 0x7f59ca658f98>,\n",
              " 'Ġcome': <gensim.models.keyedvectors.Vocab at 0x7f59ca658fd0>,\n",
              " 'Ġfamily': <gensim.models.keyedvectors.Vocab at 0x7f59ca65b048>,\n",
              " 'Ġpublic': <gensim.models.keyedvectors.Vocab at 0x7f59ca65b080>,\n",
              " 'ĠFor': <gensim.models.keyedvectors.Vocab at 0x7f59ca65b0b8>,\n",
              " 'ĠAs': <gensim.models.keyedvectors.Vocab at 0x7f59ca65b0f0>,\n",
              " '0': <gensim.models.keyedvectors.Vocab at 0x7f59ca65b128>,\n",
              " 'ĠH': <gensim.models.keyedvectors.Vocab at 0x7f59ca65b160>,\n",
              " 'Ġ8': <gensim.models.keyedvectors.Vocab at 0x7f59ca65b198>,\n",
              " 'Ġ20': <gensim.models.keyedvectors.Vocab at 0x7f59ca65b1d0>,\n",
              " 'Ġfive': <gensim.models.keyedvectors.Vocab at 0x7f59ca65b208>,\n",
              " 'es': <gensim.models.keyedvectors.Vocab at 0x7f59ca65b240>,\n",
              " 'ĠTuesday': <gensim.models.keyedvectors.Vocab at 0x7f59ca65b278>,\n",
              " 'Ġn': <gensim.models.keyedvectors.Vocab at 0x7f59ca65b2b0>,\n",
              " 'ĠThursday': <gensim.models.keyedvectors.Vocab at 0x7f59ca65b2e8>,\n",
              " 'Ġquarter': <gensim.models.keyedvectors.Vocab at 0x7f59ca65b320>,\n",
              " 'h': <gensim.models.keyedvectors.Vocab at 0x7f59ca65b358>,\n",
              " 'Ġtop': <gensim.models.keyedvectors.Vocab at 0x7f59ca65b390>,\n",
              " 'Ġgot': <gensim.models.keyedvectors.Vocab at 0x7f59ca65b3c8>,\n",
              " 'Ġlife': <gensim.models.keyedvectors.Vocab at 0x7f59ca65b400>,\n",
              " 'ĠMonday': <gensim.models.keyedvectors.Vocab at 0x7f59ca65b438>,\n",
              " 'Ġfound': <gensim.models.keyedvectors.Vocab at 0x7f59ca65b470>,\n",
              " 'Ġuse': <gensim.models.keyedvectors.Vocab at 0x7f59ca65b4a8>,\n",
              " 'ĠW': <gensim.models.keyedvectors.Vocab at 0x7f59ca65b4e0>,\n",
              " '4': <gensim.models.keyedvectors.Vocab at 0x7f59ca65b518>,\n",
              " 'ĠWednesday': <gensim.models.keyedvectors.Vocab at 0x7f59ca65b550>,\n",
              " 'Ġown': <gensim.models.keyedvectors.Vocab at 0x7f59ca65b588>,\n",
              " 'Ġaccording': <gensim.models.keyedvectors.Vocab at 0x7f59ca65b5c0>,\n",
              " 'Ġplay': <gensim.models.keyedvectors.Vocab at 0x7f59ca65b5f8>,\n",
              " 'Ġshow': <gensim.models.keyedvectors.Vocab at 0x7f59ca65b630>,\n",
              " 'ĠSt': <gensim.models.keyedvectors.Vocab at 0x7f59ca65b668>,\n",
              " 'Ġman': <gensim.models.keyedvectors.Vocab at 0x7f59ca65b6a0>,\n",
              " 'Ġleft': <gensim.models.keyedvectors.Vocab at 0x7f59ca65b6d8>,\n",
              " 'ĠUnited': <gensim.models.keyedvectors.Vocab at 0x7f59ca65b710>,\n",
              " 'Ġ12': <gensim.models.keyedvectors.Vocab at 0x7f59ca65b748>,\n",
              " 'Ġplace': <gensim.models.keyedvectors.Vocab at 0x7f59ca65b780>,\n",
              " 'ĠIf': <gensim.models.keyedvectors.Vocab at 0x7f59ca65b7b8>,\n",
              " 'Ġlot': <gensim.models.keyedvectors.Vocab at 0x7f59ca65b7f0>,\n",
              " 'Ġformer': <gensim.models.keyedvectors.Vocab at 0x7f59ca65b828>,\n",
              " 'Ġ0': <gensim.models.keyedvectors.Vocab at 0x7f59ca65b860>,\n",
              " ').': <gensim.models.keyedvectors.Vocab at 0x7f59ca65b898>,\n",
              " 'Ġsupport': <gensim.models.keyedvectors.Vocab at 0x7f59ca65b8d0>,\n",
              " 'ie': <gensim.models.keyedvectors.Vocab at 0x7f59ca65b908>,\n",
              " 'Ġbillion': <gensim.models.keyedvectors.Vocab at 0x7f59ca65b940>,\n",
              " 'Ġt': <gensim.models.keyedvectors.Vocab at 0x7f59ca65b978>,\n",
              " 'Ġshares': <gensim.models.keyedvectors.Vocab at 0x7f59ca65b9b0>,\n",
              " '!': <gensim.models.keyedvectors.Vocab at 0x7f59ca65b9e8>,\n",
              " 'z': <gensim.models.keyedvectors.Vocab at 0x7f59ca65ba20>,\n",
              " 'k': <gensim.models.keyedvectors.Vocab at 0x7f59ca65ba58>,\n",
              " 'ĠState': <gensim.models.keyedvectors.Vocab at 0x7f59ca65ba90>,\n",
              " 'Ġpoints': <gensim.models.keyedvectors.Vocab at 0x7f59ca65bac8>,\n",
              " 'Ġgroup': <gensim.models.keyedvectors.Vocab at 0x7f59ca65bb00>,\n",
              " 'Ġschool': <gensim.models.keyedvectors.Vocab at 0x7f59ca65bb38>,\n",
              " 'Ġinformation': <gensim.models.keyedvectors.Vocab at 0x7f59ca65bb70>,\n",
              " 'Ġ2016': <gensim.models.keyedvectors.Vocab at 0x7f59ca65bba8>,\n",
              " 'al': <gensim.models.keyedvectors.Vocab at 0x7f59ca65bbe0>,\n",
              " 'r': <gensim.models.keyedvectors.Vocab at 0x7f59ca65bc18>,\n",
              " 'Ġwin': <gensim.models.keyedvectors.Vocab at 0x7f59ca65bc50>,\n",
              " 'Ġnews': <gensim.models.keyedvectors.Vocab at 0x7f59ca65bc88>,\n",
              " 'Ġused': <gensim.models.keyedvectors.Vocab at 0x7f59ca65bcc0>,\n",
              " 'Ġput': <gensim.models.keyedvectors.Vocab at 0x7f59ca65bcf8>,\n",
              " 'Ġcity': <gensim.models.keyedvectors.Vocab at 0x7f59ca65bd30>,\n",
              " 'ĠJ': <gensim.models.keyedvectors.Vocab at 0x7f59ca65bd68>,\n",
              " 'ĠThere': <gensim.models.keyedvectors.Vocab at 0x7f59ca65bda0>,\n",
              " 'Ġnumber': <gensim.models.keyedvectors.Vocab at 0x7f59ca65bdd8>,\n",
              " 'C': <gensim.models.keyedvectors.Vocab at 0x7f59ca65be10>,\n",
              " \"'ve\": <gensim.models.keyedvectors.Vocab at 0x7f59ca65be48>,\n",
              " 'Ġeach': <gensim.models.keyedvectors.Vocab at 0x7f59ca65be80>,\n",
              " 'Ġtoo': <gensim.models.keyedvectors.Vocab at 0x7f59ca65beb8>,\n",
              " 'Ġwon': <gensim.models.keyedvectors.Vocab at 0x7f59ca65bef0>,\n",
              " 'ly': <gensim.models.keyedvectors.Vocab at 0x7f59ca65bf28>,\n",
              " 'Ġmonth': <gensim.models.keyedvectors.Vocab at 0x7f59ca65bf60>,\n",
              " 'is': <gensim.models.keyedvectors.Vocab at 0x7f59ca65bf98>,\n",
              " 'Ġadded': <gensim.models.keyedvectors.Vocab at 0x7f59ca65bfd0>,\n",
              " 'Ġlook': <gensim.models.keyedvectors.Vocab at 0x7f59ca660048>,\n",
              " 'Ġbetter': <gensim.models.keyedvectors.Vocab at 0x7f59ca660080>,\n",
              " 'Ġevery': <gensim.models.keyedvectors.Vocab at 0x7f59ca6600b8>,\n",
              " 'Ġ&': <gensim.models.keyedvectors.Vocab at 0x7f59ca6600f0>,\n",
              " 'Ġdays': <gensim.models.keyedvectors.Vocab at 0x7f59ca660128>,\n",
              " 'Ġ9': <gensim.models.keyedvectors.Vocab at 0x7f59ca660160>,\n",
              " 'Ġtook': <gensim.models.keyedvectors.Vocab at 0x7f59ca660198>,\n",
              " 'Ġnight': <gensim.models.keyedvectors.Vocab at 0x7f59ca6601d0>,\n",
              " 'Ġe': <gensim.models.keyedvectors.Vocab at 0x7f59ca660208>,\n",
              " 'Ġ11': <gensim.models.keyedvectors.Vocab at 0x7f59ca660240>,\n",
              " 'os': <gensim.models.keyedvectors.Vocab at 0x7f59ca660278>,\n",
              " 'Ġfew': <gensim.models.keyedvectors.Vocab at 0x7f59ca6602b0>,\n",
              " 'or': <gensim.models.keyedvectors.Vocab at 0x7f59ca6602e8>,\n",
              " 'ĠNorth': <gensim.models.keyedvectors.Vocab at 0x7f59ca660320>,\n",
              " 'ĠYou': <gensim.models.keyedvectors.Vocab at 0x7f59ca660358>,\n",
              " 'Ġthird': <gensim.models.keyedvectors.Vocab at 0x7f59ca660390>,\n",
              " 'Ġgreat': <gensim.models.keyedvectors.Vocab at 0x7f59ca6603c8>,\n",
              " 'Ġcalled': <gensim.models.keyedvectors.Vocab at 0x7f59ca660400>,\n",
              " 'ĠOn': <gensim.models.keyedvectors.Vocab at 0x7f59ca660438>,\n",
              " 'Ġpast': <gensim.models.keyedvectors.Vocab at 0x7f59ca660470>,\n",
              " 'Ġcame': <gensim.models.keyedvectors.Vocab at 0x7f59ca6604a8>,\n",
              " 'Ġmonths': <gensim.models.keyedvectors.Vocab at 0x7f59ca6604e0>,\n",
              " 'ĠSaturday': <gensim.models.keyedvectors.Vocab at 0x7f59ca660518>,\n",
              " 'Ġ15': <gensim.models.keyedvectors.Vocab at 0x7f59ca660550>,\n",
              " 'Ġbig': <gensim.models.keyedvectors.Vocab at 0x7f59ca660588>,\n",
              " 'ĠE': <gensim.models.keyedvectors.Vocab at 0x7f59ca6605c0>,\n",
              " 'ĠUS': <gensim.models.keyedvectors.Vocab at 0x7f59ca6605f8>,\n",
              " 'Ġthings': <gensim.models.keyedvectors.Vocab at 0x7f59ca660630>,\n",
              " 'ĠO': <gensim.models.keyedvectors.Vocab at 0x7f59ca660668>,\n",
              " 'Ġd': <gensim.models.keyedvectors.Vocab at 0x7f59ca6606a0>,\n",
              " 'Ġstart': <gensim.models.keyedvectors.Vocab at 0x7f59ca6606d8>,\n",
              " 'B': <gensim.models.keyedvectors.Vocab at 0x7f59ca660710>,\n",
              " 'Ġstock': <gensim.models.keyedvectors.Vocab at 0x7f59ca660748>,\n",
              " 'Ġ30': <gensim.models.keyedvectors.Vocab at 0x7f59ca660780>,\n",
              " 'Ġwomen': <gensim.models.keyedvectors.Vocab at 0x7f59ca6607b8>,\n",
              " 'ĠSouth': <gensim.models.keyedvectors.Vocab at 0x7f59ca6607f0>,\n",
              " 'ĠMay': <gensim.models.keyedvectors.Vocab at 0x7f59ca660828>,\n",
              " 'Ġnever': <gensim.models.keyedvectors.Vocab at 0x7f59ca660860>,\n",
              " 'Ġpresident': <gensim.models.keyedvectors.Vocab at 0x7f59ca660898>,\n",
              " 'ĠSunday': <gensim.models.keyedvectors.Vocab at 0x7f59ca6608d0>,\n",
              " 'Ġwithout': <gensim.models.keyedvectors.Vocab at 0x7f59ca660908>,\n",
              " 'man': <gensim.models.keyedvectors.Vocab at 0x7f59ca660940>,\n",
              " '8': <gensim.models.keyedvectors.Vocab at 0x7f59ca660978>,\n",
              " 'Ġdidn': <gensim.models.keyedvectors.Vocab at 0x7f59ca6609b0>,\n",
              " 'Ġlocal': <gensim.models.keyedvectors.Vocab at 0x7f59ca6609e8>,\n",
              " '6': <gensim.models.keyedvectors.Vocab at 0x7f59ca660a20>,\n",
              " 'Ġsomething': <gensim.models.keyedvectors.Vocab at 0x7f59ca660a58>,\n",
              " 'Ġcase': <gensim.models.keyedvectors.Vocab at 0x7f59ca660a90>,\n",
              " 'ĠAll': <gensim.models.keyedvectors.Vocab at 0x7f59ca660ac8>,\n",
              " 'it': <gensim.models.keyedvectors.Vocab at 0x7f59ca660b00>,\n",
              " '7': <gensim.models.keyedvectors.Vocab at 0x7f59ca660b38>,\n",
              " 'ĠSo': <gensim.models.keyedvectors.Vocab at 0x7f59ca660b70>,\n",
              " 'Ġchildren': <gensim.models.keyedvectors.Vocab at 0x7f59ca660ba8>,\n",
              " 'Ġaway': <gensim.models.keyedvectors.Vocab at 0x7f59ca660be0>,\n",
              " 'Ġlittle': <gensim.models.keyedvectors.Vocab at 0x7f59ca660c18>,\n",
              " 'Ġsix': <gensim.models.keyedvectors.Vocab at 0x7f59ca660c50>,\n",
              " 'ĠCity': <gensim.models.keyedvectors.Vocab at 0x7f59ca660c88>,\n",
              " 'ĠCounty': <gensim.models.keyedvectors.Vocab at 0x7f59ca660cc0>,\n",
              " 'Ġdata': <gensim.models.keyedvectors.Vocab at 0x7f59ca660cf8>,\n",
              " 'at': <gensim.models.keyedvectors.Vocab at 0x7f59ca660d30>,\n",
              " 'Ġalready': <gensim.models.keyedvectors.Vocab at 0x7f59ca660d68>,\n",
              " 'd': <gensim.models.keyedvectors.Vocab at 0x7f59ca660da0>,\n",
              " 'Ġmoney': <gensim.models.keyedvectors.Vocab at 0x7f59ca660dd8>,\n",
              " 'Ġearly': <gensim.models.keyedvectors.Vocab at 0x7f59ca660e10>,\n",
              " 'Ġacross': <gensim.models.keyedvectors.Vocab at 0x7f59ca660e48>,\n",
              " 'Ġexpected': <gensim.models.keyedvectors.Vocab at 0x7f59ca660e80>,\n",
              " 'Ġrun': <gensim.models.keyedvectors.Vocab at 0x7f59ca660eb8>,\n",
              " 'Ġlater': <gensim.models.keyedvectors.Vocab at 0x7f59ca660ef0>,\n",
              " 'am': <gensim.models.keyedvectors.Vocab at 0x7f59ca660f28>,\n",
              " 'Ġprice': <gensim.models.keyedvectors.Vocab at 0x7f59ca660f60>,\n",
              " 'Ġgames': <gensim.models.keyedvectors.Vocab at 0x7f59ca660f98>,\n",
              " 'ĠMr': <gensim.models.keyedvectors.Vocab at 0x7f59ca660fd0>,\n",
              " 'b': <gensim.models.keyedvectors.Vocab at 0x7f59ca663048>,\n",
              " 'Ġmight': <gensim.models.keyedvectors.Vocab at 0x7f59ca663080>,\n",
              " 'Ġdifferent': <gensim.models.keyedvectors.Vocab at 0x7f59ca6630b8>,\n",
              " 'Ġreported': <gensim.models.keyedvectors.Vocab at 0x7f59ca6630f0>,\n",
              " 'Ġdeal': <gensim.models.keyedvectors.Vocab at 0x7f59ca663128>,\n",
              " 'Ġmedia': <gensim.models.keyedvectors.Vocab at 0x7f59ca663160>,\n",
              " 'Ġgrowth': <gensim.models.keyedvectors.Vocab at 0x7f59ca663198>,\n",
              " 'Ġcommunity': <gensim.models.keyedvectors.Vocab at 0x7f59ca6631d0>,\n",
              " 'ĠChina': <gensim.models.keyedvectors.Vocab at 0x7f59ca663208>,\n",
              " \"'m\": <gensim.models.keyedvectors.Vocab at 0x7f59ca663240>,\n",
              " 'c': <gensim.models.keyedvectors.Vocab at 0x7f59ca663278>,\n",
              " 'Ġwent': <gensim.models.keyedvectors.Vocab at 0x7f59ca6632b0>,\n",
              " 'ĠNo': <gensim.models.keyedvectors.Vocab at 0x7f59ca6632e8>,\n",
              " 'Ġable': <gensim.models.keyedvectors.Vocab at 0x7f59ca663320>,\n",
              " 'Ġmaking': <gensim.models.keyedvectors.Vocab at 0x7f59ca663358>,\n",
              " 'Ġarea': <gensim.models.keyedvectors.Vocab at 0x7f59ca663390>,\n",
              " 'Ġfar': <gensim.models.keyedvectors.Vocab at 0x7f59ca6633c8>,\n",
              " 'Ġstatement': <gensim.models.keyedvectors.Vocab at 0x7f59ca663400>,\n",
              " 'ĠHouse': <gensim.models.keyedvectors.Vocab at 0x7f59ca663438>,\n",
              " 'Ġworking': <gensim.models.keyedvectors.Vocab at 0x7f59ca663470>,\n",
              " 'M': <gensim.models.keyedvectors.Vocab at 0x7f59ca6634a8>,\n",
              " 'Ġk': <gensim.models.keyedvectors.Vocab at 0x7f59ca6634e0>,\n",
              " 'Ġseen': <gensim.models.keyedvectors.Vocab at 0x7f59ca663518>,\n",
              " 'Ġcompanies': <gensim.models.keyedvectors.Vocab at 0x7f59ca663550>,\n",
              " 'Ġtoday': <gensim.models.keyedvectors.Vocab at 0x7f59ca663588>,\n",
              " 'Ġmembers': <gensim.models.keyedvectors.Vocab at 0x7f59ca6635c0>,\n",
              " 'Ġuntil': <gensim.models.keyedvectors.Vocab at 0x7f59ca6635f8>,\n",
              " 'Ġfull': <gensim.models.keyedvectors.Vocab at 0x7f59ca663630>,\n",
              " 'Ġagain': <gensim.models.keyedvectors.Vocab at 0x7f59ca663668>,\n",
              " 'Ġhalf': <gensim.models.keyedvectors.Vocab at 0x7f59ca6636a0>,\n",
              " 'Ġshare': <gensim.models.keyedvectors.Vocab at 0x7f59ca6636d8>,\n",
              " 'le': <gensim.models.keyedvectors.Vocab at 0x7f59ca663710>,\n",
              " 'Ġalways': <gensim.models.keyedvectors.Vocab at 0x7f59ca663748>,\n",
              " 'Ġcourt': <gensim.models.keyedvectors.Vocab at 0x7f59ca663780>,\n",
              " 'l': <gensim.models.keyedvectors.Vocab at 0x7f59ca6637b8>,\n",
              " 'and': <gensim.models.keyedvectors.Vocab at 0x7f59ca6637f0>,\n",
              " 'Ġchange': <gensim.models.keyedvectors.Vocab at 0x7f59ca663828>,\n",
              " 'Ġfind': <gensim.models.keyedvectors.Vocab at 0x7f59ca663860>,\n",
              " '9': <gensim.models.keyedvectors.Vocab at 0x7f59ca663898>,\n",
              " 'Ġsystem': <gensim.models.keyedvectors.Vocab at 0x7f59ca6638d0>,\n",
              " 'ĠV': <gensim.models.keyedvectors.Vocab at 0x7f59ca663908>,\n",
              " 'ĠYork': <gensim.models.keyedvectors.Vocab at 0x7f59ca663940>,\n",
              " 'ĠAmerican': <gensim.models.keyedvectors.Vocab at 0x7f59ca663978>,\n",
              " 'Ġhead': <gensim.models.keyedvectors.Vocab at 0x7f59ca6639b0>,\n",
              " 'Ġplayers': <gensim.models.keyedvectors.Vocab at 0x7f59ca6639e8>,\n",
              " 'Ġdoes': <gensim.models.keyedvectors.Vocab at 0x7f59ca663a20>,\n",
              " 'Ġhealth': <gensim.models.keyedvectors.Vocab at 0x7f59ca663a58>,\n",
              " 'Ġm': <gensim.models.keyedvectors.Vocab at 0x7f59ca663a90>,\n",
              " 'Ġpower': <gensim.models.keyedvectors.Vocab at 0x7f59ca663ac8>,\n",
              " 'Ġpoint': <gensim.models.keyedvectors.Vocab at 0x7f59ca663b00>,\n",
              " 'Ġhit': <gensim.models.keyedvectors.Vocab at 0x7f59ca663b38>,\n",
              " 'Ġ.': <gensim.models.keyedvectors.Vocab at 0x7f59ca663b70>,\n",
              " 'Ġ--': <gensim.models.keyedvectors.Vocab at 0x7f59ca663ba8>,\n",
              " 'Ġfree': <gensim.models.keyedvectors.Vocab at 0x7f59ca663be0>,\n",
              " '.,': <gensim.models.keyedvectors.Vocab at 0x7f59ca663c18>,\n",
              " 'Ġlead': <gensim.models.keyedvectors.Vocab at 0x7f59ca663c50>,\n",
              " 'Ġseveral': <gensim.models.keyedvectors.Vocab at 0x7f59ca663c88>,\n",
              " 'Ġrecent': <gensim.models.keyedvectors.Vocab at 0x7f59ca663cc0>,\n",
              " 'Ġcall': <gensim.models.keyedvectors.Vocab at 0x7f59ca663cf8>,\n",
              " 'N': <gensim.models.keyedvectors.Vocab at 0x7f59ca663d30>,\n",
              " 'Ġlaw': <gensim.models.keyedvectors.Vocab at 0x7f59ca663d68>,\n",
              " 'Ġkeep': <gensim.models.keyedvectors.Vocab at 0x7f59ca663da0>,\n",
              " 'Ġopen': <gensim.models.keyedvectors.Vocab at 0x7f59ca663dd8>,\n",
              " 'ĠNews': <gensim.models.keyedvectors.Vocab at 0x7f59ca663e10>,\n",
              " 'Ġgive': <gensim.models.keyedvectors.Vocab at 0x7f59ca663e48>,\n",
              " 'ia': <gensim.models.keyedvectors.Vocab at 0x7f59ca663e80>,\n",
              " 'ĠMarch': <gensim.models.keyedvectors.Vocab at 0x7f59ca663eb8>,\n",
              " 'D': <gensim.models.keyedvectors.Vocab at 0x7f59ca663ef0>,\n",
              " 'ĠNational': <gensim.models.keyedvectors.Vocab at 0x7f59ca663f28>,\n",
              " 'ĠAt': <gensim.models.keyedvectors.Vocab at 0x7f59ca663f60>,\n",
              " 'Ġtimes': <gensim.models.keyedvectors.Vocab at 0x7f59ca663f98>,\n",
              " 'Ġfuture': <gensim.models.keyedvectors.Vocab at 0x7f59ca663fd0>,\n",
              " 'R': <gensim.models.keyedvectors.Vocab at 0x7f59ca666048>,\n",
              " 'Ġ14': <gensim.models.keyedvectors.Vocab at 0x7f59ca666080>,\n",
              " 'ĠJune': <gensim.models.keyedvectors.Vocab at 0x7f59ca6660b8>,\n",
              " 'Ġofficials': <gensim.models.keyedvectors.Vocab at 0x7f59ca6660f0>,\n",
              " 'Ġ18': <gensim.models.keyedvectors.Vocab at 0x7f59ca666128>,\n",
              " 'Ġimportant': <gensim.models.keyedvectors.Vocab at 0x7f59ca666160>,\n",
              " 'f': <gensim.models.keyedvectors.Vocab at 0x7f59ca666198>,\n",
              " 'Ġfinal': <gensim.models.keyedvectors.Vocab at 0x7f59ca6661d0>,\n",
              " 'Ġ13': <gensim.models.keyedvectors.Vocab at 0x7f59ca666208>,\n",
              " 'ĠOne': <gensim.models.keyedvectors.Vocab at 0x7f59ca666240>,\n",
              " 'P': <gensim.models.keyedvectors.Vocab at 0x7f59ca666278>,\n",
              " 'Ġfollowing': <gensim.models.keyedvectors.Vocab at 0x7f59ca6662b0>,\n",
              " 'Ġcar': <gensim.models.keyedvectors.Vocab at 0x7f59ca6662e8>,\n",
              " 'Ġleast': <gensim.models.keyedvectors.Vocab at 0x7f59ca666320>,\n",
              " 'Ġwater': <gensim.models.keyedvectors.Vocab at 0x7f59ca666358>,\n",
              " 'Ġevent': <gensim.models.keyedvectors.Vocab at 0x7f59ca666390>,\n",
              " 'Ġline': <gensim.models.keyedvectors.Vocab at 0x7f59ca6663c8>,\n",
              " 'Ġmove': <gensim.models.keyedvectors.Vocab at 0x7f59ca666400>,\n",
              " 'Ġservices': <gensim.models.keyedvectors.Vocab at 0x7f59ca666438>,\n",
              " 'Ġhaving': <gensim.models.keyedvectors.Vocab at 0x7f59ca666470>,\n",
              " 'ĠWhen': <gensim.models.keyedvectors.Vocab at 0x7f59ca6664a8>,\n",
              " 'Ġstudents': <gensim.models.keyedvectors.Vocab at 0x7f59ca6664e0>,\n",
              " 'ĠPolice': <gensim.models.keyedvectors.Vocab at 0x7f59ca666518>,\n",
              " 'el': <gensim.models.keyedvectors.Vocab at 0x7f59ca666550>,\n",
              " 'Ġam': <gensim.models.keyedvectors.Vocab at 0x7f59ca666588>,\n",
              " 'ĠZ': <gensim.models.keyedvectors.Vocab at 0x7f59ca6665c0>,\n",
              " 'Ġside': <gensim.models.keyedvectors.Vocab at 0x7f59ca6665f8>,\n",
              " 'Ġstory': <gensim.models.keyedvectors.Vocab at 0x7f59ca666630>,\n",
              " 'Ġdue': <gensim.models.keyedvectors.Vocab at 0x7f59ca666668>,\n",
              " 'Ġmeeting': <gensim.models.keyedvectors.Vocab at 0x7f59ca6666a0>,\n",
              " 'K': <gensim.models.keyedvectors.Vocab at 0x7f59ca6666d8>,\n",
              " 'Ġmust': <gensim.models.keyedvectors.Vocab at 0x7f59ca666710>,\n",
              " 'ĠStates': <gensim.models.keyedvectors.Vocab at 0x7f59ca666748>,\n",
              " 'Ġlikely': <gensim.models.keyedvectors.Vocab at 0x7f59ca666780>,\n",
              " 'G': <gensim.models.keyedvectors.Vocab at 0x7f59ca6667b8>,\n",
              " 'Ġcontinue': <gensim.models.keyedvectors.Vocab at 0x7f59ca6667f0>,\n",
              " 'Ġago': <gensim.models.keyedvectors.Vocab at 0x7f59ca666828>,\n",
              " 'Ġparty': <gensim.models.keyedvectors.Vocab at 0x7f59ca666860>,\n",
              " 'Ġmajor': <gensim.models.keyedvectors.Vocab at 0x7f59ca666898>,\n",
              " 'Ġindustry': <gensim.models.keyedvectors.Vocab at 0x7f59ca6668d0>,\n",
              " 'Ġless': <gensim.models.keyedvectors.Vocab at 0x7f59ca666908>,\n",
              " '30': <gensim.models.keyedvectors.Vocab at 0x7f59ca666940>,\n",
              " 'Ġun': <gensim.models.keyedvectors.Vocab at 0x7f59ca666978>,\n",
              " 'Ġhard': <gensim.models.keyedvectors.Vocab at 0x7f59ca6669b0>,\n",
              " 'Ġservice': <gensim.models.keyedvectors.Vocab at 0x7f59ca6669e8>,\n",
              " 'Ġ16': <gensim.models.keyedvectors.Vocab at 0x7f59ca666a20>,\n",
              " 'Ġlooking': <gensim.models.keyedvectors.Vocab at 0x7f59ca666a58>,\n",
              " 'Ġheld': <gensim.models.keyedvectors.Vocab at 0x7f59ca666a90>,\n",
              " 've': <gensim.models.keyedvectors.Vocab at 0x7f59ca666ac8>,\n",
              " 'Ġwhether': <gensim.models.keyedvectors.Vocab at 0x7f59ca666b00>,\n",
              " 'ĠJuly': <gensim.models.keyedvectors.Vocab at 0x7f59ca666b38>,\n",
              " 'Ġtaken': <gensim.models.keyedvectors.Vocab at 0x7f59ca666b70>,\n",
              " 'Ġalong': <gensim.models.keyedvectors.Vocab at 0x7f59ca666ba8>,\n",
              " 'Ġasked': <gensim.models.keyedvectors.Vocab at 0x7f59ca666be0>,\n",
              " 'Ġstarted': <gensim.models.keyedvectors.Vocab at 0x7f59ca666c18>,\n",
              " 'Ġbecome': <gensim.models.keyedvectors.Vocab at 0x7f59ca666c50>,\n",
              " 'Ġforward': <gensim.models.keyedvectors.Vocab at 0x7f59ca666c88>,\n",
              " 'Ġresearch': <gensim.models.keyedvectors.Vocab at 0x7f59ca666cc0>,\n",
              " 'Ġoffice': <gensim.models.keyedvectors.Vocab at 0x7f59ca666cf8>,\n",
              " 'Ġpolitical': <gensim.models.keyedvectors.Vocab at 0x7f59ca666d30>,\n",
              " 'to': <gensim.models.keyedvectors.Vocab at 0x7f59ca666d68>,\n",
              " 'Ġtogether': <gensim.models.keyedvectors.Vocab at 0x7f59ca666da0>,\n",
              " 'Ġgetting': <gensim.models.keyedvectors.Vocab at 0x7f59ca666dd8>,\n",
              " 'Ġplan': <gensim.models.keyedvectors.Vocab at 0x7f59ca666e10>,\n",
              " 'Ġ25': <gensim.models.keyedvectors.Vocab at 0x7f59ca666e48>,\n",
              " 'T': <gensim.models.keyedvectors.Vocab at 0x7f59ca666e80>,\n",
              " 'Ġamong': <gensim.models.keyedvectors.Vocab at 0x7f59ca666eb8>,\n",
              " 'Ġcoming': <gensim.models.keyedvectors.Vocab at 0x7f59ca666ef0>,\n",
              " 'Ġdecision': <gensim.models.keyedvectors.Vocab at 0x7f59ca666f28>,\n",
              " 'Ġvideo': <gensim.models.keyedvectors.Vocab at 0x7f59ca666f60>,\n",
              " 'Ġ2015': <gensim.models.keyedvectors.Vocab at 0x7f59ca666f98>,\n",
              " 'g': <gensim.models.keyedvectors.Vocab at 0x7f59ca666fd0>,\n",
              " 'ĠAfter': <gensim.models.keyedvectors.Vocab at 0x7f59ca66b048>,\n",
              " 'Ġsecurity': <gensim.models.keyedvectors.Vocab at 0x7f59ca66b080>,\n",
              " 'L': <gensim.models.keyedvectors.Vocab at 0x7f59ca66b0b8>,\n",
              " 'Ġcare': <gensim.models.keyedvectors.Vocab at 0x7f59ca66b0f0>,\n",
              " 'Ġgiven': <gensim.models.keyedvectors.Vocab at 0x7f59ca66b128>,\n",
              " 'Ġavailable': <gensim.models.keyedvectors.Vocab at 0x7f59ca66b160>,\n",
              " 'âĢĶ': <gensim.models.keyedvectors.Vocab at 0x7f59ca66b198>,\n",
              " 'Ġs': <gensim.models.keyedvectors.Vocab at 0x7f59ca66b1d0>,\n",
              " 'ĠWest': <gensim.models.keyedvectors.Vocab at 0x7f59ca66b208>,\n",
              " \"'ll\": <gensim.models.keyedvectors.Vocab at 0x7f59ca66b240>,\n",
              " 'Ġpay': <gensim.models.keyedvectors.Vocab at 0x7f59ca66b278>,\n",
              " 'Ġnear': <gensim.models.keyedvectors.Vocab at 0x7f59ca66b2b0>,\n",
              " 'Ġsaying': <gensim.models.keyedvectors.Vocab at 0x7f59ca66b2e8>,\n",
              " 'Ġannounced': <gensim.models.keyedvectors.Vocab at 0x7f59ca66b320>,\n",
              " 'Ġprogram': <gensim.models.keyedvectors.Vocab at 0x7f59ca66b358>,\n",
              " 'ĠApril': <gensim.models.keyedvectors.Vocab at 0x7f59ca66b390>,\n",
              " 'Ġreal': <gensim.models.keyedvectors.Vocab at 0x7f59ca66b3c8>,\n",
              " 'ĠUniversity': <gensim.models.keyedvectors.Vocab at 0x7f59ca66b400>,\n",
              " 'ĠWith': <gensim.models.keyedvectors.Vocab at 0x7f59ca66b438>,\n",
              " 'AP': <gensim.models.keyedvectors.Vocab at 0x7f59ca66b470>,\n",
              " 'Ġsocial': <gensim.models.keyedvectors.Vocab at 0x7f59ca66b4a8>,\n",
              " 'Ġclose': <gensim.models.keyedvectors.Vocab at 0x7f59ca66b4e0>,\n",
              " 'et': <gensim.models.keyedvectors.Vocab at 0x7f59ca66b518>,\n",
              " 'Ġcurrent': <gensim.models.keyedvectors.Vocab at 0x7f59ca66b550>,\n",
              " 'Ġwhy': <gensim.models.keyedvectors.Vocab at 0x7f59ca66b588>,\n",
              " 'F': <gensim.models.keyedvectors.Vocab at 0x7f59ca66b5c0>,\n",
              " 'ĠTo': <gensim.models.keyedvectors.Vocab at 0x7f59ca66b5f8>,\n",
              " 'ĠTwitter': <gensim.models.keyedvectors.Vocab at 0x7f59ca66b630>,\n",
              " 'Ġthough': <gensim.models.keyedvectors.Vocab at 0x7f59ca66b668>,\n",
              " 'Ġ17': <gensim.models.keyedvectors.Vocab at 0x7f59ca66b6a0>,\n",
              " 'Ġtaking': <gensim.models.keyedvectors.Vocab at 0x7f59ca66b6d8>,\n",
              " 'ĠInc': <gensim.models.keyedvectors.Vocab at 0x7f59ca66b710>,\n",
              " 'Ġmen': <gensim.models.keyedvectors.Vocab at 0x7f59ca66b748>,\n",
              " 'w': <gensim.models.keyedvectors.Vocab at 0x7f59ca66b780>,\n",
              " 'Ġcomes': <gensim.models.keyedvectors.Vocab at 0x7f59ca66b7b8>,\n",
              " 'ley': <gensim.models.keyedvectors.Vocab at 0x7f59ca66b7f0>,\n",
              " 'Ġdoing': <gensim.models.keyedvectors.Vocab at 0x7f59ca66b828>,\n",
              " 'Ġprocess': <gensim.models.keyedvectors.Vocab at 0x7f59ca66b860>,\n",
              " 'ĠJohn': <gensim.models.keyedvectors.Vocab at 0x7f59ca66b898>,\n",
              " 'ch': <gensim.models.keyedvectors.Vocab at 0x7f59ca66b8d0>,\n",
              " '00': <gensim.models.keyedvectors.Vocab at 0x7f59ca66b908>,\n",
              " 'Ġfinancial': <gensim.models.keyedvectors.Vocab at 0x7f59ca66b940>,\n",
              " 'Ġlow': <gensim.models.keyedvectors.Vocab at 0x7f59ca66b978>,\n",
              " 'Ġenough': <gensim.models.keyedvectors.Vocab at 0x7f59ca66b9b0>,\n",
              " 'ĠWhile': <gensim.models.keyedvectors.Vocab at 0x7f59ca66b9e8>,\n",
              " 'Ġfurther': <gensim.models.keyedvectors.Vocab at 0x7f59ca66ba20>,\n",
              " 'Ġpost': <gensim.models.keyedvectors.Vocab at 0x7f59ca66ba58>,\n",
              " 'Ġfeel': <gensim.models.keyedvectors.Vocab at 0x7f59ca66ba90>,\n",
              " 'st': <gensim.models.keyedvectors.Vocab at 0x7f59ca66bac8>,\n",
              " 'Ġperson': <gensim.models.keyedvectors.Vocab at 0x7f59ca66bb00>,\n",
              " 'ĠFacebook': <gensim.models.keyedvectors.Vocab at 0x7f59ca66bb38>,\n",
              " 'ĠWorld': <gensim.models.keyedvectors.Vocab at 0x7f59ca66bb70>,\n",
              " 'Ġwithin': <gensim.models.keyedvectors.Vocab at 0x7f59ca66bba8>,\n",
              " 'ad': <gensim.models.keyedvectors.Vocab at 0x7f59ca66bbe0>,\n",
              " 'Ġdone': <gensim.models.keyedvectors.Vocab at 0x7f59ca66bc18>,\n",
              " 'the': <gensim.models.keyedvectors.Vocab at 0x7f59ca66bc50>,\n",
              " 'Ġlate': <gensim.models.keyedvectors.Vocab at 0x7f59ca66bc88>,\n",
              " 'Ġtax': <gensim.models.keyedvectors.Vocab at 0x7f59ca66bcc0>,\n",
              " 'Ġdoesn': <gensim.models.keyedvectors.Vocab at 0x7f59ca66bcf8>,\n",
              " 'Ġthing': <gensim.models.keyedvectors.Vocab at 0x7f59ca66bd30>,\n",
              " 'Ġnational': <gensim.models.keyedvectors.Vocab at 0x7f59ca66bd68>,\n",
              " 'Ġjob': <gensim.models.keyedvectors.Vocab at 0x7f59ca66bda0>,\n",
              " 'Ġusing': <gensim.models.keyedvectors.Vocab at 0x7f59ca66bdd8>,\n",
              " 'ĠHowever': <gensim.models.keyedvectors.Vocab at 0x7f59ca66be10>,\n",
              " 'ic': <gensim.models.keyedvectors.Vocab at 0x7f59ca66be48>,\n",
              " 'Ġcampaign': <gensim.models.keyedvectors.Vocab at 0x7f59ca66be80>,\n",
              " 'Ġrecord': <gensim.models.keyedvectors.Vocab at 0x7f59ca66beb8>,\n",
              " 'Ġbehind': <gensim.models.keyedvectors.Vocab at 0x7f59ca66bef0>,\n",
              " '://': <gensim.models.keyedvectors.Vocab at 0x7f59ca66bf28>,\n",
              " 'ĠDepartment': <gensim.models.keyedvectors.Vocab at 0x7f59ca66bf60>,\n",
              " 'p': <gensim.models.keyedvectors.Vocab at 0x7f59ca66bf98>,\n",
              " 'Ġothers': <gensim.models.keyedvectors.Vocab at 0x7f59ca66bfd0>,\n",
              " 'ĠJanuary': <gensim.models.keyedvectors.Vocab at 0x7f59ca66e048>,\n",
              " 'Ġorder': <gensim.models.keyedvectors.Vocab at 0x7f59ca66e080>,\n",
              " 'Ġ[': <gensim.models.keyedvectors.Vocab at 0x7f59ca66e0b8>,\n",
              " 'Ġsales': <gensim.models.keyedvectors.Vocab at 0x7f59ca66e0f0>,\n",
              " 'Ġyet': <gensim.models.keyedvectors.Vocab at 0x7f59ca66e128>,\n",
              " 'Ä': <gensim.models.keyedvectors.Vocab at 0x7f59ca66e160>,\n",
              " 'Ġsmall': <gensim.models.keyedvectors.Vocab at 0x7f59ca66e198>,\n",
              " 'Ġseries': <gensim.models.keyedvectors.Vocab at 0x7f59ca66e1d0>,\n",
              " 'Ġface': <gensim.models.keyedvectors.Vocab at 0x7f59ca66e208>,\n",
              " 'ĠWhat': <gensim.models.keyedvectors.Vocab at 0x7f59ca66e240>,\n",
              " 'Ġ50': <gensim.models.keyedvectors.Vocab at 0x7f59ca66e278>,\n",
              " 'Ġever': <gensim.models.keyedvectors.Vocab at 0x7f59ca66e2b0>,\n",
              " 'Ġearlier': <gensim.models.keyedvectors.Vocab at 0x7f59ca66e2e8>,\n",
              " 'Ġlove': <gensim.models.keyedvectors.Vocab at 0x7f59ca66e320>,\n",
              " 'up': <gensim.models.keyedvectors.Vocab at 0x7f59ca66e358>,\n",
              " 'Ġrights': <gensim.models.keyedvectors.Vocab at 0x7f59ca66e390>,\n",
              " 'ĠAn': <gensim.models.keyedvectors.Vocab at 0x7f59ca66e3c8>,\n",
              " 'ist': <gensim.models.keyedvectors.Vocab at 0x7f59ca66e400>,\n",
              " 'Ġmorning': <gensim.models.keyedvectors.Vocab at 0x7f59ca66e438>,\n",
              " 'ĠWashington': <gensim.models.keyedvectors.Vocab at 0x7f59ca66e470>,\n",
              " 'Ġyoung': <gensim.models.keyedvectors.Vocab at 0x7f59ca66e4a8>,\n",
              " 'Ġlatest': <gensim.models.keyedvectors.Vocab at 0x7f59ca66e4e0>,\n",
              " 'ĠIndia': <gensim.models.keyedvectors.Vocab at 0x7f59ca66e518>,\n",
              " 'Ġtrying': <gensim.models.keyedvectors.Vocab at 0x7f59ca66e550>,\n",
              " 'Ġfire': <gensim.models.keyedvectors.Vocab at 0x7f59ca66e588>,\n",
              " 'Ġled': <gensim.models.keyedvectors.Vocab at 0x7f59ca66e5c0>,\n",
              " 'Ġstrong': <gensim.models.keyedvectors.Vocab at 0x7f59ca66e5f8>,\n",
              " 'Ġreturn': <gensim.models.keyedvectors.Vocab at 0x7f59ca66e630>,\n",
              " 'Ġlevel': <gensim.models.keyedvectors.Vocab at 0x7f59ca66e668>,\n",
              " 'O': <gensim.models.keyedvectors.Vocab at 0x7f59ca66e6a0>,\n",
              " 'Ġaverage': <gensim.models.keyedvectors.Vocab at 0x7f59ca66e6d8>,\n",
              " 'Ġperiod': <gensim.models.keyedvectors.Vocab at 0x7f59ca66e710>,\n",
              " 'Ġexperience': <gensim.models.keyedvectors.Vocab at 0x7f59ca66e748>,\n",
              " 'ak': <gensim.models.keyedvectors.Vocab at 0x7f59ca66e780>,\n",
              " 'Ġpossible': <gensim.models.keyedvectors.Vocab at 0x7f59ca66e7b8>,\n",
              " 'Ġbelieve': <gensim.models.keyedvectors.Vocab at 0x7f59ca66e7f0>,\n",
              " 'Ġinclude': <gensim.models.keyedvectors.Vocab at 0x7f59ca66e828>,\n",
              " 'Ġoil': <gensim.models.keyedvectors.Vocab at 0x7f59ca66e860>,\n",
              " 'Ġrecently': <gensim.models.keyedvectors.Vocab at 0x7f59ca66e898>,\n",
              " 'Ġonce': <gensim.models.keyedvectors.Vocab at 0x7f59ca66e8d0>,\n",
              " 'Ġknown': <gensim.models.keyedvectors.Vocab at 0x7f59ca66e908>,\n",
              " 'Ġlost': <gensim.models.keyedvectors.Vocab at 0x7f59ca66e940>,\n",
              " 'Ġsure': <gensim.models.keyedvectors.Vocab at 0x7f59ca66e978>,\n",
              " 'us': <gensim.models.keyedvectors.Vocab at 0x7f59ca66e9b0>,\n",
              " 'Ġweeks': <gensim.models.keyedvectors.Vocab at 0x7f59ca66e9e8>,\n",
              " 'Ġfood': <gensim.models.keyedvectors.Vocab at 0x7f59ca66ea20>,\n",
              " 'Ġreports': <gensim.models.keyedvectors.Vocab at 0x7f59ca66ea58>,\n",
              " 'Ġrating': <gensim.models.keyedvectors.Vocab at 0x7f59ca66ea90>,\n",
              " 'ĠMinister': <gensim.models.keyedvectors.Vocab at 0x7f59ca66eac8>,\n",
              " 'Ġwoman': <gensim.models.keyedvectors.Vocab at 0x7f59ca66eb00>,\n",
              " 'Ġprovide': <gensim.models.keyedvectors.Vocab at 0x7f59ca66eb38>,\n",
              " 'Ġproject': <gensim.models.keyedvectors.Vocab at 0x7f59ca66eb70>,\n",
              " 'Ġissue': <gensim.models.keyedvectors.Vocab at 0x7f59ca66eba8>,\n",
              " 'Ġlive': <gensim.models.keyedvectors.Vocab at 0x7f59ca66ebe0>,\n",
              " '10': <gensim.models.keyedvectors.Vocab at 0x7f59ca66ec18>,\n",
              " 'Ġclear': <gensim.models.keyedvectors.Vocab at 0x7f59ca66ec50>,\n",
              " 'he': <gensim.models.keyedvectors.Vocab at 0x7f59ca66ec88>,\n",
              " 'Ġcost': <gensim.models.keyedvectors.Vocab at 0x7f59ca66ecc0>,\n",
              " 'Ġplayed': <gensim.models.keyedvectors.Vocab at 0x7f59ca66ecf8>,\n",
              " 'Ġreleased': <gensim.models.keyedvectors.Vocab at 0x7f59ca66ed30>,\n",
              " 'Ġcoach': <gensim.models.keyedvectors.Vocab at 0x7f59ca66ed68>,\n",
              " 'v': <gensim.models.keyedvectors.Vocab at 0x7f59ca66eda0>,\n",
              " 'Ġ24': <gensim.models.keyedvectors.Vocab at 0x7f59ca66edd8>,\n",
              " 'Ġseven': <gensim.models.keyedvectors.Vocab at 0x7f59ca66ee10>,\n",
              " 'Ġplans': <gensim.models.keyedvectors.Vocab at 0x7f59ca66ee48>,\n",
              " 'Ġdevelopment': <gensim.models.keyedvectors.Vocab at 0x7f59ca66ee80>,\n",
              " 'ur': <gensim.models.keyedvectors.Vocab at 0x7f59ca66eeb8>,\n",
              " 'ĺ': <gensim.models.keyedvectors.Vocab at 0x7f59ca66eef0>,\n",
              " 'Ġincrease': <gensim.models.keyedvectors.Vocab at 0x7f59ca66ef28>,\n",
              " 'This': <gensim.models.keyedvectors.Vocab at 0x7f59ca66ef60>,\n",
              " 'Ġpolicy': <gensim.models.keyedvectors.Vocab at 0x7f59ca66ef98>,\n",
              " 'Ġcent': <gensim.models.keyedvectors.Vocab at 0x7f59ca66efd0>,\n",
              " 'Ġbased': <gensim.models.keyedvectors.Vocab at 0x7f59ca673048>,\n",
              " 'E': <gensim.models.keyedvectors.Vocab at 0x7f59ca673080>,\n",
              " 'il': <gensim.models.keyedvectors.Vocab at 0x7f59ca6730b8>,\n",
              " 'ĠDecember': <gensim.models.keyedvectors.Vocab at 0x7f59ca6730f0>,\n",
              " 'Ġglobal': <gensim.models.keyedvectors.Vocab at 0x7f59ca673128>,\n",
              " 'Ġtrade': <gensim.models.keyedvectors.Vocab at 0x7f59ca673160>,\n",
              " 'Ġhours': <gensim.models.keyedvectors.Vocab at 0x7f59ca673198>,\n",
              " 'Ġhigher': <gensim.models.keyedvectors.Vocab at 0x7f59ca6731d0>,\n",
              " 'Ġgoal': <gensim.models.keyedvectors.Vocab at 0x7f59ca673208>,\n",
              " 'H': <gensim.models.keyedvectors.Vocab at 0x7f59ca673240>,\n",
              " 'ĠAl': <gensim.models.keyedvectors.Vocab at 0x7f59ca673278>,\n",
              " 'Ġ100': <gensim.models.keyedvectors.Vocab at 0x7f59ca6732b0>,\n",
              " 'Ġminutes': <gensim.models.keyedvectors.Vocab at 0x7f59ca6732e8>,\n",
              " 'Ġelection': <gensim.models.keyedvectors.Vocab at 0x7f59ca673320>,\n",
              " 'ĠAmerica': <gensim.models.keyedvectors.Vocab at 0x7f59ca673358>,\n",
              " 'Ġrate': <gensim.models.keyedvectors.Vocab at 0x7f59ca673390>,\n",
              " 'ĠCh': <gensim.models.keyedvectors.Vocab at 0x7f59ca6733c8>,\n",
              " 'Ġ21': <gensim.models.keyedvectors.Vocab at 0x7f59ca673400>,\n",
              " '...': <gensim.models.keyedvectors.Vocab at 0x7f59ca673438>,\n",
              " 'ĠWhite': <gensim.models.keyedvectors.Vocab at 0x7f59ca673470>,\n",
              " 'Ġdirector': <gensim.models.keyedvectors.Vocab at 0x7f59ca6734a8>,\n",
              " 'Ġposition': <gensim.models.keyedvectors.Vocab at 0x7f59ca6734e0>,\n",
              " 'Ġshot': <gensim.models.keyedvectors.Vocab at 0x7f59ca673518>,\n",
              " 'Ġlarge': <gensim.models.keyedvectors.Vocab at 0x7f59ca673550>,\n",
              " 'Ġc': <gensim.models.keyedvectors.Vocab at 0x7f59ca673588>,\n",
              " 'Ġb': <gensim.models.keyedvectors.Vocab at 0x7f59ca6735c0>,\n",
              " ']': <gensim.models.keyedvectors.Vocab at 0x7f59ca6735f8>,\n",
              " 'Ġissues': <gensim.models.keyedvectors.Vocab at 0x7f59ca673630>,\n",
              " 'Ġdeath': <gensim.models.keyedvectors.Vocab at 0x7f59ca673668>,\n",
              " 'Ġbuilding': <gensim.models.keyedvectors.Vocab at 0x7f59ca6736a0>,\n",
              " 'Ġtotal': <gensim.models.keyedvectors.Vocab at 0x7f59ca6736d8>,\n",
              " 'Ġoften': <gensim.models.keyedvectors.Vocab at 0x7f59ca673710>,\n",
              " 'Ġv': <gensim.models.keyedvectors.Vocab at 0x7f59ca673748>,\n",
              " 'Ġcountries': <gensim.models.keyedvectors.Vocab at 0x7f59ca673780>,\n",
              " 'Ġhistory': <gensim.models.keyedvectors.Vocab at 0x7f59ca6737b8>,\n",
              " 'Ġoutside': <gensim.models.keyedvectors.Vocab at 0x7f59ca6737f0>,\n",
              " 'Ġfederal': <gensim.models.keyedvectors.Vocab at 0x7f59ca673828>,\n",
              " 'Ġ19': <gensim.models.keyedvectors.Vocab at 0x7f59ca673860>,\n",
              " 'Ġfact': <gensim.models.keyedvectors.Vocab at 0x7f59ca673898>,\n",
              " 'ĠHigh': <gensim.models.keyedvectors.Vocab at 0x7f59ca6738d0>,\n",
              " 'Ġcareer': <gensim.models.keyedvectors.Vocab at 0x7f59ca673908>,\n",
              " 'im': <gensim.models.keyedvectors.Vocab at 0x7f59ca673940>,\n",
              " 'Ġinternational': <gensim.models.keyedvectors.Vocab at 0x7f59ca673978>,\n",
              " 'ĠNovember': <gensim.models.keyedvectors.Vocab at 0x7f59ca6739b0>,\n",
              " 'Ġfront': <gensim.models.keyedvectors.Vocab at 0x7f59ca6739e8>,\n",
              " 'Ġkind': <gensim.models.keyedvectors.Vocab at 0x7f59ca673a20>,\n",
              " 'Ġkey': <gensim.models.keyedvectors.Vocab at 0x7f59ca673a58>,\n",
              " 'ra': <gensim.models.keyedvectors.Vocab at 0x7f59ca673a90>,\n",
              " 'ĠSan': <gensim.models.keyedvectors.Vocab at 0x7f59ca673ac8>,\n",
              " 'Ġshort': <gensim.models.keyedvectors.Vocab at 0x7f59ca673b00>,\n",
              " 'Ġname': <gensim.models.keyedvectors.Vocab at 0x7f59ca673b38>,\n",
              " 'ĠAccording': <gensim.models.keyedvectors.Vocab at 0x7f59ca673b70>,\n",
              " 'Ġcourse': <gensim.models.keyedvectors.Vocab at 0x7f59ca673ba8>,\n",
              " 'Ġre': <gensim.models.keyedvectors.Vocab at 0x7f59ca673be0>,\n",
              " 'Ġwanted': <gensim.models.keyedvectors.Vocab at 0x7f59ca673c18>,\n",
              " 'W': <gensim.models.keyedvectors.Vocab at 0x7f59ca673c50>,\n",
              " 'ĠSeptember': <gensim.models.keyedvectors.Vocab at 0x7f59ca673c88>,\n",
              " 'Ġinterest': <gensim.models.keyedvectors.Vocab at 0x7f59ca673cc0>,\n",
              " 'Ġrole': <gensim.models.keyedvectors.Vocab at 0x7f59ca673cf8>,\n",
              " 'Ġresults': <gensim.models.keyedvectors.Vocab at 0x7f59ca673d30>,\n",
              " 'Ġeconomic': <gensim.models.keyedvectors.Vocab at 0x7f59ca673d68>,\n",
              " 'Ġ2014': <gensim.models.keyedvectors.Vocab at 0x7f59ca673da0>,\n",
              " 'Ġchance': <gensim.models.keyedvectors.Vocab at 0x7f59ca673dd8>,\n",
              " 'ĠOctober': <gensim.models.keyedvectors.Vocab at 0x7f59ca673e10>,\n",
              " 'Ġspecial': <gensim.models.keyedvectors.Vocab at 0x7f59ca673e48>,\n",
              " 'Ġofficial': <gensim.models.keyedvectors.Vocab at 0x7f59ca673e80>,\n",
              " 'Ġneeds': <gensim.models.keyedvectors.Vocab at 0x7f59ca673eb8>,\n",
              " 'um': <gensim.models.keyedvectors.Vocab at 0x7f59ca673ef0>,\n",
              " 'Ġl': <gensim.models.keyedvectors.Vocab at 0x7f59ca673f28>,\n",
              " 'Ġproducts': <gensim.models.keyedvectors.Vocab at 0x7f59ca673f60>,\n",
              " 'Ġnon': <gensim.models.keyedvectors.Vocab at 0x7f59ca673f98>,\n",
              " 'Ġ@': <gensim.models.keyedvectors.Vocab at 0x7f59ca673fd0>,\n",
              " 'ĠBank': <gensim.models.keyedvectors.Vocab at 0x7f59ca677048>,\n",
              " 'Ġahead': <gensim.models.keyedvectors.Vocab at 0x7f59ca677080>,\n",
              " 'Ġhouse': <gensim.models.keyedvectors.Vocab at 0x7f59ca6770b8>,\n",
              " 'U': <gensim.models.keyedvectors.Vocab at 0x7f59ca6770f0>,\n",
              " 'Ġboard': <gensim.models.keyedvectors.Vocab at 0x7f59ca677128>,\n",
              " 'Ġold': <gensim.models.keyedvectors.Vocab at 0x7f59ca677160>,\n",
              " 'Ġsaw': <gensim.models.keyedvectors.Vocab at 0x7f59ca677198>,\n",
              " 'Ġlower': <gensim.models.keyedvectors.Vocab at 0x7f59ca6771d0>,\n",
              " 'ĠEuropean': <gensim.models.keyedvectors.Vocab at 0x7f59ca677208>,\n",
              " 'Ġcontrol': <gensim.models.keyedvectors.Vocab at 0x7f59ca677240>,\n",
              " 'ĠRussia': <gensim.models.keyedvectors.Vocab at 0x7f59ca677278>,\n",
              " 'Ġeight': <gensim.models.keyedvectors.Vocab at 0x7f59ca6772b0>,\n",
              " 'Ġrelease': <gensim.models.keyedvectors.Vocab at 0x7f59ca6772e8>,\n",
              " 'Ġpotential': <gensim.models.keyedvectors.Vocab at 0x7f59ca677320>,\n",
              " 'Ġthought': <gensim.models.keyedvectors.Vocab at 0x7f59ca677358>,\n",
              " 'Ġinvestigation': <gensim.models.keyedvectors.Vocab at 0x7f59ca677390>,\n",
              " 'Ġonline': <gensim.models.keyedvectors.Vocab at 0x7f59ca6773c8>,\n",
              " 'based': <gensim.models.keyedvectors.Vocab at 0x7f59ca677400>,\n",
              " 'Ġtechnology': <gensim.models.keyedvectors.Vocab at 0x7f59ca677438>,\n",
              " 'ĠDonald': <gensim.models.keyedvectors.Vocab at 0x7f59ca677470>,\n",
              " 'id': <gensim.models.keyedvectors.Vocab at 0x7f59ca6774a8>,\n",
              " 'Ġbody': <gensim.models.keyedvectors.Vocab at 0x7f59ca6774e0>,\n",
              " 'Ġrisk': <gensim.models.keyedvectors.Vocab at 0x7f59ca677518>,\n",
              " 'ian': <gensim.models.keyedvectors.Vocab at 0x7f59ca677550>,\n",
              " 'Ġcapital': <gensim.models.keyedvectors.Vocab at 0x7f59ca677588>,\n",
              " 'Ġstaff': <gensim.models.keyedvectors.Vocab at 0x7f59ca6775c0>,\n",
              " 'Ġaction': <gensim.models.keyedvectors.Vocab at 0x7f59ca6775f8>,\n",
              " 'ĠLeague': <gensim.models.keyedvectors.Vocab at 0x7f59ca677630>,\n",
              " 'Ġplaying': <gensim.models.keyedvectors.Vocab at 0x7f59ca677668>,\n",
              " 'Ġmakes': <gensim.models.keyedvectors.Vocab at 0x7f59ca6776a0>,\n",
              " 'Ġalmost': <gensim.models.keyedvectors.Vocab at 0x7f59ca6776d8>,\n",
              " 'Ġperformance': <gensim.models.keyedvectors.Vocab at 0x7f59ca677710>,\n",
              " 'Ġ22': <gensim.models.keyedvectors.Vocab at 0x7f59ca677748>,\n",
              " 'Ġg': <gensim.models.keyedvectors.Vocab at 0x7f59ca677780>,\n",
              " 'Ġfilm': <gensim.models.keyedvectors.Vocab at 0x7f59ca6777b8>,\n",
              " 'Ġnearly': <gensim.models.keyedvectors.Vocab at 0x7f59ca6777f0>,\n",
              " 'ĠCenter': <gensim.models.keyedvectors.Vocab at 0x7f59ca677828>,\n",
              " 'Ġvisit': <gensim.models.keyedvectors.Vocab at 0x7f59ca677860>,\n",
              " 'ĠGroup': <gensim.models.keyedvectors.Vocab at 0x7f59ca677898>,\n",
              " 'Ġbank': <gensim.models.keyedvectors.Vocab at 0x7f59ca6778d0>,\n",
              " 'Ġbit': <gensim.models.keyedvectors.Vocab at 0x7f59ca677908>,\n",
              " 'Ġreceived': <gensim.models.keyedvectors.Vocab at 0x7f59ca677940>,\n",
              " 'ĠAugust': <gensim.models.keyedvectors.Vocab at 0x7f59ca677978>,\n",
              " 'Ġmilitary': <gensim.models.keyedvectors.Vocab at 0x7f59ca6779b0>,\n",
              " 'ĠHis': <gensim.models.keyedvectors.Vocab at 0x7f59ca6779e8>,\n",
              " 'ine': <gensim.models.keyedvectors.Vocab at 0x7f59ca677a20>,\n",
              " 'Ġchief': <gensim.models.keyedvectors.Vocab at 0x7f59ca677a58>,\n",
              " 'ĠSchool': <gensim.models.keyedvectors.Vocab at 0x7f59ca677a90>,\n",
              " 'Ġbring': <gensim.models.keyedvectors.Vocab at 0x7f59ca677ac8>,\n",
              " 'ĠCourt': <gensim.models.keyedvectors.Vocab at 0x7f59ca677b00>,\n",
              " 'Ġ(@': <gensim.models.keyedvectors.Vocab at 0x7f59ca677b38>,\n",
              " 'Ġmeans': <gensim.models.keyedvectors.Vocab at 0x7f59ca677b70>,\n",
              " 'ĠSh': <gensim.models.keyedvectors.Vocab at 0x7f59ca677ba8>,\n",
              " 'Ġfans': <gensim.models.keyedvectors.Vocab at 0x7f59ca677be0>,\n",
              " 'Ġse': <gensim.models.keyedvectors.Vocab at 0x7f59ca677c18>,\n",
              " 'Ġ40': <gensim.models.keyedvectors.Vocab at 0x7f59ca677c50>,\n",
              " '20': <gensim.models.keyedvectors.Vocab at 0x7f59ca677c88>,\n",
              " '\".': <gensim.models.keyedvectors.Vocab at 0x7f59ca677cc0>,\n",
              " 'V': <gensim.models.keyedvectors.Vocab at 0x7f59ca677cf8>,\n",
              " 'Ġcut': <gensim.models.keyedvectors.Vocab at 0x7f59ca677d30>,\n",
              " 'Ġkilled': <gensim.models.keyedvectors.Vocab at 0x7f59ca677d68>,\n",
              " 'Ġ#': <gensim.models.keyedvectors.Vocab at 0x7f59ca677da0>,\n",
              " 'Ġprices': <gensim.models.keyedvectors.Vocab at 0x7f59ca677dd8>,\n",
              " 'Ġgave': <gensim.models.keyedvectors.Vocab at 0x7f59ca677e10>,\n",
              " 'ĠStreet': <gensim.models.keyedvectors.Vocab at 0x7f59ca677e48>,\n",
              " 'ir': <gensim.models.keyedvectors.Vocab at 0x7f59ca677e80>,\n",
              " 'ĠY': <gensim.models.keyedvectors.Vocab at 0x7f59ca677eb8>,\n",
              " 'Ġcurrently': <gensim.models.keyedvectors.Vocab at 0x7f59ca677ef0>,\n",
              " 'Ġf': <gensim.models.keyedvectors.Vocab at 0x7f59ca677f28>,\n",
              " 'ay': <gensim.models.keyedvectors.Vocab at 0x7f59ca677f60>,\n",
              " 'ne': <gensim.models.keyedvectors.Vocab at 0x7f59ca677f98>,\n",
              " 'te': <gensim.models.keyedvectors.Vocab at 0x7f59ca677fd0>,\n",
              " 'Ġtry': <gensim.models.keyedvectors.Vocab at 0x7f59ca67d048>,\n",
              " 'ĠPark': <gensim.models.keyedvectors.Vocab at 0x7f59ca67d080>,\n",
              " 'ĥ': <gensim.models.keyedvectors.Vocab at 0x7f59ca67d0b8>,\n",
              " 'J': <gensim.models.keyedvectors.Vocab at 0x7f59ca67d0f0>,\n",
              " 'Ġquestion': <gensim.models.keyedvectors.Vocab at 0x7f59ca67d128>,\n",
              " 'Ġhand': <gensim.models.keyedvectors.Vocab at 0x7f59ca67d160>,\n",
              " 'Ġeconomy': <gensim.models.keyedvectors.Vocab at 0x7f59ca67d198>,\n",
              " 'Ġinvestors': <gensim.models.keyedvectors.Vocab at 0x7f59ca67d1d0>,\n",
              " 'able': <gensim.models.keyedvectors.Vocab at 0x7f59ca67d208>,\n",
              " 'Ġplayer': <gensim.models.keyedvectors.Vocab at 0x7f59ca67d240>,\n",
              " 'ĠBy': <gensim.models.keyedvectors.Vocab at 0x7f59ca67d278>,\n",
              " 'ĠDavid': <gensim.models.keyedvectors.Vocab at 0x7f59ca67d2b0>,\n",
              " 'Ġloss': <gensim.models.keyedvectors.Vocab at 0x7f59ca67d2e8>,\n",
              " 'ab': <gensim.models.keyedvectors.Vocab at 0x7f59ca67d320>,\n",
              " 'Ġbelow': <gensim.models.keyedvectors.Vocab at 0x7f59ca67d358>,\n",
              " 'Ġwrote': <gensim.models.keyedvectors.Vocab at 0x7f59ca67d390>,\n",
              " 'co': <gensim.models.keyedvectors.Vocab at 0x7f59ca67d3c8>,\n",
              " 'ate': <gensim.models.keyedvectors.Vocab at 0x7f59ca67d400>,\n",
              " 'Ġrunning': <gensim.models.keyedvectors.Vocab at 0x7f59ca67d438>,\n",
              " 'un': <gensim.models.keyedvectors.Vocab at 0x7f59ca67d470>,\n",
              " 'Ġbegan': <gensim.models.keyedvectors.Vocab at 0x7f59ca67d4a8>,\n",
              " 'Ġsingle': <gensim.models.keyedvectors.Vocab at 0x7f59ca67d4e0>,\n",
              " 'Ġfield': <gensim.models.keyedvectors.Vocab at 0x7f59ca67d518>,\n",
              " 'Ġ23': <gensim.models.keyedvectors.Vocab at 0x7f59ca67d550>,\n",
              " 'Ġleader': <gensim.models.keyedvectors.Vocab at 0x7f59ca67d588>,\n",
              " 'Ġw': <gensim.models.keyedvectors.Vocab at 0x7f59ca67d5c0>,\n",
              " 'ĠCalifornia': <gensim.models.keyedvectors.Vocab at 0x7f59ca67d5f8>,\n",
              " 'Ġfourth': <gensim.models.keyedvectors.Vocab at 0x7f59ca67d630>,\n",
              " 'Ġactually': <gensim.models.keyedvectors.Vocab at 0x7f59ca67d668>,\n",
              " 'Ġlist': <gensim.models.keyedvectors.Vocab at 0x7f59ca67d6a0>,\n",
              " 'll': <gensim.models.keyedvectors.Vocab at 0x7f59ca67d6d8>,\n",
              " 'Ġcouple': <gensim.models.keyedvectors.Vocab at 0x7f59ca67d710>,\n",
              " 'Ġstudy': <gensim.models.keyedvectors.Vocab at 0x7f59ca67d748>,\n",
              " 'Ġteams': <gensim.models.keyedvectors.Vocab at 0x7f59ca67d780>,\n",
              " 'He': <gensim.models.keyedvectors.Vocab at 0x7f59ca67d7b8>,\n",
              " 'ah': <gensim.models.keyedvectors.Vocab at 0x7f59ca67d7f0>,\n",
              " 'ĠCanada': <gensim.models.keyedvectors.Vocab at 0x7f59ca67d828>,\n",
              " 'Ġla': <gensim.models.keyedvectors.Vocab at 0x7f59ca67d860>,\n",
              " 'Ġresult': <gensim.models.keyedvectors.Vocab at 0x7f59ca67d898>,\n",
              " 'Ġaccess': <gensim.models.keyedvectors.Vocab at 0x7f59ca67d8d0>,\n",
              " 'Ġvote': <gensim.models.keyedvectors.Vocab at 0x7f59ca67d908>,\n",
              " 'ĠMore': <gensim.models.keyedvectors.Vocab at 0x7f59ca67d940>,\n",
              " 'ĠFebruary': <gensim.models.keyedvectors.Vocab at 0x7f59ca67d978>,\n",
              " 'Ġrevenue': <gensim.models.keyedvectors.Vocab at 0x7f59ca67d9b0>,\n",
              " 'Ġoffer': <gensim.models.keyedvectors.Vocab at 0x7f59ca67d9e8>,\n",
              " 'Ġlet': <gensim.models.keyedvectors.Vocab at 0x7f59ca67da20>,\n",
              " 'ier': <gensim.models.keyedvectors.Vocab at 0x7f59ca67da58>,\n",
              " 'Ġbuy': <gensim.models.keyedvectors.Vocab at 0x7f59ca67da90>,\n",
              " 'Ġattack': <gensim.models.keyedvectors.Vocab at 0x7f59ca67dac8>,\n",
              " 'Ġblack': <gensim.models.keyedvectors.Vocab at 0x7f59ca67db00>,\n",
              " 'Ġr': <gensim.models.keyedvectors.Vocab at 0x7f59ca67db38>,\n",
              " 'Ġareas': <gensim.models.keyedvectors.Vocab at 0x7f59ca67db70>,\n",
              " 'Ġstop': <gensim.models.keyedvectors.Vocab at 0x7f59ca67dba8>,\n",
              " 'Ġimpact': <gensim.models.keyedvectors.Vocab at 0x7f59ca67dbe0>,\n",
              " 'Ġmatch': <gensim.models.keyedvectors.Vocab at 0x7f59ca67dc18>,\n",
              " 'Ġinvestment': <gensim.models.keyedvectors.Vocab at 0x7f59ca67dc50>,\n",
              " 'Ġcustomers': <gensim.models.keyedvectors.Vocab at 0x7f59ca67dc88>,\n",
              " 'Ġleaders': <gensim.models.keyedvectors.Vocab at 0x7f59ca67dcc0>,\n",
              " 'ies': <gensim.models.keyedvectors.Vocab at 0x7f59ca67dcf8>,\n",
              " 'Ġmember': <gensim.models.keyedvectors.Vocab at 0x7f59ca67dd30>,\n",
              " 'Ġchild': <gensim.models.keyedvectors.Vocab at 0x7f59ca67dd68>,\n",
              " 'Ġroad': <gensim.models.keyedvectors.Vocab at 0x7f59ca67dda0>,\n",
              " 'ul': <gensim.models.keyedvectors.Vocab at 0x7f59ca67ddd8>,\n",
              " 'Ġvalue': <gensim.models.keyedvectors.Vocab at 0x7f59ca67de10>,\n",
              " 'Ġshows': <gensim.models.keyedvectors.Vocab at 0x7f59ca67de48>,\n",
              " 'ĠDr': <gensim.models.keyedvectors.Vocab at 0x7f59ca67de80>,\n",
              " 'ĠDe': <gensim.models.keyedvectors.Vocab at 0x7f59ca67deb8>,\n",
              " 'ant': <gensim.models.keyedvectors.Vocab at 0x7f59ca67def0>,\n",
              " 'ĠLondon': <gensim.models.keyedvectors.Vocab at 0x7f59ca67df28>,\n",
              " 'Ġroom': <gensim.models.keyedvectors.Vocab at 0x7f59ca67df60>,\n",
              " 'Ġmusic': <gensim.models.keyedvectors.Vocab at 0x7f59ca67df98>,\n",
              " 'Ġproduction': <gensim.models.keyedvectors.Vocab at 0x7f59ca67dfd0>,\n",
              " 'Ġanything': <gensim.models.keyedvectors.Vocab at 0x7f59ca680048>,\n",
              " 'Ġfirm': <gensim.models.keyedvectors.Vocab at 0x7f59ca680080>,\n",
              " 'Ġbiggest': <gensim.models.keyedvectors.Vocab at 0x7f59ca6800b8>,\n",
              " 'Ġair': <gensim.models.keyedvectors.Vocab at 0x7f59ca6800f0>,\n",
              " 'Ġproblem': <gensim.models.keyedvectors.Vocab at 0x7f59ca680128>,\n",
              " 'Ġgeneral': <gensim.models.keyedvectors.Vocab at 0x7f59ca680160>,\n",
              " 'Ġwasn': <gensim.models.keyedvectors.Vocab at 0x7f59ca680198>,\n",
              " 'Ġi': <gensim.models.keyedvectors.Vocab at 0x7f59ca6801d0>,\n",
              " 'Ġprivate': <gensim.models.keyedvectors.Vocab at 0x7f59ca680208>,\n",
              " 'Ġespecially': <gensim.models.keyedvectors.Vocab at 0x7f59ca680240>,\n",
              " 'Ġadministration': <gensim.models.keyedvectors.Vocab at 0x7f59ca680278>,\n",
              " 'Ġadditional': <gensim.models.keyedvectors.Vocab at 0x7f59ca6802b0>,\n",
              " 'ĠCo': <gensim.models.keyedvectors.Vocab at 0x7f59ca6802e8>,\n",
              " 'Ġopportunity': <gensim.models.keyedvectors.Vocab at 0x7f59ca680320>,\n",
              " 'Ġhold': <gensim.models.keyedvectors.Vocab at 0x7f59ca680358>,\n",
              " '&': <gensim.models.keyedvectors.Vocab at 0x7f59ca680390>,\n",
              " 'Ġmatter': <gensim.models.keyedvectors.Vocab at 0x7f59ca6803c8>,\n",
              " 'Ġsenior': <gensim.models.keyedvectors.Vocab at 0x7f59ca680400>,\n",
              " 'Ġclub': <gensim.models.keyedvectors.Vocab at 0x7f59ca680438>,\n",
              " 'Ġsomeone': <gensim.models.keyedvectors.Vocab at 0x7f59ca680470>,\n",
              " 'ĠÃ': <gensim.models.keyedvectors.Vocab at 0x7f59ca6804a8>,\n",
              " 'ĠEast': <gensim.models.keyedvectors.Vocab at 0x7f59ca6804e0>,\n",
              " 'Ġ2019': <gensim.models.keyedvectors.Vocab at 0x7f59ca680518>,\n",
              " \".'\": <gensim.models.keyedvectors.Vocab at 0x7f59ca680550>,\n",
              " 'Ġneeded': <gensim.models.keyedvectors.Vocab at 0x7f59ca680588>,\n",
              " 'ĠJames': <gensim.models.keyedvectors.Vocab at 0x7f59ca6805c0>,\n",
              " 'time': <gensim.models.keyedvectors.Vocab at 0x7f59ca6805f8>,\n",
              " 'Ġhowever': <gensim.models.keyedvectors.Vocab at 0x7f59ca680630>,\n",
              " 'Ġeverything': <gensim.models.keyedvectors.Vocab at 0x7f59ca680668>,\n",
              " 'Ġeveryone': <gensim.models.keyedvectors.Vocab at 0x7f59ca6806a0>,\n",
              " 'Ġdied': <gensim.models.keyedvectors.Vocab at 0x7f59ca6806d8>,\n",
              " 'Ġinvolved': <gensim.models.keyedvectors.Vocab at 0x7f59ca680710>,\n",
              " 'Ġfriends': <gensim.models.keyedvectors.Vocab at 0x7f59ca680748>,\n",
              " 'Ġisn': <gensim.models.keyedvectors.Vocab at 0x7f59ca680780>,\n",
              " 'Ġworth': <gensim.models.keyedvectors.Vocab at 0x7f59ca6807b8>,\n",
              " 'ik': <gensim.models.keyedvectors.Vocab at 0x7f59ca6807f0>,\n",
              " 'ĠCup': <gensim.models.keyedvectors.Vocab at 0x7f59ca680828>,\n",
              " 'Ġshowed': <gensim.models.keyedvectors.Vocab at 0x7f59ca680860>,\n",
              " 'There': <gensim.models.keyedvectors.Vocab at 0x7f59ca680898>,\n",
              " 'Ġ28': <gensim.models.keyedvectors.Vocab at 0x7f59ca6808d0>,\n",
              " 'Ġmeet': <gensim.models.keyedvectors.Vocab at 0x7f59ca680908>,\n",
              " 'Ġ26': <gensim.models.keyedvectors.Vocab at 0x7f59ca680940>,\n",
              " 'Ġ27': <gensim.models.keyedvectors.Vocab at 0x7f59ca680978>,\n",
              " 'Y': <gensim.models.keyedvectors.Vocab at 0x7f59ca6809b0>,\n",
              " 'Ġregion': <gensim.models.keyedvectors.Vocab at 0x7f59ca6809e8>,\n",
              " 'ĠPress': <gensim.models.keyedvectors.Vocab at 0x7f59ca680a20>,\n",
              " 'ĠNow': <gensim.models.keyedvectors.Vocab at 0x7f59ca680a58>,\n",
              " 'Ġson': <gensim.models.keyedvectors.Vocab at 0x7f59ca680a90>,\n",
              " 'Ġspace': <gensim.models.keyedvectors.Vocab at 0x7f59ca680ac8>,\n",
              " 'Ġleading': <gensim.models.keyedvectors.Vocab at 0x7f59ca680b00>,\n",
              " 'Ġstates': <gensim.models.keyedvectors.Vocab at 0x7f59ca680b38>,\n",
              " 'Ġweekend': <gensim.models.keyedvectors.Vocab at 0x7f59ca680b70>,\n",
              " 'ĠÂ£': <gensim.models.keyedvectors.Vocab at 0x7f59ca680ba8>,\n",
              " 'Ġmother': <gensim.models.keyedvectors.Vocab at 0x7f59ca680be0>,\n",
              " 'Ġprevious': <gensim.models.keyedvectors.Vocab at 0x7f59ca680c18>,\n",
              " 'ĠUK': <gensim.models.keyedvectors.Vocab at 0x7f59ca680c50>,\n",
              " 'ĠMichael': <gensim.models.keyedvectors.Vocab at 0x7f59ca680c88>,\n",
              " 'Ġleave': <gensim.models.keyedvectors.Vocab at 0x7f59ca680cc0>,\n",
              " 'est': <gensim.models.keyedvectors.Vocab at 0x7f59ca680cf8>,\n",
              " 'em': <gensim.models.keyedvectors.Vocab at 0x7f59ca680d30>,\n",
              " 'Ġz': <gensim.models.keyedvectors.Vocab at 0x7f59ca680d68>,\n",
              " 'ĠSome': <gensim.models.keyedvectors.Vocab at 0x7f59ca680da0>,\n",
              " 'ors': <gensim.models.keyedvectors.Vocab at 0x7f59ca680dd8>,\n",
              " 'out': <gensim.models.keyedvectors.Vocab at 0x7f59ca680e10>,\n",
              " '15': <gensim.models.keyedvectors.Vocab at 0x7f59ca680e48>,\n",
              " 'Ġwar': <gensim.models.keyedvectors.Vocab at 0x7f59ca680e80>,\n",
              " 'Ġwebsite': <gensim.models.keyedvectors.Vocab at 0x7f59ca680eb8>,\n",
              " 'Ġstar': <gensim.models.keyedvectors.Vocab at 0x7f59ca680ef0>,\n",
              " ...}"
            ]
          },
          "metadata": {
            "tags": []
          },
          "execution_count": 41
        }
      ]
    },
    {
      "cell_type": "code",
      "metadata": {
        "colab": {
          "base_uri": "https://localhost:8080/"
        },
        "id": "vap4apESQlfz",
        "outputId": "a9947f0f-512a-4fdb-e134-dc48294aac28"
      },
      "source": [
        "model.wv.save(DIR)"
      ],
      "execution_count": null,
      "outputs": [
        {
          "output_type": "stream",
          "text": [
            "INFO:gensim.utils:saving Word2VecKeyedVectors object under ../../gdrive/MyDrive/DeepLearning/MT/bpe_en/word2vec.kv, separately None\n",
            "INFO:gensim.utils:not storing attribute vectors_norm\n",
            "INFO:gensim.utils:saved ../../gdrive/MyDrive/DeepLearning/MT/bpe_en/word2vec.kv\n"
          ],
          "name": "stderr"
        }
      ]
    },
    {
      "cell_type": "code",
      "metadata": {
        "colab": {
          "base_uri": "https://localhost:8080/"
        },
        "id": "Ttd4LDKmTDZg",
        "outputId": "de60511e-5574-415b-acb1-42f3102aa48f"
      },
      "source": [
        "from gensim.models import KeyedVectors\n",
        "tmp = KeyedVectors.load(DIR, mmap='r')"
      ],
      "execution_count": null,
      "outputs": [
        {
          "output_type": "stream",
          "text": [
            "INFO:gensim.utils:loading Word2VecKeyedVectors object from ../../gdrive/MyDrive/DeepLearning/MT/bpe_en/word2vec.kv\n",
            "INFO:gensim.utils:setting ignored attribute vectors_norm to None\n",
            "INFO:gensim.utils:loaded ../../gdrive/MyDrive/DeepLearning/MT/bpe_en/word2vec.kv\n"
          ],
          "name": "stderr"
        }
      ]
    },
    {
      "cell_type": "code",
      "metadata": {
        "colab": {
          "base_uri": "https://localhost:8080/"
        },
        "id": "UK5QqOQ1TT4O",
        "outputId": "1af0ee9f-62a6-4121-d538-9bb79021125c"
      },
      "source": [
        ""
      ],
      "execution_count": null,
      "outputs": [
        {
          "output_type": "execute_result",
          "data": {
            "text/plain": [
              "gensim.models.keyedvectors.Word2VecKeyedVectors"
            ]
          },
          "metadata": {
            "tags": []
          },
          "execution_count": 45
        }
      ]
    },
    {
      "cell_type": "markdown",
      "metadata": {
        "id": "fIygUjtMpLj4"
      },
      "source": [
        "# VLSP Vietnamese 3Gb Text"
      ]
    },
    {
      "cell_type": "markdown",
      "metadata": {
        "id": "2CaU_mvPpRqZ"
      },
      "source": [
        "## Preparing Data"
      ]
    },
    {
      "cell_type": "code",
      "metadata": {
        "id": "gkKjKTmupELg",
        "colab": {
          "base_uri": "https://localhost:8080/"
        },
        "outputId": "102960ba-7220-404c-b58a-52d9b9d12c14"
      },
      "source": [
        "from google.colab import drive\n",
        "drive.mount('/content/gdrive')"
      ],
      "execution_count": 3,
      "outputs": [
        {
          "output_type": "stream",
          "text": [
            "Mounted at /content/gdrive\n"
          ],
          "name": "stdout"
        }
      ]
    },
    {
      "cell_type": "code",
      "metadata": {
        "id": "VfH4YN-vOsVB"
      },
      "source": [
        "from tqdm import tqdm\n",
        "import re"
      ],
      "execution_count": 4,
      "outputs": []
    },
    {
      "cell_type": "code",
      "metadata": {
        "id": "s02TE2zuOsfs",
        "colab": {
          "base_uri": "https://localhost:8080/"
        },
        "outputId": "db067239-6aef-4d3f-cdc9-f15abf7a33a4"
      },
      "source": [
        "!git clone https://github.com/TanHM-1211/Machine-Translation.git\n",
        "%cd Machine-Translation"
      ],
      "execution_count": 5,
      "outputs": [
        {
          "output_type": "stream",
          "text": [
            "Cloning into 'Machine-Translation'...\n",
            "remote: Enumerating objects: 57, done.\u001b[K\n",
            "remote: Counting objects: 100% (57/57), done.\u001b[K\n",
            "remote: Compressing objects: 100% (35/35), done.\u001b[K\n",
            "remote: Total 57 (delta 19), reused 52 (delta 14), pack-reused 0\u001b[K\n",
            "Unpacking objects: 100% (57/57), done.\n",
            "/content/Machine-Translation\n"
          ],
          "name": "stdout"
        }
      ]
    },
    {
      "cell_type": "code",
      "metadata": {
        "id": "DG21aBcWO6d3",
        "colab": {
          "base_uri": "https://localhost:8080/"
        },
        "outputId": "cfee9569-705e-472e-8f0c-f1c5607540fd"
      },
      "source": [
        "!cp '../gdrive/MyDrive/DeepLearning/MT/corpus.tokened.2M.shuf.txt.zip' './'\n",
        "!mkdir vi_data\n",
        "!unzip corpus.tokened.2M.shuf.txt.zip -d vi_data"
      ],
      "execution_count": 6,
      "outputs": [
        {
          "output_type": "stream",
          "text": [
            "Archive:  corpus.tokened.2M.shuf.txt.zip\n",
            "  inflating: vi_data/corpus.tokened.2M.shuf.txt  \n"
          ],
          "name": "stdout"
        }
      ]
    },
    {
      "cell_type": "code",
      "metadata": {
        "colab": {
          "base_uri": "https://localhost:8080/"
        },
        "id": "7xnBhN8TYYYS",
        "outputId": "70717544-fe9a-450e-8272-48574d79e88b"
      },
      "source": [
        "# f_w = open('corpus.tokened.2M.shuf.txt', 'w', encoding='utf8')\n",
        "# for file in tqdm(link):\n",
        "#     f = open(file, 'r', encoding='utf8')\n",
        "#     a = f.read().strip().split('\\n')\n",
        "#     for i in a:\n",
        "#         s = ''\n",
        "#         tmp = segmentNLP.tokenize(i)\n",
        "#         for j in tmp:\n",
        "#             s += ' '.join(j) + ' '\n",
        "#         f_w.write(s + '\\n')\n",
        "#         # f_w.write(' '.join(tmp) + '\\n')\n",
        "#     f.close()\n",
        "# f_w.close()\n",
        "!ls"
      ],
      "execution_count": 7,
      "outputs": [
        {
          "output_type": "stream",
          "text": [
            "bpe\t     corpus.tokened.2M.shuf.txt.zip  model\t    vi_data\n",
            "bpe_test.py  embedding\t\t\t     model_test.py\n"
          ],
          "name": "stdout"
        }
      ]
    },
    {
      "cell_type": "code",
      "metadata": {
        "colab": {
          "base_uri": "https://localhost:8080/"
        },
        "id": "0GZEbABkjE3b",
        "outputId": "5defe948-3b5f-40b9-d193-6e3359860013"
      },
      "source": [
        "!head vi_data/corpus.tokened.2M.shuf.txt"
      ],
      "execution_count": 8,
      "outputs": [
        {
          "output_type": "stream",
          "text": [
            "Chuyện ngược_lại diễn ra ở những nơi mại_dâm là bất_hợp_pháp . \n",
            "Cánh thuỷ_quân của quân Nguyên hoàn_toàn bị tiêu_diệt . \n",
            "Giám_đốc Bệnh_viện Bạch_Mai chỉ_đạo đoàn lên công_tác phải bằng mọi giá tập_trung nhân_lực vật_lực hỗ_trợ cho Bệnh_viện Đa_khoa Hoà_Bình , chuẩn_bị giường , máy , các phương_tiện để hỗ_trợ bệnh_nhân . \n",
            "Nghi can Duy_thực nghiệm lại hành_vi siết cổ tài_xế taxi trên XLHN để cướp tài_sản . \n",
            "Phân_chuồng có_thể làm phân_bón gốc cũng có_thể làm phân_bón thêm , phân_vô_cơ làm phân_bón thêm là tốt . \n",
            "Ra đón TBT là toàn_thể cán_bộ nhân_viên Đại_sứ_quán Việt_Nam tại LB Nga và hơn 400 người Việt sinh_sống tại thủ_đô Moskva . \n",
            "Theo Tân_Hoa xã , cảnh_sát địa_phương cho biết ngày 5/10 , nhà_chức_trách Philippines đã phá tan âm_mưu đánh bom nhằm vào một bến_xe buýt tại tỉnh Bắc_Cotabato , miền Nam_Philippines sau khi bắt một nghi can . \n",
            "Thái_độ của Zeng cũng tương_tự khi được hỏi về chiếc máy_bay vận_tải Y-20 . \n",
            "Thủ_tướng Israel phát_biểu tại Quốc_hội Mỹ Trong cử_chỉ nhằm xoa_dịu những căng_thẳng với Tổng_thống Mỹ Barack_Obama , ông Netanyahu tuyên_bố đánh_giá cao tất_cả những gì ông Obama đã làm cho Israel . \n",
            "Trong khi đó , Australia , Bỉ , Anh , Canada , Đan_Mạch , Pháp và Hà_Lan tham_gia các cuộc không_kích ở Iraq . \n"
          ],
          "name": "stdout"
        }
      ]
    },
    {
      "cell_type": "code",
      "metadata": {
        "colab": {
          "base_uri": "https://localhost:8080/"
        },
        "id": "rFY_99_r3jVR",
        "outputId": "66147eca-fe2f-4672-e5d3-f97b8e5af4f6"
      },
      "source": [
        "%cd './vi_data'\n",
        "!split -l 1000 './corpus.tokened.2M.shuf.txt' 'vi'\n",
        "%cd '..'"
      ],
      "execution_count": 9,
      "outputs": [
        {
          "output_type": "stream",
          "text": [
            "/content/Machine-Translation/vi_data\n",
            "/content/Machine-Translation\n"
          ],
          "name": "stdout"
        }
      ]
    },
    {
      "cell_type": "code",
      "metadata": {
        "id": "NQHIJ7ZU4b1Z"
      },
      "source": [
        "from os import listdir\n",
        "from os.path import isfile, join\n",
        "_path = 'vi_data'\n",
        "link = [join(_path, f) for f in listdir(_path) if isfile(join(_path, f)) and 'vi' in f]"
      ],
      "execution_count": 10,
      "outputs": []
    },
    {
      "cell_type": "code",
      "metadata": {
        "colab": {
          "base_uri": "https://localhost:8080/",
          "height": 0
        },
        "id": "7Hwtg8ew4kFP",
        "outputId": "a42682e7-2c01-4c78-a0ea-6e236da1bdfa"
      },
      "source": [
        "link[1]"
      ],
      "execution_count": 11,
      "outputs": [
        {
          "output_type": "execute_result",
          "data": {
            "application/vnd.google.colaboratory.intrinsic+json": {
              "type": "string"
            },
            "text/plain": [
              "'vi_data/vizlez'"
            ]
          },
          "metadata": {
            "tags": []
          },
          "execution_count": 11
        }
      ]
    },
    {
      "cell_type": "code",
      "metadata": {
        "id": "u8FfXSckzwe1"
      },
      "source": [
        "# !pip install vncorenlp\n",
        "# from vncorenlp import VnCoreNLP\n",
        "# !wget 'https://github.com/vncorenlp/VnCoreNLP/archive/v1.1.1.zip' -O ./models.$$ && unzip -o ./models.$$ && rm -r ./models.$$.\n",
        "# from vncorenlp import VnCoreNLP\n",
        "# segmentNLP = VnCoreNLP('./VnCoreNLP-1.1.1/VnCoreNLP-1.1.1.jar', port=9001, annotators=\"wseg,pos,ner,parse\", quiet=False)"
      ],
      "execution_count": 12,
      "outputs": []
    },
    {
      "cell_type": "code",
      "metadata": {
        "id": "t9M_a0UE6Ooo"
      },
      "source": [
        "# text = \"Ông Nguyễn Khắc Chúc đang làm việc tại Đại học Quốc gia Hà Nội.\"\n",
        "# segmentNLP.tokenize(text)"
      ],
      "execution_count": 13,
      "outputs": []
    },
    {
      "cell_type": "code",
      "metadata": {
        "id": "_QompMTWpoGe"
      },
      "source": [
        "def sentence_segment(text):\n",
        "    tmps = text.strip('\\n').split('\\n')\n",
        "    return tmps"
      ],
      "execution_count": 14,
      "outputs": []
    },
    {
      "cell_type": "markdown",
      "metadata": {
        "id": "P4dbAh2tpwed"
      },
      "source": [
        "## Train Space Word2vec"
      ]
    },
    {
      "cell_type": "code",
      "metadata": {
        "id": "ViW3Ua6jpzIh"
      },
      "source": [
        "from gensim.models import word2vec\n",
        "from time import time\n",
        "import numpy as np"
      ],
      "execution_count": 29,
      "outputs": []
    },
    {
      "cell_type": "code",
      "metadata": {
        "id": "R8Nxfej25oNo"
      },
      "source": [
        "N = 10\n",
        "EMBEDDING_SIZE = 128\n",
        "VOCAB_SIZE = 60000\n",
        "EPOCHS = 10\n",
        "DIR = '../gdrive/MyDrive/DeepLearning/MT/space_vi/word2vec.kv'"
      ],
      "execution_count": 35,
      "outputs": []
    },
    {
      "cell_type": "code",
      "metadata": {
        "colab": {
          "base_uri": "https://localhost:8080/"
        },
        "id": "YIIgQ3bk-Wpq",
        "outputId": "b8717ccf-1805-4513-a841-f8cde83a92e2"
      },
      "source": [
        "len(link)"
      ],
      "execution_count": 31,
      "outputs": [
        {
          "output_type": "execute_result",
          "data": {
            "text/plain": [
              "20000"
            ]
          },
          "metadata": {
            "tags": []
          },
          "execution_count": 31
        }
      ]
    },
    {
      "cell_type": "code",
      "metadata": {
        "id": "a6bb4U1EqslE"
      },
      "source": [
        "model = word2vec.Word2Vec(size=EMBEDDING_SIZE, window=10, iter=EPOCHS, max_final_vocab=VOCAB_SIZE,\n",
        "                               min_count=N, compute_loss=True, seed=22)"
      ],
      "execution_count": 32,
      "outputs": []
    },
    {
      "cell_type": "code",
      "metadata": {
        "colab": {
          "base_uri": "https://localhost:8080/"
        },
        "id": "DuGCu3YDqFC7",
        "outputId": "ff65f06d-4324-4993-b05e-14ebd92c7dbf"
      },
      "source": [
        "lineIter = LineIter(link, sent_segment=sentence_segment)\n",
        "model.build_vocab(sentences=lineIter, progress_per=2000000)\n",
        "print(f'vocab size = {len(model.wv.vocab)}')"
      ],
      "execution_count": 33,
      "outputs": [
        {
          "output_type": "stream",
          "text": [
            "INFO:gensim.models.word2vec:collecting all words and their counts\n",
            "INFO:gensim.models.word2vec:PROGRESS: at sentence #0, processed 0 words, keeping 0 word types\n",
            "INFO:gensim.models.word2vec:PROGRESS: at sentence #2000000, processed 56192220 words, keeping 458764 word types\n",
            "INFO:gensim.models.word2vec:PROGRESS: at sentence #4000000, processed 112377602 words, keeping 682503 word types\n",
            "INFO:gensim.models.word2vec:PROGRESS: at sentence #6000000, processed 168561125 words, keeping 857126 word types\n",
            "INFO:gensim.models.word2vec:PROGRESS: at sentence #8000000, processed 224728912 words, keeping 1005732 word types\n",
            "INFO:gensim.models.word2vec:PROGRESS: at sentence #10000000, processed 280886637 words, keeping 1135682 word types\n",
            "INFO:gensim.models.word2vec:PROGRESS: at sentence #12000000, processed 337014678 words, keeping 1253776 word types\n",
            "INFO:gensim.models.word2vec:PROGRESS: at sentence #14000000, processed 393192737 words, keeping 1362179 word types\n",
            "INFO:gensim.models.word2vec:PROGRESS: at sentence #16000000, processed 449381396 words, keeping 1463144 word types\n",
            "INFO:gensim.models.word2vec:PROGRESS: at sentence #18000000, processed 505572143 words, keeping 1557068 word types\n",
            "INFO:gensim.models.word2vec:collected 1646531 word types from a corpus of 561750752 raw words and 20000000 sentences\n",
            "INFO:gensim.models.word2vec:max_final_vocab=60000 and min_count=10 resulted in calc_min_count=84, effective_min_count=84\n",
            "INFO:gensim.models.word2vec:Loading a fresh vocabulary\n",
            "INFO:gensim.models.word2vec:effective_min_count=84 retains 59814 unique words (3% of original 1646531, drops 1586717)\n",
            "INFO:gensim.models.word2vec:effective_min_count=84 leaves 554344996 word corpus (98% of original 561750752, drops 7405756)\n",
            "INFO:gensim.models.word2vec:deleting the raw counts dictionary of 1646531 items\n",
            "INFO:gensim.models.word2vec:sample=0.001 downsamples 43 most-common words\n",
            "INFO:gensim.models.word2vec:downsampling leaves estimated 436388085 word corpus (78.7% of prior 554344996)\n",
            "INFO:gensim.models.base_any2vec:estimated required memory for 59814 words and 128 dimensions: 91156536 bytes\n",
            "INFO:gensim.models.word2vec:resetting layer weights\n"
          ],
          "name": "stderr"
        },
        {
          "output_type": "stream",
          "text": [
            "vocab size = 59814\n"
          ],
          "name": "stdout"
        }
      ]
    },
    {
      "cell_type": "code",
      "metadata": {
        "colab": {
          "base_uri": "https://localhost:8080/"
        },
        "id": "hxRNNlff8FCX",
        "outputId": "c4de0c1b-eb30-49cb-e725-91caa611d658"
      },
      "source": [
        "# model.train(lineIter, total_examples=model.corpus_count, epochs=model.iter, report_delay=600)\n",
        "model.wv.save(DIR)\n",
        "print('Space model saved complete!') "
      ],
      "execution_count": 36,
      "outputs": [
        {
          "output_type": "stream",
          "text": [
            "INFO:gensim.utils:saving Word2VecKeyedVectors object under ../gdrive/MyDrive/DeepLearning/MT/space_vi/word2vec.kv, separately None\n",
            "INFO:gensim.utils:not storing attribute vectors_norm\n",
            "INFO:gensim.utils:saved ../gdrive/MyDrive/DeepLearning/MT/space_vi/word2vec.kv\n"
          ],
          "name": "stderr"
        },
        {
          "output_type": "stream",
          "text": [
            "Space model saved complete!\n"
          ],
          "name": "stdout"
        }
      ]
    },
    {
      "cell_type": "code",
      "metadata": {
        "colab": {
          "base_uri": "https://localhost:8080/"
        },
        "id": "aZq--sSy6fTq",
        "outputId": "1c4f2a90-677c-4e76-9cb5-a099f16c03fe"
      },
      "source": [
        "model.wv.most_similar('xe_máy')"
      ],
      "execution_count": 43,
      "outputs": [
        {
          "output_type": "stream",
          "text": [
            "/usr/local/lib/python3.6/dist-packages/gensim/matutils.py:737: FutureWarning: Conversion of the second argument of issubdtype from `int` to `np.signedinteger` is deprecated. In future, it will be treated as `np.int64 == np.dtype(int).type`.\n",
            "  if np.issubdtype(vec.dtype, np.int):\n"
          ],
          "name": "stderr"
        },
        {
          "output_type": "execute_result",
          "data": {
            "text/plain": [
              "[('xe_gắn_máy', 0.9317652583122253),\n",
              " ('xe', 0.7999663949012756),\n",
              " ('xe_đạp', 0.7632004022598267),\n",
              " ('ôtô', 0.705029308795929),\n",
              " ('ô_tô', 0.7026943564414978),\n",
              " ('xe_tải', 0.6789513230323792),\n",
              " ('xe_khách', 0.6348327994346619),\n",
              " ('xe_con', 0.6344842910766602),\n",
              " ('ô-tô', 0.5954999327659607),\n",
              " ('Exciter', 0.590166449546814)]"
            ]
          },
          "metadata": {
            "tags": []
          },
          "execution_count": 43
        }
      ]
    },
    {
      "cell_type": "markdown",
      "metadata": {
        "id": "JDUcIHk2pz1j"
      },
      "source": [
        "## Train BPE Word2vec"
      ]
    },
    {
      "cell_type": "code",
      "metadata": {
        "id": "bhrsy9GHp1-2",
        "colab": {
          "base_uri": "https://localhost:8080/"
        },
        "outputId": "c22c7314-b1fc-47cf-ab7c-200679b979b5"
      },
      "source": [
        "import json\n",
        "from gensim.models import word2vec\n",
        "from time import time"
      ],
      "execution_count": 15,
      "outputs": [
        {
          "output_type": "stream",
          "text": [
            "INFO:summarizer.preprocessing.cleaner:'pattern' package not found; tag filters are not available for English\n"
          ],
          "name": "stderr"
        }
      ]
    },
    {
      "cell_type": "code",
      "metadata": {
        "id": "UcXUrri3KTEP",
        "colab": {
          "base_uri": "https://localhost:8080/"
        },
        "outputId": "4384d6da-9868-4206-905b-1695e6f0a84a"
      },
      "source": [
        "vocab = json.load(open('./bpe/resources/vocab_vi.json', 'r', encoding='utf8'))\n",
        "vocab = {k: 2 for k, v in vocab.items()}\n",
        "len(vocab)"
      ],
      "execution_count": 25,
      "outputs": [
        {
          "output_type": "execute_result",
          "data": {
            "text/plain": [
              "64000"
            ]
          },
          "metadata": {
            "tags": []
          },
          "execution_count": 25
        }
      ]
    },
    {
      "cell_type": "code",
      "metadata": {
        "id": "Y_XH-mw9KbGu"
      },
      "source": [
        "N = 2\n",
        "EMBEDDING_SIZE = 128\n",
        "VOCAB_SIZE = len(vocab)\n",
        "EPOCHS = 10\n",
        "DIR = '../gdrive/MyDrive/DeepLearning/MT/bpe_vi/word2vec.kv'"
      ],
      "execution_count": 18,
      "outputs": []
    },
    {
      "cell_type": "code",
      "metadata": {
        "id": "6wa4vaFpKuK0"
      },
      "source": [
        "from bpe.BPE_VI import BPE_VI\n",
        "bpe = BPE_VI(padding=False)"
      ],
      "execution_count": 19,
      "outputs": []
    },
    {
      "cell_type": "code",
      "metadata": {
        "id": "VUy7A-IOKicm"
      },
      "source": [
        "lineIter = LineIter(link, sent_segment=sentence_segment, tokenizer=bpe.tokenizer)"
      ],
      "execution_count": 20,
      "outputs": []
    },
    {
      "cell_type": "code",
      "metadata": {
        "colab": {
          "base_uri": "https://localhost:8080/"
        },
        "id": "33RsU1bjKzO-",
        "outputId": "927010e8-50f1-4654-f5aa-4ec8c67be59c"
      },
      "source": [
        "for j, i in enumerate(lineIter):\n",
        "    print(i)\n",
        "    if j > 10:\n",
        "        break"
      ],
      "execution_count": 22,
      "outputs": [
        {
          "output_type": "stream",
          "text": [
            "['<s>', 'Tại_sao', 'sự_việc', 'chỉ', 'xảy', 'ra', 'trong', 'một', 'khoảng', 'thời_gian', 'vô_cùng', 'ngắn', '(', '17', 'giây', ')', 'mà', 'quân_đội', 'Thổ_Nhĩ_Kỳ', 'đã', 'kịp', 'liên_lạc', 'và', 'báo_cáo', 'tình_hình', 'với', 'Thủ_tướng', ',', 'sau', 'đó', 'nhận', 'lệnh', 'và', 'thực_thi', 'mệnh_lệnh', '?', '</s>']\n",
            "['<s>', 'Vấn_đề', 'không', 'phải', 'có', 'thoả_thuận', 'hay', 'không', 'mà', 'là', 'còn', 'thiếu', 'một_số', 'điều', 'cụ_thể', '\"', '.', '</s>']\n",
            "['<s>', 'Vận_tốc', 'cực_đại', 'của', 'tiêm_kích', 'Y@@', 'F-@@', '23', '1.650', '+', 'mph', 'hay_là', 'Mach', '2.1', '.', '</s>']\n",
            "['<s>', 'Ông', 'Nguyễn_@@', 'Hữu', 'Hoà@@', 'ng-@@', 'Giám', 'đốc', 'DNTN', 'Toàn', 'Ni', ',', 'cho', 'biết', ':', 'Xưởng', 'chúng_tôi', 'có', 'khoảng', 'hơn', '20', 'công_nhân', 'đang', 'làm_việc', ',', 'khi', 'sự_việc', 'xảy', 'ra', 'chỉ', 'có', '3-4', 'công_nhân', 'đang', 'trông_coi', 'xưởng', 'và', 'tất_cả', 'các', 'công_nhân', 'này', 'đều', 'mới', 'từ', 'nơi', 'khác', 'đến', 'làm_việc', ',', 'nên', 'không', 'hề', 'có', 'xích_mích', 'gì', 'với', 'các', 'đối_tượng', 'khác', 'ở', 'nơi', 'đây', '.', '</s>']\n",
            "['<s>', 'Ông', 'nói', ':', '\"', 'Các', 'nhà_đầu_tư', 'Mỹ', 'tại', 'Ukraine', 'sẽ', 'trở_thành', 'một', 'lá_chắn', 'bảo_vệ', 'Kiev', '.', '</s>']\n",
            "['<s>', '(', 'Tin_tức', '24', 'h', ')', '-', 'Cuộc', 'biểu_tình', 'hung_hãn', 'ở', 'Đại_sứ_quán', 'Nga', 'tại', 'Kiev', 'đã', 'kết_thúc', ',', 'giao_thông', 'đã', 'được', 'khôi_phục', 'tại', 'các', 'con', 'đường', 'gần', 'đó', 'hôm', '14/6', '.', '</s>']\n",
            "['<s>', 'BBC', 'dẫn', 'lời', 'một', 'phát_ngôn_viên', 'của', 'nhóm', 'vũ_trang', 'đối_lập', 'Free_@@', 'Syri@@', 'an_@@', 'Army', 'tuyên_bố', 'nhận', 'trách_nhiệm', 'trong', 'vụ', 'tấn_công', '.', '</s>']\n",
            "['<s>', 'Bắt', 'nghi', 'can', 'giết', 'người', 'chôn', 'xác', 'ở', 'Lâm_Đồng', '.', '</s>']\n",
            "['<s>', 'Bức_xúc', ',', 'người', 'đàn_ông', 'ngoại_quốc', 'đã', 'giật', 'lấy', 'chiếc', 'điện_thoại', ',', 'đồng_thời', 'lôi', 'cả', 'xe', 'và', 'người', 'vào', 'lề_đường', '.', '</s>']\n",
            "['<s>', 'Chưa', 'phải', 'đổi', 'điều_tra_viên', 'Đại_tá', 'Nguyễn_Ngọc_@@', 'Hồng', 'nói', ':', 'Khi', 'điều_tra', ',', 'chúng_tôi', 'biết', 'Vân', 'và', 'Tiến', 'yêu', 'nhau', 'nhưng', 'Tiến', 'lợi_dụng', 'tình_cảm', ',', 'sử_dụng', 'vũ_lực', ',', 'dùng', 'mũ_bảo_hiểm', 'đánh', 'Vân', 'khi', 'em', 'mới', '14', 'tuổi', '.', '</s>']\n",
            "['<s>', 'Chủ_nhân', 'của', 'giếng_khoan', 'này', 'là', 'nông_dân', 'Trần_Văn_@@', 'Ngo@@', 'án', '.', '</s>']\n",
            "['<s>', 'Các', 'nhà', 'điều_tra', 'Mỹ', 'hồi', 'tháng', '2', 'vừa_qua', 'đã', 'thông_báo', 'về', 'một', 'trường_hợp', 'phi_công', 'liên_tục', 'chụp', 'những', 'bức', 'hình', 'tự', 'sướng', ',', 'đã', 'gây', 'ra', 'tai_nạn', 'máy_bay', ',', 'khiến', 'cả', 'hai', 'người', 'trên', 'phi_cơ', 'thiệt_mạng', '.', '</s>']\n"
          ],
          "name": "stdout"
        }
      ]
    },
    {
      "cell_type": "code",
      "metadata": {
        "id": "I299ErXbK31_",
        "colab": {
          "base_uri": "https://localhost:8080/"
        },
        "outputId": "f66dade6-001b-4442-bd82-087a980fcef0"
      },
      "source": [
        "model = word2vec.Word2Vec(size=EMBEDDING_SIZE, window=10, iter=EPOCHS,\n",
        "                               min_count=N, compute_loss=True, seed=22)\n",
        "s1 = time()\n",
        "model.build_vocab_from_freq(word_freq=vocab)\n",
        "model.build_vocab(sentences=lineIter, progress_per=2000000, update=True)\n",
        "s2 = time()"
      ],
      "execution_count": 28,
      "outputs": [
        {
          "output_type": "stream",
          "text": [
            "INFO:gensim.models.base_any2vec:Processing provided word frequencies\n",
            "INFO:gensim.models.base_any2vec:collected 64000 different raw word, with total frequency of 128000\n",
            "INFO:gensim.models.word2vec:Loading a fresh vocabulary\n",
            "INFO:gensim.models.word2vec:effective_min_count=2 retains 64000 unique words (100% of original 64000, drops 0)\n",
            "INFO:gensim.models.word2vec:effective_min_count=2 leaves 128000 word corpus (100% of original 128000, drops 0)\n",
            "INFO:gensim.models.word2vec:deleting the raw counts dictionary of 64000 items\n",
            "INFO:gensim.models.word2vec:sample=0.001 downsamples 0 most-common words\n",
            "INFO:gensim.models.word2vec:downsampling leaves estimated 128000 word corpus (100.0% of prior 128000)\n",
            "INFO:gensim.models.base_any2vec:estimated required memory for 64000 words and 128 dimensions: 97536000 bytes\n",
            "INFO:gensim.models.word2vec:resetting layer weights\n",
            "INFO:gensim.models.word2vec:collecting all words and their counts\n",
            "INFO:gensim.models.word2vec:PROGRESS: at sentence #0, processed 0 words, keeping 0 word types\n",
            "INFO:gensim.models.word2vec:PROGRESS: at sentence #2000000, processed 58353288 words, keeping 58534 word types\n",
            "INFO:gensim.models.word2vec:PROGRESS: at sentence #4000000, processed 116696193 words, keeping 59497 word types\n",
            "INFO:gensim.models.word2vec:PROGRESS: at sentence #6000000, processed 175038802 words, keeping 59948 word types\n",
            "INFO:gensim.models.word2vec:PROGRESS: at sentence #8000000, processed 233371288 words, keeping 60231 word types\n",
            "INFO:gensim.models.word2vec:PROGRESS: at sentence #10000000, processed 291686700 words, keeping 60432 word types\n",
            "INFO:gensim.models.word2vec:PROGRESS: at sentence #12000000, processed 349977333 words, keeping 60568 word types\n",
            "INFO:gensim.models.word2vec:PROGRESS: at sentence #14000000, processed 408319569 words, keeping 60668 word types\n",
            "INFO:gensim.models.word2vec:PROGRESS: at sentence #16000000, processed 466674542 words, keeping 60749 word types\n",
            "INFO:gensim.models.word2vec:PROGRESS: at sentence #18000000, processed 525026773 words, keeping 60824 word types\n",
            "INFO:gensim.models.word2vec:collected 60903 word types from a corpus of 583370376 raw words and 20000000 sentences\n",
            "INFO:gensim.models.word2vec:Updating model with new vocabulary\n",
            "INFO:gensim.models.word2vec:New added 60287 unique words (49% of original 121190) and increased the count of 60287 pre-existing words (49% of original 121190)\n",
            "INFO:gensim.models.word2vec:deleting the raw counts dictionary of 60903 items\n",
            "INFO:gensim.models.word2vec:sample=0.001 downsamples 82 most-common words\n",
            "INFO:gensim.models.word2vec:downsampling leaves estimated 936333085 word corpus (160.5% of prior 583369760)\n",
            "INFO:gensim.models.base_any2vec:estimated required memory for 120574 words and 128 dimensions: 183754776 bytes\n",
            "INFO:gensim.models.word2vec:updating layer weights\n"
          ],
          "name": "stderr"
        }
      ]
    },
    {
      "cell_type": "code",
      "metadata": {
        "id": "V4vies31LOn2",
        "colab": {
          "base_uri": "https://localhost:8080/"
        },
        "outputId": "dab9f4b8-7c7b-49b0-806e-41468ba3b314"
      },
      "source": [
        "model.train(lineIter, total_examples=model.corpus_count, epochs=model.iter, report_delay=600)"
      ],
      "execution_count": 29,
      "outputs": [
        {
          "output_type": "stream",
          "text": [
            "/usr/local/lib/python3.6/dist-packages/ipykernel_launcher.py:1: DeprecationWarning: Call to deprecated `iter` (Attribute will be removed in 4.0.0, use self.epochs instead).\n",
            "  \"\"\"Entry point for launching an IPython kernel.\n",
            "INFO:gensim.models.base_any2vec:training model with 3 workers on 64000 vocabulary and 128 features, using sg=0 hs=0 sample=0.001 negative=5 window=10\n",
            "INFO:gensim.models.base_any2vec:EPOCH 1 - PROGRESS: at 0.05% examples, 247465 words/s, in_qsize 0, out_qsize 0\n",
            "INFO:gensim.models.base_any2vec:EPOCH 1 - PROGRESS: at 33.35% examples, 259797 words/s, in_qsize 0, out_qsize 0\n",
            "INFO:gensim.models.base_any2vec:EPOCH 1 - PROGRESS: at 66.69% examples, 259905 words/s, in_qsize 1, out_qsize 0\n",
            "INFO:gensim.models.base_any2vec:worker thread finished; awaiting finish of 2 more threads\n",
            "INFO:gensim.models.base_any2vec:worker thread finished; awaiting finish of 1 more threads\n",
            "INFO:gensim.models.base_any2vec:worker thread finished; awaiting finish of 0 more threads\n",
            "INFO:gensim.models.base_any2vec:EPOCH - 1 : training on 583370376 raw words (468169462 effective words) took 1799.0s, 260237 effective words/s\n",
            "INFO:gensim.models.base_any2vec:EPOCH 2 - PROGRESS: at 0.05% examples, 247308 words/s, in_qsize 0, out_qsize 0\n",
            "INFO:gensim.models.base_any2vec:EPOCH 2 - PROGRESS: at 33.57% examples, 261492 words/s, in_qsize 0, out_qsize 1\n",
            "INFO:gensim.models.base_any2vec:EPOCH 2 - PROGRESS: at 67.07% examples, 261383 words/s, in_qsize 1, out_qsize 0\n",
            "INFO:gensim.models.base_any2vec:worker thread finished; awaiting finish of 2 more threads\n",
            "INFO:gensim.models.base_any2vec:worker thread finished; awaiting finish of 1 more threads\n",
            "INFO:gensim.models.base_any2vec:worker thread finished; awaiting finish of 0 more threads\n",
            "INFO:gensim.models.base_any2vec:EPOCH - 2 : training on 583370376 raw words (468165374 effective words) took 1790.5s, 261469 effective words/s\n",
            "INFO:gensim.models.base_any2vec:EPOCH 3 - PROGRESS: at 0.05% examples, 248883 words/s, in_qsize 0, out_qsize 0\n",
            "INFO:gensim.models.base_any2vec:EPOCH 3 - PROGRESS: at 33.50% examples, 260958 words/s, in_qsize 0, out_qsize 0\n",
            "INFO:gensim.models.base_any2vec:EPOCH 3 - PROGRESS: at 67.18% examples, 261822 words/s, in_qsize 0, out_qsize 0\n",
            "INFO:gensim.models.base_any2vec:worker thread finished; awaiting finish of 2 more threads\n",
            "INFO:gensim.models.base_any2vec:worker thread finished; awaiting finish of 1 more threads\n",
            "INFO:gensim.models.base_any2vec:worker thread finished; awaiting finish of 0 more threads\n",
            "INFO:gensim.models.base_any2vec:EPOCH - 3 : training on 583370376 raw words (468169835 effective words) took 1784.3s, 262376 effective words/s\n",
            "INFO:gensim.models.base_any2vec:EPOCH 4 - PROGRESS: at 0.06% examples, 256447 words/s, in_qsize 0, out_qsize 0\n",
            "INFO:gensim.models.base_any2vec:EPOCH 4 - PROGRESS: at 33.95% examples, 264434 words/s, in_qsize 0, out_qsize 0\n",
            "INFO:gensim.models.base_any2vec:EPOCH 4 - PROGRESS: at 67.80% examples, 264258 words/s, in_qsize 0, out_qsize 0\n",
            "INFO:gensim.models.base_any2vec:worker thread finished; awaiting finish of 2 more threads\n",
            "INFO:gensim.models.base_any2vec:worker thread finished; awaiting finish of 1 more threads\n",
            "INFO:gensim.models.base_any2vec:worker thread finished; awaiting finish of 0 more threads\n",
            "INFO:gensim.models.base_any2vec:EPOCH - 4 : training on 583370376 raw words (468169917 effective words) took 1771.1s, 264331 effective words/s\n",
            "INFO:gensim.models.base_any2vec:EPOCH 5 - PROGRESS: at 0.05% examples, 255810 words/s, in_qsize 0, out_qsize 0\n",
            "INFO:gensim.models.base_any2vec:EPOCH 5 - PROGRESS: at 34.20% examples, 266455 words/s, in_qsize 0, out_qsize 0\n",
            "INFO:gensim.models.base_any2vec:EPOCH 5 - PROGRESS: at 67.97% examples, 264925 words/s, in_qsize 0, out_qsize 0\n",
            "INFO:gensim.models.base_any2vec:worker thread finished; awaiting finish of 2 more threads\n",
            "INFO:gensim.models.base_any2vec:worker thread finished; awaiting finish of 1 more threads\n",
            "INFO:gensim.models.base_any2vec:worker thread finished; awaiting finish of 0 more threads\n",
            "INFO:gensim.models.base_any2vec:EPOCH - 5 : training on 583370376 raw words (468163812 effective words) took 1766.5s, 265025 effective words/s\n",
            "INFO:gensim.models.base_any2vec:EPOCH 6 - PROGRESS: at 0.05% examples, 252570 words/s, in_qsize 1, out_qsize 0\n",
            "INFO:gensim.models.base_any2vec:EPOCH 6 - PROGRESS: at 33.69% examples, 262413 words/s, in_qsize 0, out_qsize 0\n",
            "INFO:gensim.models.base_any2vec:EPOCH 6 - PROGRESS: at 67.17% examples, 261801 words/s, in_qsize 0, out_qsize 1\n",
            "INFO:gensim.models.base_any2vec:worker thread finished; awaiting finish of 2 more threads\n",
            "INFO:gensim.models.base_any2vec:worker thread finished; awaiting finish of 1 more threads\n",
            "INFO:gensim.models.base_any2vec:worker thread finished; awaiting finish of 0 more threads\n",
            "INFO:gensim.models.base_any2vec:EPOCH - 6 : training on 583370376 raw words (468159991 effective words) took 1786.6s, 262045 effective words/s\n",
            "INFO:gensim.models.base_any2vec:EPOCH 7 - PROGRESS: at 0.05% examples, 246524 words/s, in_qsize 0, out_qsize 0\n",
            "INFO:gensim.models.base_any2vec:EPOCH 7 - PROGRESS: at 34.03% examples, 265064 words/s, in_qsize 0, out_qsize 0\n",
            "INFO:gensim.models.base_any2vec:EPOCH 7 - PROGRESS: at 67.84% examples, 264395 words/s, in_qsize 0, out_qsize 0\n",
            "INFO:gensim.models.base_any2vec:worker thread finished; awaiting finish of 2 more threads\n",
            "INFO:gensim.models.base_any2vec:worker thread finished; awaiting finish of 1 more threads\n",
            "INFO:gensim.models.base_any2vec:worker thread finished; awaiting finish of 0 more threads\n",
            "INFO:gensim.models.base_any2vec:EPOCH - 7 : training on 583370376 raw words (468172228 effective words) took 1769.1s, 264633 effective words/s\n",
            "INFO:gensim.models.base_any2vec:EPOCH 8 - PROGRESS: at 0.05% examples, 253170 words/s, in_qsize 1, out_qsize 0\n",
            "INFO:gensim.models.base_any2vec:EPOCH 8 - PROGRESS: at 34.07% examples, 265369 words/s, in_qsize 0, out_qsize 0\n",
            "INFO:gensim.models.base_any2vec:EPOCH 8 - PROGRESS: at 67.93% examples, 264762 words/s, in_qsize 0, out_qsize 0\n",
            "INFO:gensim.models.base_any2vec:worker thread finished; awaiting finish of 2 more threads\n",
            "INFO:gensim.models.base_any2vec:worker thread finished; awaiting finish of 1 more threads\n",
            "INFO:gensim.models.base_any2vec:worker thread finished; awaiting finish of 0 more threads\n",
            "INFO:gensim.models.base_any2vec:EPOCH - 8 : training on 583370376 raw words (468169888 effective words) took 1770.3s, 264464 effective words/s\n",
            "INFO:gensim.models.base_any2vec:EPOCH 9 - PROGRESS: at 0.06% examples, 258761 words/s, in_qsize 0, out_qsize 0\n",
            "INFO:gensim.models.base_any2vec:EPOCH 9 - PROGRESS: at 34.19% examples, 266348 words/s, in_qsize 0, out_qsize 0\n",
            "INFO:gensim.models.base_any2vec:EPOCH 9 - PROGRESS: at 67.94% examples, 264809 words/s, in_qsize 0, out_qsize 0\n",
            "INFO:gensim.models.base_any2vec:worker thread finished; awaiting finish of 2 more threads\n",
            "INFO:gensim.models.base_any2vec:worker thread finished; awaiting finish of 1 more threads\n",
            "INFO:gensim.models.base_any2vec:worker thread finished; awaiting finish of 0 more threads\n",
            "INFO:gensim.models.base_any2vec:EPOCH - 9 : training on 583370376 raw words (468171690 effective words) took 1770.3s, 264464 effective words/s\n",
            "INFO:gensim.models.base_any2vec:EPOCH 10 - PROGRESS: at 0.05% examples, 255505 words/s, in_qsize 0, out_qsize 0\n",
            "INFO:gensim.models.base_any2vec:EPOCH 10 - PROGRESS: at 33.86% examples, 263751 words/s, in_qsize 0, out_qsize 0\n",
            "INFO:gensim.models.base_any2vec:EPOCH 10 - PROGRESS: at 67.80% examples, 264260 words/s, in_qsize 0, out_qsize 0\n",
            "INFO:gensim.models.base_any2vec:worker thread finished; awaiting finish of 2 more threads\n",
            "INFO:gensim.models.base_any2vec:worker thread finished; awaiting finish of 1 more threads\n",
            "INFO:gensim.models.base_any2vec:worker thread finished; awaiting finish of 0 more threads\n",
            "INFO:gensim.models.base_any2vec:EPOCH - 10 : training on 583370376 raw words (468165982 effective words) took 1770.5s, 264430 effective words/s\n",
            "INFO:gensim.models.base_any2vec:training on a 5833703760 raw words (4681678179 effective words) took 17778.3s, 263337 effective words/s\n"
          ],
          "name": "stderr"
        },
        {
          "output_type": "execute_result",
          "data": {
            "text/plain": [
              "(4681678179, 5833703760)"
            ]
          },
          "metadata": {
            "tags": []
          },
          "execution_count": 29
        }
      ]
    },
    {
      "cell_type": "code",
      "metadata": {
        "id": "ovQBnFsOLTRg",
        "colab": {
          "base_uri": "https://localhost:8080/"
        },
        "outputId": "437bd974-4584-4dc5-d552-6a67188e8956"
      },
      "source": [
        "model.wv.save(DIR)"
      ],
      "execution_count": 30,
      "outputs": [
        {
          "output_type": "stream",
          "text": [
            "INFO:gensim.utils:saving Word2VecKeyedVectors object under ../gdrive/MyDrive/DeepLearning/MT/bpe_vi/word2vec.kv, separately None\n",
            "INFO:gensim.utils:not storing attribute vectors_norm\n",
            "INFO:gensim.utils:saved ../gdrive/MyDrive/DeepLearning/MT/bpe_vi/word2vec.kv\n"
          ],
          "name": "stderr"
        }
      ]
    },
    {
      "cell_type": "code",
      "metadata": {
        "colab": {
          "base_uri": "https://localhost:8080/"
        },
        "id": "o9ALx7n-JLT5",
        "outputId": "80e89f41-614e-44ef-a884-58ecc68cbb16"
      },
      "source": [
        "model.wv.most_similar(['để'])"
      ],
      "execution_count": 37,
      "outputs": [
        {
          "output_type": "stream",
          "text": [
            "/usr/local/lib/python3.6/dist-packages/gensim/matutils.py:737: FutureWarning: Conversion of the second argument of issubdtype from `int` to `np.signedinteger` is deprecated. In future, it will be treated as `np.int64 == np.dtype(int).type`.\n",
            "  if np.issubdtype(vec.dtype, np.int):\n"
          ],
          "name": "stderr"
        },
        {
          "output_type": "execute_result",
          "data": {
            "text/plain": [
              "[('nhằm', 0.6676191091537476),\n",
              " ('Để', 0.6332790851593018),\n",
              " ('và', 0.6203718185424805),\n",
              " ('hòng', 0.5820088386535645),\n",
              " ('đồng_thời', 0.5814229249954224),\n",
              " ('thay_vì', 0.5605562925338745),\n",
              " ('.', 0.5516546964645386),\n",
              " ('cách_thức', 0.5438627600669861),\n",
              " ('việc', 0.5355466604232788),\n",
              " ('rồi', 0.5204837918281555)]"
            ]
          },
          "metadata": {
            "tags": []
          },
          "execution_count": 37
        }
      ]
    },
    {
      "cell_type": "code",
      "metadata": {
        "id": "-FlI5M1sJNnT"
      },
      "source": [
        ""
      ],
      "execution_count": 36,
      "outputs": []
    }
  ]
}